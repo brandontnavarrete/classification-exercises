{
 "cells": [
  {
   "cell_type": "code",
   "execution_count": 15,
   "id": "5b387a73",
   "metadata": {},
   "outputs": [],
   "source": [
    "import pandas as pd\n",
    "import numpy as np\n",
    "import matplotlib.pyplot as plt\n",
    "import seaborn as sns\n",
    "\n",
    "# import splitting and imputing functions\n",
    "from sklearn.model_selection import train_test_split\n",
    "from sklearn.impute import SimpleImputer\n",
    "\n",
    "\n",
    "\n",
    "# import our own acquire module\n",
    "\n",
    "import os\n",
    "import acquire\n",
    "import env\n",
    "import prepare"
   ]
  },
  {
   "cell_type": "code",
   "execution_count": 2,
   "id": "2e7c3910",
   "metadata": {},
   "outputs": [],
   "source": [
    "df = sns.load_dataset('iris')\n"
   ]
  },
  {
   "cell_type": "markdown",
   "id": "2460ede5",
   "metadata": {},
   "source": [
    "# # 4"
   ]
  },
  {
   "cell_type": "markdown",
   "id": "ce09a380",
   "metadata": {},
   "source": [
    "# print the first 3 rows"
   ]
  },
  {
   "cell_type": "code",
   "execution_count": 3,
   "id": "c1a6b693",
   "metadata": {},
   "outputs": [
    {
     "data": {
      "text/html": [
       "<div>\n",
       "<style scoped>\n",
       "    .dataframe tbody tr th:only-of-type {\n",
       "        vertical-align: middle;\n",
       "    }\n",
       "\n",
       "    .dataframe tbody tr th {\n",
       "        vertical-align: top;\n",
       "    }\n",
       "\n",
       "    .dataframe thead th {\n",
       "        text-align: right;\n",
       "    }\n",
       "</style>\n",
       "<table border=\"1\" class=\"dataframe\">\n",
       "  <thead>\n",
       "    <tr style=\"text-align: right;\">\n",
       "      <th></th>\n",
       "      <th>sepal_length</th>\n",
       "      <th>sepal_width</th>\n",
       "      <th>petal_length</th>\n",
       "      <th>petal_width</th>\n",
       "      <th>species</th>\n",
       "    </tr>\n",
       "  </thead>\n",
       "  <tbody>\n",
       "    <tr>\n",
       "      <th>0</th>\n",
       "      <td>5.1</td>\n",
       "      <td>3.5</td>\n",
       "      <td>1.4</td>\n",
       "      <td>0.2</td>\n",
       "      <td>setosa</td>\n",
       "    </tr>\n",
       "    <tr>\n",
       "      <th>1</th>\n",
       "      <td>4.9</td>\n",
       "      <td>3.0</td>\n",
       "      <td>1.4</td>\n",
       "      <td>0.2</td>\n",
       "      <td>setosa</td>\n",
       "    </tr>\n",
       "    <tr>\n",
       "      <th>2</th>\n",
       "      <td>4.7</td>\n",
       "      <td>3.2</td>\n",
       "      <td>1.3</td>\n",
       "      <td>0.2</td>\n",
       "      <td>setosa</td>\n",
       "    </tr>\n",
       "  </tbody>\n",
       "</table>\n",
       "</div>"
      ],
      "text/plain": [
       "   sepal_length  sepal_width  petal_length  petal_width species\n",
       "0           5.1          3.5           1.4          0.2  setosa\n",
       "1           4.9          3.0           1.4          0.2  setosa\n",
       "2           4.7          3.2           1.3          0.2  setosa"
      ]
     },
     "execution_count": 3,
     "metadata": {},
     "output_type": "execute_result"
    }
   ],
   "source": [
    "df.head(3)"
   ]
  },
  {
   "cell_type": "markdown",
   "id": "1dec2c0a",
   "metadata": {},
   "source": [
    "# print the number of rows and columns (shape)"
   ]
  },
  {
   "cell_type": "code",
   "execution_count": 4,
   "id": "5d1da614",
   "metadata": {},
   "outputs": [
    {
     "data": {
      "text/plain": [
       "(150, 5)"
      ]
     },
     "execution_count": 4,
     "metadata": {},
     "output_type": "execute_result"
    }
   ],
   "source": [
    "df.shape"
   ]
  },
  {
   "cell_type": "markdown",
   "id": "377fd22f",
   "metadata": {},
   "source": [
    "# print the column names"
   ]
  },
  {
   "cell_type": "code",
   "execution_count": 5,
   "id": "790a1846",
   "metadata": {},
   "outputs": [
    {
     "data": {
      "text/plain": [
       "Index(['sepal_length', 'sepal_width', 'petal_length', 'petal_width',\n",
       "       'species'],\n",
       "      dtype='object')"
      ]
     },
     "execution_count": 5,
     "metadata": {},
     "output_type": "execute_result"
    }
   ],
   "source": [
    "df.columns"
   ]
  },
  {
   "cell_type": "markdown",
   "id": "5dcfc8d2",
   "metadata": {},
   "source": [
    "# print the summary statistics for each of the numeric variables"
   ]
  },
  {
   "cell_type": "code",
   "execution_count": 6,
   "id": "f550f32d",
   "metadata": {},
   "outputs": [
    {
     "data": {
      "text/html": [
       "<div>\n",
       "<style scoped>\n",
       "    .dataframe tbody tr th:only-of-type {\n",
       "        vertical-align: middle;\n",
       "    }\n",
       "\n",
       "    .dataframe tbody tr th {\n",
       "        vertical-align: top;\n",
       "    }\n",
       "\n",
       "    .dataframe thead th {\n",
       "        text-align: right;\n",
       "    }\n",
       "</style>\n",
       "<table border=\"1\" class=\"dataframe\">\n",
       "  <thead>\n",
       "    <tr style=\"text-align: right;\">\n",
       "      <th></th>\n",
       "      <th>count</th>\n",
       "      <th>mean</th>\n",
       "      <th>std</th>\n",
       "      <th>min</th>\n",
       "      <th>25%</th>\n",
       "      <th>50%</th>\n",
       "      <th>75%</th>\n",
       "      <th>max</th>\n",
       "    </tr>\n",
       "  </thead>\n",
       "  <tbody>\n",
       "    <tr>\n",
       "      <th>sepal_length</th>\n",
       "      <td>150.0</td>\n",
       "      <td>5.843333</td>\n",
       "      <td>0.828066</td>\n",
       "      <td>4.3</td>\n",
       "      <td>5.1</td>\n",
       "      <td>5.80</td>\n",
       "      <td>6.4</td>\n",
       "      <td>7.9</td>\n",
       "    </tr>\n",
       "    <tr>\n",
       "      <th>sepal_width</th>\n",
       "      <td>150.0</td>\n",
       "      <td>3.057333</td>\n",
       "      <td>0.435866</td>\n",
       "      <td>2.0</td>\n",
       "      <td>2.8</td>\n",
       "      <td>3.00</td>\n",
       "      <td>3.3</td>\n",
       "      <td>4.4</td>\n",
       "    </tr>\n",
       "    <tr>\n",
       "      <th>petal_length</th>\n",
       "      <td>150.0</td>\n",
       "      <td>3.758000</td>\n",
       "      <td>1.765298</td>\n",
       "      <td>1.0</td>\n",
       "      <td>1.6</td>\n",
       "      <td>4.35</td>\n",
       "      <td>5.1</td>\n",
       "      <td>6.9</td>\n",
       "    </tr>\n",
       "    <tr>\n",
       "      <th>petal_width</th>\n",
       "      <td>150.0</td>\n",
       "      <td>1.199333</td>\n",
       "      <td>0.762238</td>\n",
       "      <td>0.1</td>\n",
       "      <td>0.3</td>\n",
       "      <td>1.30</td>\n",
       "      <td>1.8</td>\n",
       "      <td>2.5</td>\n",
       "    </tr>\n",
       "  </tbody>\n",
       "</table>\n",
       "</div>"
      ],
      "text/plain": [
       "              count      mean       std  min  25%   50%  75%  max\n",
       "sepal_length  150.0  5.843333  0.828066  4.3  5.1  5.80  6.4  7.9\n",
       "sepal_width   150.0  3.057333  0.435866  2.0  2.8  3.00  3.3  4.4\n",
       "petal_length  150.0  3.758000  1.765298  1.0  1.6  4.35  5.1  6.9\n",
       "petal_width   150.0  1.199333  0.762238  0.1  0.3  1.30  1.8  2.5"
      ]
     },
     "execution_count": 6,
     "metadata": {},
     "output_type": "execute_result"
    }
   ],
   "source": [
    "df.describe().T"
   ]
  },
  {
   "cell_type": "markdown",
   "id": "6f372ed3",
   "metadata": {},
   "source": [
    "# # 5"
   ]
  },
  {
   "cell_type": "markdown",
   "id": "0b6b19d6",
   "metadata": {},
   "source": [
    "# Read the data from this google sheet into a dataframe, df_google."
   ]
  },
  {
   "cell_type": "code",
   "execution_count": 7,
   "id": "a2c22e44",
   "metadata": {},
   "outputs": [
    {
     "ename": "SyntaxError",
     "evalue": "invalid syntax (4252266865.py, line 1)",
     "output_type": "error",
     "traceback": [
      "\u001b[0;36m  File \u001b[0;32m\"/var/folders/d0/5dr5q0n145vcn3_m9dxy1xq80000gn/T/ipykernel_2986/4252266865.py\"\u001b[0;36m, line \u001b[0;32m1\u001b[0m\n\u001b[0;31m    sheet_url =\u001b[0m\n\u001b[0m               ^\u001b[0m\n\u001b[0;31mSyntaxError\u001b[0m\u001b[0;31m:\u001b[0m invalid syntax\n"
     ]
    }
   ],
   "source": [
    "sheet_url ="
   ]
  },
  {
   "cell_type": "code",
   "execution_count": null,
   "id": "5e753b39",
   "metadata": {},
   "outputs": [],
   "source": [
    "cvs_export_url ="
   ]
  },
  {
   "cell_type": "code",
   "execution_count": null,
   "id": "88740334",
   "metadata": {},
   "outputs": [],
   "source": [
    "df_googlesheet = pd.read_csv('train.csv')"
   ]
  },
  {
   "cell_type": "markdown",
   "id": "9e85b2fd",
   "metadata": {},
   "source": [
    "# print the first 3 rows"
   ]
  },
  {
   "cell_type": "code",
   "execution_count": null,
   "id": "63650ac8",
   "metadata": {},
   "outputs": [],
   "source": [
    "df_googlesheet.head(3)"
   ]
  },
  {
   "cell_type": "markdown",
   "id": "7cfaa7cb",
   "metadata": {},
   "source": [
    "# print the number of rows and columns"
   ]
  },
  {
   "cell_type": "code",
   "execution_count": null,
   "id": "68775940",
   "metadata": {},
   "outputs": [],
   "source": [
    "df_googlesheet.shape"
   ]
  },
  {
   "cell_type": "markdown",
   "id": "9d6e99b3",
   "metadata": {},
   "source": [
    "# print the column names"
   ]
  },
  {
   "cell_type": "code",
   "execution_count": null,
   "id": "3663b786",
   "metadata": {},
   "outputs": [],
   "source": [
    "df_googlesheet.columns"
   ]
  },
  {
   "cell_type": "markdown",
   "id": "0315dfa3",
   "metadata": {},
   "source": [
    "# print the data type of each column"
   ]
  },
  {
   "cell_type": "code",
   "execution_count": null,
   "id": "fa4ea86f",
   "metadata": {},
   "outputs": [],
   "source": [
    "df_googlesheet.dtypes"
   ]
  },
  {
   "cell_type": "markdown",
   "id": "3609c7d4",
   "metadata": {},
   "source": [
    "# print the summary statistics for each of the numeric variables\n"
   ]
  },
  {
   "cell_type": "code",
   "execution_count": null,
   "id": "29032ecc",
   "metadata": {},
   "outputs": [],
   "source": [
    "df_googlesheet.describe()"
   ]
  },
  {
   "cell_type": "markdown",
   "id": "a7cf2c7a",
   "metadata": {},
   "source": [
    "# print the unique values for each of your categorical variables"
   ]
  },
  {
   "cell_type": "code",
   "execution_count": null,
   "id": "a17e4b93",
   "metadata": {},
   "outputs": [],
   "source": []
  },
  {
   "cell_type": "code",
   "execution_count": null,
   "id": "c98298da",
   "metadata": {},
   "outputs": [],
   "source": [
    "df_googlesheet.nunique()"
   ]
  },
  {
   "cell_type": "markdown",
   "id": "14c3818a",
   "metadata": {},
   "source": [
    "# # 6"
   ]
  },
  {
   "cell_type": "markdown",
   "id": "a405e0d8",
   "metadata": {},
   "source": [
    "# Download the previous exercise's file into an excel (File → Download → Microsoft Excel). Read the downloaded file into a dataframe named df_excel.\n"
   ]
  },
  {
   "cell_type": "code",
   "execution_count": null,
   "id": "dd13d52d",
   "metadata": {},
   "outputs": [],
   "source": [
    "df_excel = pd.read_excel('train.xlsx',sheet_name = 'train')"
   ]
  },
  {
   "cell_type": "code",
   "execution_count": null,
   "id": "23e42a20",
   "metadata": {},
   "outputs": [],
   "source": [
    "\n",
    "df_excel.head()"
   ]
  },
  {
   "cell_type": "markdown",
   "id": "fd26d161",
   "metadata": {},
   "source": [
    "# assign the first 100 rows to a new dataframe, df_excel_sample"
   ]
  },
  {
   "cell_type": "code",
   "execution_count": null,
   "id": "9f7f062a",
   "metadata": {},
   "outputs": [],
   "source": [
    "df_excel_sample = pd.DataFrame(df_excel.head(100))\n",
    "df_excel_sample"
   ]
  },
  {
   "cell_type": "markdown",
   "id": "66c36f42",
   "metadata": {},
   "source": [
    "# print the number of rows of your original dataframe"
   ]
  },
  {
   "cell_type": "code",
   "execution_count": null,
   "id": "76f93f63",
   "metadata": {},
   "outputs": [],
   "source": [
    "len(df_excel.index)"
   ]
  },
  {
   "cell_type": "markdown",
   "id": "fbf105c8",
   "metadata": {},
   "source": [
    "# print the first 5 column names"
   ]
  },
  {
   "cell_type": "code",
   "execution_count": null,
   "id": "31744e7b",
   "metadata": {},
   "outputs": [],
   "source": [
    "five_name = df_excel_sample.iloc[: , :5].columns"
   ]
  },
  {
   "cell_type": "code",
   "execution_count": null,
   "id": "2cc86303",
   "metadata": {},
   "outputs": [],
   "source": [
    "five_name"
   ]
  },
  {
   "cell_type": "markdown",
   "id": "db2bfbd5",
   "metadata": {},
   "source": [
    "# print the column names that have a data type of object"
   ]
  },
  {
   "cell_type": "code",
   "execution_count": null,
   "id": "9fa31cb1",
   "metadata": {},
   "outputs": [],
   "source": [
    "df_excel_sample.dtypes == object"
   ]
  },
  {
   "cell_type": "code",
   "execution_count": null,
   "id": "91db42af",
   "metadata": {},
   "outputs": [],
   "source": [
    "df_excel_sample.select_dtypes(include=['object']).columns"
   ]
  },
  {
   "cell_type": "markdown",
   "id": "ad9ea104",
   "metadata": {},
   "source": [
    "# compute the range for each of the numeric variables."
   ]
  },
  {
   "cell_type": "code",
   "execution_count": null,
   "id": "3ec4a320",
   "metadata": {},
   "outputs": [],
   "source": [
    "df_excel_sample.dtypes"
   ]
  },
  {
   "cell_type": "code",
   "execution_count": null,
   "id": "ab1c4646",
   "metadata": {},
   "outputs": [],
   "source": [
    "num = df_excel_sample.select_dtypes(include=(['int64','float64']))"
   ]
  },
  {
   "cell_type": "code",
   "execution_count": null,
   "id": "79abc719",
   "metadata": {},
   "outputs": [],
   "source": [
    "num = num.astype('float64')\n"
   ]
  },
  {
   "cell_type": "code",
   "execution_count": null,
   "id": "0b35f7a8",
   "metadata": {},
   "outputs": [],
   "source": [
    "num['PassengerId'].max() - num['PassengerId'].min()"
   ]
  },
  {
   "cell_type": "code",
   "execution_count": null,
   "id": "7cc7191c",
   "metadata": {},
   "outputs": [],
   "source": [
    "num['Survived'].max() - num['Survived'].min()"
   ]
  },
  {
   "cell_type": "code",
   "execution_count": null,
   "id": "38edea9b",
   "metadata": {},
   "outputs": [],
   "source": [
    "num['Pclass'].max() - num['Pclass'].min()"
   ]
  },
  {
   "cell_type": "code",
   "execution_count": null,
   "id": "b86146ec",
   "metadata": {},
   "outputs": [],
   "source": [
    "num['Age'].max() - num['Age'].min()"
   ]
  },
  {
   "cell_type": "code",
   "execution_count": null,
   "id": "40f9700f",
   "metadata": {},
   "outputs": [],
   "source": [
    "num['SibSp'].max() - num['SibSp'].min()"
   ]
  },
  {
   "cell_type": "code",
   "execution_count": null,
   "id": "8cd26a8d",
   "metadata": {},
   "outputs": [],
   "source": [
    "num['Parch'].max() - num['Parch'].min()"
   ]
  },
  {
   "cell_type": "code",
   "execution_count": null,
   "id": "16d7bddf",
   "metadata": {},
   "outputs": [],
   "source": [
    "num['Fare'].max() - num['Fare'].min()"
   ]
  },
  {
   "cell_type": "markdown",
   "id": "0af69e18",
   "metadata": {},
   "source": [
    "# Data Preparation"
   ]
  },
  {
   "cell_type": "markdown",
   "id": "2f1f99fe",
   "metadata": {},
   "source": [
    "# iris"
   ]
  },
  {
   "cell_type": "code",
   "execution_count": 16,
   "id": "3f48bcdb",
   "metadata": {},
   "outputs": [],
   "source": [
    "df = acquire.get_iris_data(acquire.get_connection)"
   ]
  },
  {
   "cell_type": "code",
   "execution_count": 4,
   "id": "88427e1b",
   "metadata": {},
   "outputs": [],
   "source": [
    "df = df.drop(columns=['Unnamed: 0'])"
   ]
  },
  {
   "cell_type": "code",
   "execution_count": 5,
   "id": "1cd5916c",
   "metadata": {
    "scrolled": true
   },
   "outputs": [
    {
     "data": {
      "text/html": [
       "<div>\n",
       "<style scoped>\n",
       "    .dataframe tbody tr th:only-of-type {\n",
       "        vertical-align: middle;\n",
       "    }\n",
       "\n",
       "    .dataframe tbody tr th {\n",
       "        vertical-align: top;\n",
       "    }\n",
       "\n",
       "    .dataframe thead th {\n",
       "        text-align: right;\n",
       "    }\n",
       "</style>\n",
       "<table border=\"1\" class=\"dataframe\">\n",
       "  <thead>\n",
       "    <tr style=\"text-align: right;\">\n",
       "      <th></th>\n",
       "      <th>species_id</th>\n",
       "      <th>measurement_id</th>\n",
       "      <th>sepal_length</th>\n",
       "      <th>sepal_width</th>\n",
       "      <th>petal_length</th>\n",
       "      <th>petal_width</th>\n",
       "      <th>species_name</th>\n",
       "    </tr>\n",
       "  </thead>\n",
       "  <tbody>\n",
       "    <tr>\n",
       "      <th>0</th>\n",
       "      <td>1</td>\n",
       "      <td>1</td>\n",
       "      <td>5.1</td>\n",
       "      <td>3.5</td>\n",
       "      <td>1.4</td>\n",
       "      <td>0.2</td>\n",
       "      <td>setosa</td>\n",
       "    </tr>\n",
       "    <tr>\n",
       "      <th>1</th>\n",
       "      <td>1</td>\n",
       "      <td>2</td>\n",
       "      <td>4.9</td>\n",
       "      <td>3.0</td>\n",
       "      <td>1.4</td>\n",
       "      <td>0.2</td>\n",
       "      <td>setosa</td>\n",
       "    </tr>\n",
       "    <tr>\n",
       "      <th>2</th>\n",
       "      <td>1</td>\n",
       "      <td>3</td>\n",
       "      <td>4.7</td>\n",
       "      <td>3.2</td>\n",
       "      <td>1.3</td>\n",
       "      <td>0.2</td>\n",
       "      <td>setosa</td>\n",
       "    </tr>\n",
       "    <tr>\n",
       "      <th>3</th>\n",
       "      <td>1</td>\n",
       "      <td>4</td>\n",
       "      <td>4.6</td>\n",
       "      <td>3.1</td>\n",
       "      <td>1.5</td>\n",
       "      <td>0.2</td>\n",
       "      <td>setosa</td>\n",
       "    </tr>\n",
       "    <tr>\n",
       "      <th>4</th>\n",
       "      <td>1</td>\n",
       "      <td>5</td>\n",
       "      <td>5.0</td>\n",
       "      <td>3.6</td>\n",
       "      <td>1.4</td>\n",
       "      <td>0.2</td>\n",
       "      <td>setosa</td>\n",
       "    </tr>\n",
       "  </tbody>\n",
       "</table>\n",
       "</div>"
      ],
      "text/plain": [
       "   species_id  measurement_id  sepal_length  sepal_width  petal_length  \\\n",
       "0           1               1           5.1          3.5           1.4   \n",
       "1           1               2           4.9          3.0           1.4   \n",
       "2           1               3           4.7          3.2           1.3   \n",
       "3           1               4           4.6          3.1           1.5   \n",
       "4           1               5           5.0          3.6           1.4   \n",
       "\n",
       "   petal_width species_name  \n",
       "0          0.2       setosa  \n",
       "1          0.2       setosa  \n",
       "2          0.2       setosa  \n",
       "3          0.2       setosa  \n",
       "4          0.2       setosa  "
      ]
     },
     "execution_count": 5,
     "metadata": {},
     "output_type": "execute_result"
    }
   ],
   "source": [
    "df.head()"
   ]
  },
  {
   "cell_type": "markdown",
   "id": "3e9064b2",
   "metadata": {},
   "source": [
    "# Drop the species_id and measurement_id columns."
   ]
  },
  {
   "cell_type": "code",
   "execution_count": null,
   "id": "0775d98a",
   "metadata": {},
   "outputs": [],
   "source": [
    "df = df.drop(columns=['species_id','measurement_id'])"
   ]
  },
  {
   "cell_type": "code",
   "execution_count": null,
   "id": "9eef18b0",
   "metadata": {},
   "outputs": [],
   "source": [
    "df"
   ]
  },
  {
   "cell_type": "markdown",
   "id": "339b305f",
   "metadata": {},
   "source": [
    "# Rename the species_name column to just species.m"
   ]
  },
  {
   "cell_type": "code",
   "execution_count": null,
   "id": "d781c4bd",
   "metadata": {},
   "outputs": [],
   "source": [
    "df = df.rename(columns={\"species_name\": \"name\"})\n",
    "df.head()"
   ]
  },
  {
   "cell_type": "markdown",
   "id": "4c845de0",
   "metadata": {},
   "source": [
    "# Create dummy variables of the species name and concatenate onto the iris dataframe. (This is for practice, we don't always have to encode the target, but if we used species as a feature, we would need to encode it)."
   ]
  },
  {
   "cell_type": "code",
   "execution_count": null,
   "id": "4eb17b57",
   "metadata": {},
   "outputs": [],
   "source": [
    "df.isnull().sum()"
   ]
  },
  {
   "cell_type": "code",
   "execution_count": null,
   "id": "88609f9d",
   "metadata": {},
   "outputs": [],
   "source": []
  },
  {
   "cell_type": "code",
   "execution_count": null,
   "id": "69924cd4",
   "metadata": {},
   "outputs": [],
   "source": [
    "spec_name_df = pd.get_dummies(df[['name']], dummy_na=False)\n",
    "spec_name_df"
   ]
  },
  {
   "cell_type": "code",
   "execution_count": null,
   "id": "80dace38",
   "metadata": {},
   "outputs": [],
   "source": [
    "df = pd.concat([df, spec_name_df ], axis=1)\n",
    "df\n"
   ]
  },
  {
   "cell_type": "markdown",
   "id": "be3ee821",
   "metadata": {},
   "source": [
    "# Create a function named prep_iris that accepts the untransformed iris data, and returns the data with the transformations above applied."
   ]
  },
  {
   "cell_type": "code",
   "execution_count": 17,
   "id": "e2de9105",
   "metadata": {},
   "outputs": [],
   "source": [
    "def prep_iris(df):\n",
    "\n",
    "    df = df.drop(columns=['Unnamed: 0'])\n",
    "    \n",
    "    df = df.drop(columns=['species_id','measurement_id'])\n",
    "    \n",
    "    df = df.rename(columns={\"species_name\": \"name\"})\n",
    "    \n",
    "    spec_name_df = pd.get_dummies(df[['name']], dummy_na=False)\n",
    "    \n",
    "    df = pd.concat([df, spec_name_df ], axis=1)\n",
    "    \n",
    "    return df\n",
    "    \n",
    "        \n",
    "\n",
    "    \n"
   ]
  },
  {
   "cell_type": "code",
   "execution_count": 10,
   "id": "80d020f6",
   "metadata": {},
   "outputs": [],
   "source": [
    "clean_iris = prep_iris(df)\n"
   ]
  },
  {
   "cell_type": "code",
   "execution_count": 11,
   "id": "06fddc85",
   "metadata": {},
   "outputs": [
    {
     "data": {
      "text/html": [
       "<div>\n",
       "<style scoped>\n",
       "    .dataframe tbody tr th:only-of-type {\n",
       "        vertical-align: middle;\n",
       "    }\n",
       "\n",
       "    .dataframe tbody tr th {\n",
       "        vertical-align: top;\n",
       "    }\n",
       "\n",
       "    .dataframe thead th {\n",
       "        text-align: right;\n",
       "    }\n",
       "</style>\n",
       "<table border=\"1\" class=\"dataframe\">\n",
       "  <thead>\n",
       "    <tr style=\"text-align: right;\">\n",
       "      <th></th>\n",
       "      <th>sepal_length</th>\n",
       "      <th>sepal_width</th>\n",
       "      <th>petal_length</th>\n",
       "      <th>petal_width</th>\n",
       "      <th>name</th>\n",
       "      <th>name_setosa</th>\n",
       "      <th>name_versicolor</th>\n",
       "      <th>name_virginica</th>\n",
       "    </tr>\n",
       "  </thead>\n",
       "  <tbody>\n",
       "    <tr>\n",
       "      <th>0</th>\n",
       "      <td>5.1</td>\n",
       "      <td>3.5</td>\n",
       "      <td>1.4</td>\n",
       "      <td>0.2</td>\n",
       "      <td>setosa</td>\n",
       "      <td>1</td>\n",
       "      <td>0</td>\n",
       "      <td>0</td>\n",
       "    </tr>\n",
       "    <tr>\n",
       "      <th>1</th>\n",
       "      <td>4.9</td>\n",
       "      <td>3.0</td>\n",
       "      <td>1.4</td>\n",
       "      <td>0.2</td>\n",
       "      <td>setosa</td>\n",
       "      <td>1</td>\n",
       "      <td>0</td>\n",
       "      <td>0</td>\n",
       "    </tr>\n",
       "    <tr>\n",
       "      <th>2</th>\n",
       "      <td>4.7</td>\n",
       "      <td>3.2</td>\n",
       "      <td>1.3</td>\n",
       "      <td>0.2</td>\n",
       "      <td>setosa</td>\n",
       "      <td>1</td>\n",
       "      <td>0</td>\n",
       "      <td>0</td>\n",
       "    </tr>\n",
       "    <tr>\n",
       "      <th>3</th>\n",
       "      <td>4.6</td>\n",
       "      <td>3.1</td>\n",
       "      <td>1.5</td>\n",
       "      <td>0.2</td>\n",
       "      <td>setosa</td>\n",
       "      <td>1</td>\n",
       "      <td>0</td>\n",
       "      <td>0</td>\n",
       "    </tr>\n",
       "    <tr>\n",
       "      <th>4</th>\n",
       "      <td>5.0</td>\n",
       "      <td>3.6</td>\n",
       "      <td>1.4</td>\n",
       "      <td>0.2</td>\n",
       "      <td>setosa</td>\n",
       "      <td>1</td>\n",
       "      <td>0</td>\n",
       "      <td>0</td>\n",
       "    </tr>\n",
       "  </tbody>\n",
       "</table>\n",
       "</div>"
      ],
      "text/plain": [
       "   sepal_length  sepal_width  petal_length  petal_width    name  name_setosa  \\\n",
       "0           5.1          3.5           1.4          0.2  setosa            1   \n",
       "1           4.9          3.0           1.4          0.2  setosa            1   \n",
       "2           4.7          3.2           1.3          0.2  setosa            1   \n",
       "3           4.6          3.1           1.5          0.2  setosa            1   \n",
       "4           5.0          3.6           1.4          0.2  setosa            1   \n",
       "\n",
       "   name_versicolor  name_virginica  \n",
       "0                0               0  \n",
       "1                0               0  \n",
       "2                0               0  \n",
       "3                0               0  \n",
       "4                0               0  "
      ]
     },
     "execution_count": 11,
     "metadata": {},
     "output_type": "execute_result"
    }
   ],
   "source": [
    "clean_iris.head()"
   ]
  },
  {
   "cell_type": "code",
   "execution_count": null,
   "id": "505abb4a",
   "metadata": {},
   "outputs": [],
   "source": []
  },
  {
   "cell_type": "markdown",
   "id": "6c19f856",
   "metadata": {},
   "source": [
    "# Using the Titanic dataset"
   ]
  },
  {
   "cell_type": "code",
   "execution_count": 22,
   "id": "2c213a44",
   "metadata": {},
   "outputs": [],
   "source": [
    "df = acquire.get_titanic_data(acquire.get_connection)"
   ]
  },
  {
   "cell_type": "code",
   "execution_count": null,
   "id": "25a8d9f6",
   "metadata": {},
   "outputs": [],
   "source": [
    "df = df.drop(columns=['Unnamed: 0'])"
   ]
  },
  {
   "cell_type": "code",
   "execution_count": null,
   "id": "d0b8620f",
   "metadata": {},
   "outputs": [],
   "source": [
    "df.head(1)"
   ]
  },
  {
   "cell_type": "markdown",
   "id": "d6b8c4fd",
   "metadata": {},
   "source": [
    "# Drop any unnecessary, unhelpful, or duplicated columns."
   ]
  },
  {
   "cell_type": "code",
   "execution_count": null,
   "id": "9f6cc33c",
   "metadata": {},
   "outputs": [],
   "source": [
    "df = df.drop_duplicates()\n",
    "df.shape"
   ]
  },
  {
   "cell_type": "code",
   "execution_count": null,
   "id": "39333246",
   "metadata": {},
   "outputs": [],
   "source": [
    "cols_to_drop = ['deck', 'embarked', 'class', 'age']\n",
    "df = df.drop(columns=cols_to_drop)"
   ]
  },
  {
   "cell_type": "code",
   "execution_count": null,
   "id": "d767a9c5",
   "metadata": {},
   "outputs": [],
   "source": [
    "\n",
    "missing = df.isnull().sum()\n",
    "missing[missing > 0]"
   ]
  },
  {
   "cell_type": "code",
   "execution_count": null,
   "id": "2ab85533",
   "metadata": {},
   "outputs": [],
   "source": [
    "df['embark_town'] = df.embark_town.fillna(value='Southampton')"
   ]
  },
  {
   "cell_type": "markdown",
   "id": "87ab4a42",
   "metadata": {},
   "source": [
    "# Encode the categorical columns. Create dummy variables of the categorical columns and concatenate them onto the dataframe."
   ]
  },
  {
   "cell_type": "code",
   "execution_count": null,
   "id": "9be610ab",
   "metadata": {},
   "outputs": [],
   "source": [
    "obj_cols = df.columns[[df[col].dtype == 'O' for col in df.columns]]\n",
    "for col in obj_cols:\n",
    "    print(df[col].value_counts())\n",
    "    print(df[col].value_counts(normalize=True, dropna=False))\n",
    "    print('----------------------')"
   ]
  },
  {
   "cell_type": "code",
   "execution_count": null,
   "id": "be94e189",
   "metadata": {},
   "outputs": [],
   "source": [
    "dummy_df = pd.get_dummies(df[['sex','embark_town']], dummy_na=False)\n",
    "dummy_df"
   ]
  },
  {
   "cell_type": "code",
   "execution_count": null,
   "id": "5427640d",
   "metadata": {},
   "outputs": [],
   "source": [
    "df = pd.concat([df, dummy_df], axis=1)"
   ]
  },
  {
   "cell_type": "code",
   "execution_count": null,
   "id": "57dd33f8",
   "metadata": {},
   "outputs": [],
   "source": [
    "df.head"
   ]
  },
  {
   "cell_type": "markdown",
   "id": "0f39bb7b",
   "metadata": {},
   "source": [
    "# Create a function named prep_titanic that accepts the raw titanic data, and returns the data with the transformations above applied."
   ]
  },
  {
   "cell_type": "code",
   "execution_count": 23,
   "id": "b2826625",
   "metadata": {},
   "outputs": [],
   "source": [
    "def prep_titanic(df):\n",
    "    \n",
    "    df = df.drop(columns=['Unnamed: 0'])\n",
    "    \n",
    "    df = df.drop_duplicates()\n",
    "    \n",
    "    cols_to_drop = ['deck', 'embarked', 'class', 'age']\n",
    "    df = df.drop(columns=cols_to_drop)\n",
    "    \n",
    "    df['embark_town'] = df.embark_town.fillna(value='Southampton')\n",
    "    \n",
    "    dummy_df = pd.get_dummies(df[['sex','embark_town']], dummy_na=False)\n",
    "    \n",
    "    df = pd.concat([df, dummy_df], axis=1)  \n",
    "    \n",
    "    return df\n",
    "    "
   ]
  },
  {
   "cell_type": "code",
   "execution_count": 24,
   "id": "834f7bfb",
   "metadata": {},
   "outputs": [],
   "source": [
    "clean_titanic = prep_titanic(df)"
   ]
  },
  {
   "cell_type": "code",
   "execution_count": null,
   "id": "864739a1",
   "metadata": {},
   "outputs": [],
   "source": [
    "clean_titanic.head(1)"
   ]
  },
  {
   "cell_type": "markdown",
   "id": "334a7248",
   "metadata": {},
   "source": [
    "# Using the Telco dataset"
   ]
  },
  {
   "cell_type": "markdown",
   "id": "c346896e",
   "metadata": {},
   "source": [
    "# Use the function defined in acquire.py to load the Telco data."
   ]
  },
  {
   "cell_type": "code",
   "execution_count": 25,
   "id": "2c6d6d52",
   "metadata": {},
   "outputs": [],
   "source": [
    "df = acquire.get_telco_data(acquire.get_connection)"
   ]
  },
  {
   "cell_type": "markdown",
   "id": "ba801f30",
   "metadata": {},
   "source": [
    "# Drop any unnecessary, unhelpful, or duplicated columns. This could mean dropping foreign key columns but keeping the corresponding string values, for example."
   ]
  },
  {
   "cell_type": "code",
   "execution_count": null,
   "id": "8e2ea1ab",
   "metadata": {},
   "outputs": [],
   "source": [
    "df = df.drop(columns=['Unnamed: 0'])"
   ]
  },
  {
   "cell_type": "code",
   "execution_count": null,
   "id": "88cb2800",
   "metadata": {},
   "outputs": [],
   "source": [
    "df = df.drop_duplicates()\n",
    "df.head()"
   ]
  },
  {
   "cell_type": "code",
   "execution_count": null,
   "id": "a6e5beca",
   "metadata": {},
   "outputs": [],
   "source": [
    "cols_to_drop = ['payment_type_id', 'internet_service_type_id', 'contract_type_id']\n"
   ]
  },
  {
   "cell_type": "code",
   "execution_count": null,
   "id": "185ac557",
   "metadata": {},
   "outputs": [],
   "source": [
    "df = df.drop(columns=cols_to_drop)\n"
   ]
  },
  {
   "cell_type": "markdown",
   "id": "151e13fa",
   "metadata": {},
   "source": [
    "# Encode the categorical columns. Create dummy variables of the categorical columns and concatenate them onto the dataframe."
   ]
  },
  {
   "cell_type": "code",
   "execution_count": null,
   "id": "c60be9b8",
   "metadata": {},
   "outputs": [],
   "source": [
    "cat_cols = df.select_dtypes(include = object).columns.to_list()\n",
    "cat_cols"
   ]
  },
  {
   "cell_type": "code",
   "execution_count": null,
   "id": "2a041eee",
   "metadata": {},
   "outputs": [],
   "source": [
    "dummy_df = pd.get_dummies(df[[\n",
    " 'gender',\n",
    " 'partner',\n",
    " 'dependents',\n",
    " 'phone_service',\n",
    " 'multiple_lines',\n",
    " 'online_security',\n",
    " 'online_backup',\n",
    " 'device_protection',\n",
    " 'tech_support',\n",
    " 'streaming_tv',\n",
    " 'streaming_movies',\n",
    " 'paperless_billing',\n",
    " 'total_charges',\n",
    " 'churn',\n",
    " 'contract_type',\n",
    " 'internet_service_type',\n",
    " 'payment_type']], dummy_na=False,drop_first=[True, True])\n",
    "dummy_df"
   ]
  },
  {
   "cell_type": "markdown",
   "id": "85c73ccb",
   "metadata": {},
   "source": [
    "# Create a function named prep_telco that accepts the raw telco data, and returns the data with the transformations above applied.\n"
   ]
  },
  {
   "cell_type": "code",
   "execution_count": 26,
   "id": "f98dd272",
   "metadata": {},
   "outputs": [],
   "source": [
    "def prep_telco(df):\n",
    "    \n",
    "    df = df.drop(columns=['Unnamed: 0'])\n",
    "    \n",
    "    df = df.drop_duplicates()\n",
    "    \n",
    "    cols_to_drop = ['payment_type_id', 'internet_service_type_id', 'contract_type_id']\n",
    "    df = df.drop(columns=cols_to_drop)\n",
    "    \n",
    "    dummy_df = pd.get_dummies(df[[\n",
    " 'gender',\n",
    " 'partner',\n",
    " 'dependents',\n",
    " 'phone_service',\n",
    " 'multiple_lines',\n",
    " 'online_security',\n",
    " 'online_backup',\n",
    " 'device_protection',\n",
    " 'tech_support',\n",
    " 'streaming_tv',\n",
    " 'streaming_movies',\n",
    " 'paperless_billing',\n",
    " 'total_charges',\n",
    " 'churn',\n",
    " 'contract_type',\n",
    " 'internet_service_type',\n",
    " 'payment_type']], dummy_na=False,drop_first=[True, True])\n",
    "    \n",
    "    df = pd.concat([df, dummy_df], axis=1)  \n",
    "    \n",
    "    return df"
   ]
  },
  {
   "cell_type": "code",
   "execution_count": 27,
   "id": "5c8823f6",
   "metadata": {},
   "outputs": [],
   "source": [
    "clean_telco = prep_telco(df)"
   ]
  },
  {
   "cell_type": "code",
   "execution_count": null,
   "id": "6daa11c6",
   "metadata": {},
   "outputs": [],
   "source": [
    "pd.set_option('display.max_columns', None)\n"
   ]
  },
  {
   "cell_type": "code",
   "execution_count": null,
   "id": "d33bf00f",
   "metadata": {},
   "outputs": [],
   "source": [
    "df.head(2)"
   ]
  },
  {
   "cell_type": "markdown",
   "id": "f9735f7e",
   "metadata": {},
   "source": [
    "# 2"
   ]
  },
  {
   "cell_type": "markdown",
   "id": "ecd01335",
   "metadata": {},
   "source": [
    "Run the function in your notebook on the Iris dataset, returning 3 datasets, train_iris, validate_iris and test_iris."
   ]
  },
  {
   "cell_type": "code",
   "execution_count": 30,
   "id": "eb549fa2",
   "metadata": {},
   "outputs": [],
   "source": [
    "train,validate,test= prepare.split_data(clean_iris)"
   ]
  },
  {
   "cell_type": "code",
   "execution_count": 20,
   "id": "7fed14be",
   "metadata": {},
   "outputs": [
    {
     "name": "stdout",
     "output_type": "stream",
     "text": [
      "train -> (84, 8)\n",
      "validate -> (36, 8)\n",
      "test -> (30, 8)\n"
     ]
    }
   ],
   "source": [
    "print(f'train -> {train.shape}')\n",
    "print(f'validate -> {validate.shape}')\n",
    "print(f'test -> {test.shape}')"
   ]
  },
  {
   "cell_type": "markdown",
   "id": "7d391526",
   "metadata": {},
   "source": [
    "# 3"
   ]
  },
  {
   "cell_type": "code",
   "execution_count": 29,
   "id": "36f40e4a",
   "metadata": {},
   "outputs": [],
   "source": [
    "train2,validate2,test2= prepare.split_data(clean_titanic)"
   ]
  },
  {
   "cell_type": "code",
   "execution_count": 32,
   "id": "074f51a5",
   "metadata": {},
   "outputs": [
    {
     "name": "stdout",
     "output_type": "stream",
     "text": [
      "train -> (498, 14)\n",
      "validate -> (214, 14)\n",
      "test -> (179, 14)\n"
     ]
    }
   ],
   "source": [
    "print(f'train -> {train2.shape}')\n",
    "print(f'validate -> {validate2.shape}')\n",
    "print(f'test -> {test2.shape}')"
   ]
  },
  {
   "cell_type": "markdown",
   "id": "d80bc30a",
   "metadata": {},
   "source": [
    "# 4"
   ]
  },
  {
   "cell_type": "code",
   "execution_count": 31,
   "id": "e68b37bb",
   "metadata": {},
   "outputs": [],
   "source": [
    "train3,validate3,test3= prepare.split_data(clean_telco)"
   ]
  },
  {
   "cell_type": "code",
   "execution_count": 33,
   "id": "46270b50",
   "metadata": {},
   "outputs": [
    {
     "name": "stdout",
     "output_type": "stream",
     "text": [
      "train -> (3943, 6578)\n",
      "validate -> (1691, 6578)\n",
      "test -> (1409, 6578)\n"
     ]
    }
   ],
   "source": [
    "print(f'train -> {train3.shape}')\n",
    "print(f'validate -> {validate3.shape}')\n",
    "print(f'test -> {test3.shape}')"
   ]
  },
  {
   "cell_type": "code",
   "execution_count": null,
   "id": "11ce151d",
   "metadata": {},
   "outputs": [],
   "source": []
  }
 ],
 "metadata": {
  "kernelspec": {
   "display_name": "Python 3 (ipykernel)",
   "language": "python",
   "name": "python3"
  },
  "language_info": {
   "codemirror_mode": {
    "name": "ipython",
    "version": 3
   },
   "file_extension": ".py",
   "mimetype": "text/x-python",
   "name": "python",
   "nbconvert_exporter": "python",
   "pygments_lexer": "ipython3",
   "version": "3.9.13"
  }
 },
 "nbformat": 4,
 "nbformat_minor": 5
}
