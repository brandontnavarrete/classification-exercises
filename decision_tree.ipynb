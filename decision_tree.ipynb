{
 "cells": [
  {
   "cell_type": "markdown",
   "id": "67b02abf",
   "metadata": {},
   "source": [
    "# imports"
   ]
  },
  {
   "cell_type": "code",
   "execution_count": 1,
   "id": "afbed169",
   "metadata": {},
   "outputs": [],
   "source": [
    "import warnings\n",
    "\n",
    "import numpy as np\n",
    "import pandas as pd\n",
    "\n",
    "from pydataset import data\n",
    "\n",
    "from sklearn.model_selection import train_test_split \n",
    "\n",
    "from sklearn.tree import DecisionTreeClassifier, plot_tree \n",
    "from sklearn.metrics import classification_report \n",
    "from sklearn.metrics import confusion_matrix\n",
    "\n",
    "import matplotlib.pyplot as plt\n",
    "import seaborn as sns\n",
    "\n",
    "import acquire\n",
    "import env\n",
    "import prepare"
   ]
  },
  {
   "cell_type": "code",
   "execution_count": 46,
   "id": "82bd6d27",
   "metadata": {
    "scrolled": true
   },
   "outputs": [
    {
     "data": {
      "text/html": [
       "<div>\n",
       "<style scoped>\n",
       "    .dataframe tbody tr th:only-of-type {\n",
       "        vertical-align: middle;\n",
       "    }\n",
       "\n",
       "    .dataframe tbody tr th {\n",
       "        vertical-align: top;\n",
       "    }\n",
       "\n",
       "    .dataframe thead th {\n",
       "        text-align: right;\n",
       "    }\n",
       "</style>\n",
       "<table border=\"1\" class=\"dataframe\">\n",
       "  <thead>\n",
       "    <tr style=\"text-align: right;\">\n",
       "      <th></th>\n",
       "      <th>passenger_id</th>\n",
       "      <th>survived</th>\n",
       "      <th>pclass</th>\n",
       "      <th>sex</th>\n",
       "      <th>age</th>\n",
       "      <th>sibsp</th>\n",
       "      <th>parch</th>\n",
       "      <th>fare</th>\n",
       "      <th>embarked</th>\n",
       "      <th>class</th>\n",
       "      <th>deck</th>\n",
       "      <th>embark_town</th>\n",
       "      <th>alone</th>\n",
       "    </tr>\n",
       "  </thead>\n",
       "  <tbody>\n",
       "    <tr>\n",
       "      <th>0</th>\n",
       "      <td>0</td>\n",
       "      <td>0</td>\n",
       "      <td>3</td>\n",
       "      <td>male</td>\n",
       "      <td>22.0</td>\n",
       "      <td>1</td>\n",
       "      <td>0</td>\n",
       "      <td>7.25</td>\n",
       "      <td>S</td>\n",
       "      <td>Third</td>\n",
       "      <td>NaN</td>\n",
       "      <td>Southampton</td>\n",
       "      <td>0</td>\n",
       "    </tr>\n",
       "  </tbody>\n",
       "</table>\n",
       "</div>"
      ],
      "text/plain": [
       "   passenger_id  survived  pclass   sex   age  sibsp  parch  fare embarked  \\\n",
       "0             0         0       3  male  22.0      1      0  7.25        S   \n",
       "\n",
       "   class deck  embark_town  alone  \n",
       "0  Third  NaN  Southampton      0  "
      ]
     },
     "execution_count": 46,
     "metadata": {},
     "output_type": "execute_result"
    }
   ],
   "source": [
    "titanic = acquire.get_titanic_data(acquire.get_connection)\n",
    "titanic.head(1)"
   ]
  },
  {
   "cell_type": "markdown",
   "id": "1176455e",
   "metadata": {},
   "source": [
    "# cleaning data for titanic"
   ]
  },
  {
   "cell_type": "code",
   "execution_count": 47,
   "id": "0c41b19d",
   "metadata": {
    "scrolled": true
   },
   "outputs": [],
   "source": [
    "titanic = prepare.prep_titanic(titanic)"
   ]
  },
  {
   "cell_type": "code",
   "execution_count": 48,
   "id": "ccb765e0",
   "metadata": {},
   "outputs": [],
   "source": [
    "titanic.head(1)\n",
    "titanic = titanic.drop(columns=['sex','embark_town'])"
   ]
  },
  {
   "cell_type": "markdown",
   "id": "43688e24",
   "metadata": {},
   "source": [
    "# train,val,test"
   ]
  },
  {
   "cell_type": "code",
   "execution_count": 49,
   "id": "080d25bc",
   "metadata": {},
   "outputs": [],
   "source": [
    "train,validate,test = prepare.split_data(titanic,'survived')"
   ]
  },
  {
   "cell_type": "code",
   "execution_count": 50,
   "id": "e0187cf6",
   "metadata": {},
   "outputs": [
    {
     "data": {
      "text/plain": [
       "(498, 9)"
      ]
     },
     "execution_count": 50,
     "metadata": {},
     "output_type": "execute_result"
    }
   ],
   "source": [
    "train.shape"
   ]
  },
  {
   "cell_type": "markdown",
   "id": "2196f794",
   "metadata": {},
   "source": [
    "# create x and y versions of train"
   ]
  },
  {
   "cell_type": "code",
   "execution_count": 51,
   "id": "6c4b910f",
   "metadata": {},
   "outputs": [],
   "source": [
    "x_train = train.drop(columns=['survived'])\n",
    "y_train = train.survived"
   ]
  },
  {
   "cell_type": "code",
   "execution_count": null,
   "id": "d62466da",
   "metadata": {},
   "outputs": [],
   "source": []
  },
  {
   "cell_type": "code",
   "execution_count": 52,
   "id": "fffcfacb",
   "metadata": {},
   "outputs": [],
   "source": [
    "x_validate = validate.drop(columns=['survived'])\n",
    "y_validate = validate.survived"
   ]
  },
  {
   "cell_type": "code",
   "execution_count": null,
   "id": "0b2b8fa6",
   "metadata": {},
   "outputs": [],
   "source": []
  },
  {
   "cell_type": "code",
   "execution_count": 53,
   "id": "f6bc6a65",
   "metadata": {},
   "outputs": [],
   "source": [
    "x_test = test.drop(columns=['survived'])\n",
    "y_test = test.survived"
   ]
  },
  {
   "cell_type": "code",
   "execution_count": null,
   "id": "cd7c57a7",
   "metadata": {},
   "outputs": [],
   "source": []
  },
  {
   "cell_type": "markdown",
   "id": "55853f1a",
   "metadata": {},
   "source": [
    "# Train Model"
   ]
  },
  {
   "cell_type": "markdown",
   "id": "b9062f75",
   "metadata": {},
   "source": [
    "## creat decision tree"
   ]
  },
  {
   "cell_type": "code",
   "execution_count": 54,
   "id": "46c0aca6",
   "metadata": {},
   "outputs": [],
   "source": [
    "clf = DecisionTreeClassifier(max_depth=3, random_state=123)"
   ]
  },
  {
   "cell_type": "markdown",
   "id": "7dad24c0",
   "metadata": {},
   "source": [
    "# Fit the decision tree classifier to your training sample and transform"
   ]
  },
  {
   "cell_type": "markdown",
   "id": "bae81ad6",
   "metadata": {},
   "source": [
    "## fit the model"
   ]
  },
  {
   "cell_type": "code",
   "execution_count": 55,
   "id": "541fc1d1",
   "metadata": {},
   "outputs": [],
   "source": [
    "clf = clf.fit(x_train,y_train)"
   ]
  },
  {
   "cell_type": "code",
   "execution_count": 56,
   "id": "bddd21e3",
   "metadata": {},
   "outputs": [
    {
     "data": {
      "text/plain": [
       "0.8092369477911646"
      ]
     },
     "execution_count": 56,
     "metadata": {},
     "output_type": "execute_result"
    }
   ],
   "source": [
    "\n",
    "clf.score(x_train,y_train)"
   ]
  },
  {
   "cell_type": "code",
   "execution_count": 57,
   "id": "7a67f61a",
   "metadata": {},
   "outputs": [
    {
     "data": {
      "text/plain": [
       "0.8084112149532711"
      ]
     },
     "execution_count": 57,
     "metadata": {},
     "output_type": "execute_result"
    }
   ],
   "source": [
    "clf.score(x_validate,y_validate)"
   ]
  },
  {
   "cell_type": "markdown",
   "id": "ca3500b0",
   "metadata": {},
   "source": [
    "## visualize a decision"
   ]
  },
  {
   "cell_type": "code",
   "execution_count": 50,
   "id": "d988d923",
   "metadata": {},
   "outputs": [
    {
     "data": {
      "text/html": [
       "<div>\n",
       "<style scoped>\n",
       "    .dataframe tbody tr th:only-of-type {\n",
       "        vertical-align: middle;\n",
       "    }\n",
       "\n",
       "    .dataframe tbody tr th {\n",
       "        vertical-align: top;\n",
       "    }\n",
       "\n",
       "    .dataframe thead th {\n",
       "        text-align: right;\n",
       "    }\n",
       "</style>\n",
       "<table border=\"1\" class=\"dataframe\">\n",
       "  <thead>\n",
       "    <tr style=\"text-align: right;\">\n",
       "      <th></th>\n",
       "      <th>pclass</th>\n",
       "      <th>sibsp</th>\n",
       "      <th>parch</th>\n",
       "      <th>fare</th>\n",
       "      <th>alone</th>\n",
       "      <th>sex_male</th>\n",
       "      <th>embark_town_Queenstown</th>\n",
       "      <th>embark_town_Southampton</th>\n",
       "    </tr>\n",
       "  </thead>\n",
       "  <tbody>\n",
       "    <tr>\n",
       "      <th>111</th>\n",
       "      <td>3</td>\n",
       "      <td>1</td>\n",
       "      <td>0</td>\n",
       "      <td>14.4542</td>\n",
       "      <td>0</td>\n",
       "      <td>0</td>\n",
       "      <td>0</td>\n",
       "      <td>0</td>\n",
       "    </tr>\n",
       "  </tbody>\n",
       "</table>\n",
       "</div>"
      ],
      "text/plain": [
       "     pclass  sibsp  parch     fare  alone  sex_male  embark_town_Queenstown  \\\n",
       "111       3      1      0  14.4542      0         0                       0   \n",
       "\n",
       "     embark_town_Southampton  \n",
       "111                        0  "
      ]
     },
     "execution_count": 50,
     "metadata": {},
     "output_type": "execute_result"
    }
   ],
   "source": [
    "x_train.head(1)"
   ]
  },
  {
   "cell_type": "code",
   "execution_count": 52,
   "id": "603e6b80",
   "metadata": {},
   "outputs": [
    {
     "data": {
      "text/plain": [
       "[Text(0.5, 0.875, 'sex_male <= 0.5\\ngini = 0.473\\nsamples = 498\\nvalue = [307, 191]\\nclass = 0'),\n",
       " Text(0.25, 0.625, 'pclass <= 2.5\\ngini = 0.362\\nsamples = 173\\nvalue = [41, 132]\\nclass = 1'),\n",
       " Text(0.125, 0.375, 'fare <= 26.125\\ngini = 0.021\\nsamples = 93\\nvalue = [1, 92]\\nclass = 1'),\n",
       " Text(0.0625, 0.125, 'gini = 0.069\\nsamples = 28\\nvalue = [1, 27]\\nclass = 1'),\n",
       " Text(0.1875, 0.125, 'gini = 0.0\\nsamples = 65\\nvalue = [0, 65]\\nclass = 1'),\n",
       " Text(0.375, 0.375, 'fare <= 23.35\\ngini = 0.5\\nsamples = 80\\nvalue = [40, 40]\\nclass = 0'),\n",
       " Text(0.3125, 0.125, 'gini = 0.48\\nsamples = 65\\nvalue = [26, 39]\\nclass = 1'),\n",
       " Text(0.4375, 0.125, 'gini = 0.124\\nsamples = 15\\nvalue = [14, 1]\\nclass = 0'),\n",
       " Text(0.75, 0.625, 'fare <= 10.817\\ngini = 0.297\\nsamples = 325\\nvalue = [266, 59]\\nclass = 0'),\n",
       " Text(0.625, 0.375, 'parch <= 0.5\\ngini = 0.171\\nsamples = 170\\nvalue = [154, 16]\\nclass = 0'),\n",
       " Text(0.5625, 0.125, 'gini = 0.162\\nsamples = 169\\nvalue = [154, 15]\\nclass = 0'),\n",
       " Text(0.6875, 0.125, 'gini = 0.0\\nsamples = 1\\nvalue = [0, 1]\\nclass = 1'),\n",
       " Text(0.875, 0.375, 'fare <= 11.371\\ngini = 0.401\\nsamples = 155\\nvalue = [112, 43]\\nclass = 0'),\n",
       " Text(0.8125, 0.125, 'gini = 0.0\\nsamples = 2\\nvalue = [0, 2]\\nclass = 1'),\n",
       " Text(0.9375, 0.125, 'gini = 0.392\\nsamples = 153\\nvalue = [112, 41]\\nclass = 0')]"
      ]
     },
     "execution_count": 52,
     "metadata": {},
     "output_type": "execute_result"
    },
    {
     "data": {
      "image/png": "[encoded data removed]",
      "text/plain": [
       "<Figure size 1300x700 with 1 Axes>"
      ]
     },
     "metadata": {},
     "output_type": "display_data"
    }
   ],
   "source": [
    "plt.figure(figsize=(13,7))\n",
    "plot_tree(clf, feature_names = x_train.columns, class_names=['0','1'], rounded=True)\n"
   ]
  },
  {
   "cell_type": "markdown",
   "id": "1291f36a",
   "metadata": {},
   "source": [
    "## make predictions"
   ]
  },
  {
   "cell_type": "code",
   "execution_count": 56,
   "id": "5922c181",
   "metadata": {},
   "outputs": [
    {
     "data": {
      "text/plain": [
       "array([1, 1, 0, 0, 0])"
      ]
     },
     "execution_count": 56,
     "metadata": {},
     "output_type": "execute_result"
    }
   ],
   "source": [
    "y_prediction = clf.predict(x_train)\n"
   ]
  },
  {
   "cell_type": "markdown",
   "id": "228b7f24",
   "metadata": {},
   "source": [
    "## estimate probability"
   ]
  },
  {
   "cell_type": "code",
   "execution_count": 58,
   "id": "213b76cd",
   "metadata": {},
   "outputs": [
    {
     "data": {
      "text/plain": [
       "array([[0.4       , 0.6       ],\n",
       "       [0.        , 1.        ],\n",
       "       [0.9112426 , 0.0887574 ],\n",
       "       [0.73202614, 0.26797386],\n",
       "       [0.9112426 , 0.0887574 ]])"
      ]
     },
     "execution_count": 58,
     "metadata": {},
     "output_type": "execute_result"
    }
   ],
   "source": [
    "y_prediction_probability = clf.predict_proba(x_train)\n",
    "y_prediction_probability[0:5]"
   ]
  },
  {
   "cell_type": "markdown",
   "id": "50b1715b",
   "metadata": {},
   "source": [
    "# Evaluate  in-sample results using the score, matrix and classification report."
   ]
  },
  {
   "cell_type": "markdown",
   "id": "e2c62a7e",
   "metadata": {},
   "source": [
    "## compute the accuracy"
   ]
  },
  {
   "cell_type": "code",
   "execution_count": 59,
   "id": "212f46e4",
   "metadata": {},
   "outputs": [
    {
     "name": "stdout",
     "output_type": "stream",
     "text": [
      "Accuracy of Decision Tree classifier on training set: 0.83\n"
     ]
    }
   ],
   "source": [
    "print('Accuracy of Decision Tree classifier on training set: {:.2f}'\n",
    "      .format(clf.score(x_train, y_train)))"
   ]
  },
  {
   "cell_type": "markdown",
   "id": "61cdba46",
   "metadata": {},
   "source": [
    "## create confusion matrix"
   ]
  },
  {
   "cell_type": "code",
   "execution_count": 62,
   "id": "09094209",
   "metadata": {},
   "outputs": [
    {
     "data": {
      "text/plain": [
       "array([[280,  27],\n",
       "       [ 57, 134]])"
      ]
     },
     "execution_count": 62,
     "metadata": {},
     "output_type": "execute_result"
    }
   ],
   "source": [
    "confusion_matrix(y_train,y_prediction)"
   ]
  },
  {
   "cell_type": "code",
   "execution_count": 63,
   "id": "a5594392",
   "metadata": {},
   "outputs": [
    {
     "data": {
      "text/plain": [
       "0    307\n",
       "1    191\n",
       "Name: survived, dtype: int64"
      ]
     },
     "execution_count": 63,
     "metadata": {},
     "output_type": "execute_result"
    }
   ],
   "source": [
    "y_train.value_counts()"
   ]
  },
  {
   "cell_type": "code",
   "execution_count": 64,
   "id": "cbabf95e",
   "metadata": {},
   "outputs": [],
   "source": [
    "labels = sorted(y_train.unique())"
   ]
  },
  {
   "cell_type": "code",
   "execution_count": 65,
   "id": "ce24f4c4",
   "metadata": {},
   "outputs": [
    {
     "data": {
      "text/html": [
       "<div>\n",
       "<style scoped>\n",
       "    .dataframe tbody tr th:only-of-type {\n",
       "        vertical-align: middle;\n",
       "    }\n",
       "\n",
       "    .dataframe tbody tr th {\n",
       "        vertical-align: top;\n",
       "    }\n",
       "\n",
       "    .dataframe thead th {\n",
       "        text-align: right;\n",
       "    }\n",
       "</style>\n",
       "<table border=\"1\" class=\"dataframe\">\n",
       "  <thead>\n",
       "    <tr style=\"text-align: right;\">\n",
       "      <th></th>\n",
       "      <th>0</th>\n",
       "      <th>1</th>\n",
       "    </tr>\n",
       "  </thead>\n",
       "  <tbody>\n",
       "    <tr>\n",
       "      <th>0</th>\n",
       "      <td>280</td>\n",
       "      <td>27</td>\n",
       "    </tr>\n",
       "    <tr>\n",
       "      <th>1</th>\n",
       "      <td>57</td>\n",
       "      <td>134</td>\n",
       "    </tr>\n",
       "  </tbody>\n",
       "</table>\n",
       "</div>"
      ],
      "text/plain": [
       "     0    1\n",
       "0  280   27\n",
       "1   57  134"
      ]
     },
     "execution_count": 65,
     "metadata": {},
     "output_type": "execute_result"
    }
   ],
   "source": [
    "pd.DataFrame(confusion_matrix(y_train, y_prediction), index=labels, columns=labels)\n"
   ]
  },
  {
   "cell_type": "markdown",
   "id": "fda51e2c",
   "metadata": {},
   "source": [
    "## create classification report"
   ]
  },
  {
   "cell_type": "code",
   "execution_count": 67,
   "id": "bcfeca3e",
   "metadata": {},
   "outputs": [
    {
     "name": "stdout",
     "output_type": "stream",
     "text": [
      "              precision    recall  f1-score   support\n",
      "\n",
      "           0       0.83      0.91      0.87       307\n",
      "           1       0.83      0.70      0.76       191\n",
      "\n",
      "    accuracy                           0.83       498\n",
      "   macro avg       0.83      0.81      0.82       498\n",
      "weighted avg       0.83      0.83      0.83       498\n",
      "\n"
     ]
    }
   ],
   "source": [
    "print(classification_report(y_train, y_prediction))"
   ]
  },
  {
   "cell_type": "markdown",
   "id": "85222ce8",
   "metadata": {},
   "source": [
    "# compute: accuracy, TP rate, FP rate, TN rate, FN rate, recall, f1, support"
   ]
  },
  {
   "cell_type": "code",
   "execution_count": 103,
   "id": "2b8e81a4",
   "metadata": {},
   "outputs": [],
   "source": [
    "tp1 = 134\n",
    "fp1 = 27\n",
    "tn1 = 280\n",
    "fn1 = 57"
   ]
  },
  {
   "cell_type": "code",
   "execution_count": 104,
   "id": "a7dc91e7",
   "metadata": {},
   "outputs": [
    {
     "data": {
      "text/plain": [
       "0.7015706806282722"
      ]
     },
     "execution_count": 104,
     "metadata": {},
     "output_type": "execute_result"
    }
   ],
   "source": [
    "# tp rate\n",
    "tp1/(tp1+fn1)"
   ]
  },
  {
   "cell_type": "code",
   "execution_count": 105,
   "id": "5d579c5a",
   "metadata": {},
   "outputs": [
    {
     "data": {
      "text/plain": [
       "0.08794788273615635"
      ]
     },
     "execution_count": 105,
     "metadata": {},
     "output_type": "execute_result"
    }
   ],
   "source": [
    "# fp rate\n",
    "fp1/(fp1+tn1)"
   ]
  },
  {
   "cell_type": "code",
   "execution_count": 106,
   "id": "17663c71",
   "metadata": {},
   "outputs": [
    {
     "data": {
      "text/plain": [
       "0.29842931937172773"
      ]
     },
     "execution_count": 106,
     "metadata": {},
     "output_type": "execute_result"
    }
   ],
   "source": [
    "# fn rate\n",
    "fn1/(fn1+tp1)"
   ]
  },
  {
   "cell_type": "code",
   "execution_count": 107,
   "id": "fb869a37",
   "metadata": {},
   "outputs": [
    {
     "data": {
      "text/plain": [
       "0.9120521172638436"
      ]
     },
     "execution_count": 107,
     "metadata": {},
     "output_type": "execute_result"
    }
   ],
   "source": [
    "# tn rate\n",
    "tn1/(tn1+fp1)"
   ]
  },
  {
   "cell_type": "code",
   "execution_count": 69,
   "id": "fc95430c",
   "metadata": {},
   "outputs": [
    {
     "name": "stdout",
     "output_type": "stream",
     "text": [
      "Accuracy of Decision Tree classifier on validate set: 0.80\n"
     ]
    }
   ],
   "source": [
    "print('Accuracy of Decision Tree classifier on validate set: {:.2f}'\n",
    "     .format(clf.score(x_validate, y_validate)))"
   ]
  },
  {
   "cell_type": "code",
   "execution_count": null,
   "id": "3f3eadff",
   "metadata": {},
   "outputs": [],
   "source": [
    "# this was within 3%"
   ]
  },
  {
   "cell_type": "code",
   "execution_count": null,
   "id": "6896f608",
   "metadata": {},
   "outputs": [],
   "source": [
    "# # Produce y_predictions that come from the X_validate"
   ]
  },
  {
   "cell_type": "code",
   "execution_count": 73,
   "id": "ea90d20e",
   "metadata": {},
   "outputs": [],
   "source": [
    "y_pred = clf.predict(x_validate)\n"
   ]
  },
  {
   "cell_type": "code",
   "execution_count": 75,
   "id": "9416aea1",
   "metadata": {},
   "outputs": [
    {
     "name": "stdout",
     "output_type": "stream",
     "text": [
      "              precision    recall  f1-score   support\n",
      "\n",
      "           0       0.84      0.85      0.84       132\n",
      "           1       0.75      0.73      0.74        82\n",
      "\n",
      "    accuracy                           0.80       214\n",
      "   macro avg       0.79      0.79      0.79       214\n",
      "weighted avg       0.80      0.80      0.80       214\n",
      "\n"
     ]
    }
   ],
   "source": [
    "# compare y values(from validate) to predict\n",
    "print(classification_report(y_validate, y_pred))\n"
   ]
  },
  {
   "cell_type": "code",
   "execution_count": null,
   "id": "737c5c22",
   "metadata": {},
   "outputs": [],
   "source": []
  },
  {
   "cell_type": "markdown",
   "id": "3d1743ec",
   "metadata": {},
   "source": [
    "# run through steps 2-4 using a different max-depth"
   ]
  },
  {
   "cell_type": "code",
   "execution_count": 76,
   "id": "9adcc0f9",
   "metadata": {},
   "outputs": [],
   "source": [
    "clf1 = DecisionTreeClassifier(max_depth=5, random_state=123)"
   ]
  },
  {
   "cell_type": "code",
   "execution_count": 77,
   "id": "b1fc5a5f",
   "metadata": {},
   "outputs": [
    {
     "data": {
      "text/plain": [
       "DecisionTreeClassifier(max_depth=5, random_state=123)"
      ]
     },
     "execution_count": 77,
     "metadata": {},
     "output_type": "execute_result"
    }
   ],
   "source": [
    "clf1.fit(x_train,y_train)"
   ]
  },
  {
   "cell_type": "code",
   "execution_count": 78,
   "id": "90591010",
   "metadata": {},
   "outputs": [
    {
     "data": {
      "text/plain": [
       "0.8493975903614458"
      ]
     },
     "execution_count": 78,
     "metadata": {},
     "output_type": "execute_result"
    }
   ],
   "source": [
    "clf1.score(x_train,y_train)"
   ]
  },
  {
   "cell_type": "code",
   "execution_count": 79,
   "id": "bc4e6548",
   "metadata": {},
   "outputs": [
    {
     "data": {
      "text/plain": [
       "[Text(0.5041666666666667, 0.9166666666666666, 'sex_male <= 0.5\\ngini = 0.473\\nsamples = 498\\nvalue = [307, 191]\\nclass = 0'),\n",
       " Text(0.24166666666666667, 0.75, 'pclass <= 2.5\\ngini = 0.362\\nsamples = 173\\nvalue = [41, 132]\\nclass = 1'),\n",
       " Text(0.1, 0.5833333333333334, 'fare <= 26.125\\ngini = 0.021\\nsamples = 93\\nvalue = [1, 92]\\nclass = 1'),\n",
       " Text(0.06666666666666667, 0.4166666666666667, 'parch <= 0.5\\ngini = 0.069\\nsamples = 28\\nvalue = [1, 27]\\nclass = 1'),\n",
       " Text(0.03333333333333333, 0.25, 'gini = 0.0\\nsamples = 17\\nvalue = [0, 17]\\nclass = 1'),\n",
       " Text(0.1, 0.25, 'fare <= 24.5\\ngini = 0.165\\nsamples = 11\\nvalue = [1, 10]\\nclass = 1'),\n",
       " Text(0.06666666666666667, 0.08333333333333333, 'gini = 0.0\\nsamples = 7\\nvalue = [0, 7]\\nclass = 1'),\n",
       " Text(0.13333333333333333, 0.08333333333333333, 'gini = 0.375\\nsamples = 4\\nvalue = [1, 3]\\nclass = 1'),\n",
       " Text(0.13333333333333333, 0.4166666666666667, 'gini = 0.0\\nsamples = 65\\nvalue = [0, 65]\\nclass = 1'),\n",
       " Text(0.38333333333333336, 0.5833333333333334, 'fare <= 23.35\\ngini = 0.5\\nsamples = 80\\nvalue = [40, 40]\\nclass = 0'),\n",
       " Text(0.3, 0.4166666666666667, 'embark_town_Queenstown <= 0.5\\ngini = 0.48\\nsamples = 65\\nvalue = [26, 39]\\nclass = 1'),\n",
       " Text(0.23333333333333334, 0.25, 'fare <= 7.523\\ngini = 0.5\\nsamples = 45\\nvalue = [23, 22]\\nclass = 0'),\n",
       " Text(0.2, 0.08333333333333333, 'gini = 0.0\\nsamples = 3\\nvalue = [0, 3]\\nclass = 1'),\n",
       " Text(0.26666666666666666, 0.08333333333333333, 'gini = 0.495\\nsamples = 42\\nvalue = [23, 19]\\nclass = 0'),\n",
       " Text(0.36666666666666664, 0.25, 'fare <= 7.815\\ngini = 0.255\\nsamples = 20\\nvalue = [3, 17]\\nclass = 1'),\n",
       " Text(0.3333333333333333, 0.08333333333333333, 'gini = 0.375\\nsamples = 12\\nvalue = [3, 9]\\nclass = 1'),\n",
       " Text(0.4, 0.08333333333333333, 'gini = 0.0\\nsamples = 8\\nvalue = [0, 8]\\nclass = 1'),\n",
       " Text(0.4666666666666667, 0.4166666666666667, 'fare <= 31.331\\ngini = 0.124\\nsamples = 15\\nvalue = [14, 1]\\nclass = 0'),\n",
       " Text(0.43333333333333335, 0.25, 'gini = 0.0\\nsamples = 10\\nvalue = [10, 0]\\nclass = 0'),\n",
       " Text(0.5, 0.25, 'fare <= 32.881\\ngini = 0.32\\nsamples = 5\\nvalue = [4, 1]\\nclass = 0'),\n",
       " Text(0.4666666666666667, 0.08333333333333333, 'gini = 0.0\\nsamples = 1\\nvalue = [0, 1]\\nclass = 1'),\n",
       " Text(0.5333333333333333, 0.08333333333333333, 'gini = 0.0\\nsamples = 4\\nvalue = [4, 0]\\nclass = 0'),\n",
       " Text(0.7666666666666667, 0.75, 'fare <= 10.817\\ngini = 0.297\\nsamples = 325\\nvalue = [266, 59]\\nclass = 0'),\n",
       " Text(0.7, 0.5833333333333334, 'parch <= 0.5\\ngini = 0.171\\nsamples = 170\\nvalue = [154, 16]\\nclass = 0'),\n",
       " Text(0.6666666666666666, 0.4166666666666667, 'fare <= 8.135\\ngini = 0.162\\nsamples = 169\\nvalue = [154, 15]\\nclass = 0'),\n",
       " Text(0.6333333333333333, 0.25, 'fare <= 8.081\\ngini = 0.191\\nsamples = 140\\nvalue = [125, 15]\\nclass = 0'),\n",
       " Text(0.6, 0.08333333333333333, 'gini = 0.181\\nsamples = 139\\nvalue = [125, 14]\\nclass = 0'),\n",
       " Text(0.6666666666666666, 0.08333333333333333, 'gini = 0.0\\nsamples = 1\\nvalue = [0, 1]\\nclass = 1'),\n",
       " Text(0.7, 0.25, 'gini = 0.0\\nsamples = 29\\nvalue = [29, 0]\\nclass = 0'),\n",
       " Text(0.7333333333333333, 0.4166666666666667, 'gini = 0.0\\nsamples = 1\\nvalue = [0, 1]\\nclass = 1'),\n",
       " Text(0.8333333333333334, 0.5833333333333334, 'fare <= 11.371\\ngini = 0.401\\nsamples = 155\\nvalue = [112, 43]\\nclass = 0'),\n",
       " Text(0.8, 0.4166666666666667, 'gini = 0.0\\nsamples = 2\\nvalue = [0, 2]\\nclass = 1'),\n",
       " Text(0.8666666666666667, 0.4166666666666667, 'pclass <= 1.5\\ngini = 0.392\\nsamples = 153\\nvalue = [112, 41]\\nclass = 0'),\n",
       " Text(0.8, 0.25, 'fare <= 38.95\\ngini = 0.46\\nsamples = 64\\nvalue = [41, 23]\\nclass = 0'),\n",
       " Text(0.7666666666666667, 0.08333333333333333, 'gini = 0.495\\nsamples = 29\\nvalue = [13, 16]\\nclass = 1'),\n",
       " Text(0.8333333333333334, 0.08333333333333333, 'gini = 0.32\\nsamples = 35\\nvalue = [28, 7]\\nclass = 0'),\n",
       " Text(0.9333333333333333, 0.25, 'fare <= 35.562\\ngini = 0.323\\nsamples = 89\\nvalue = [71, 18]\\nclass = 0'),\n",
       " Text(0.9, 0.08333333333333333, 'gini = 0.284\\nsamples = 76\\nvalue = [63, 13]\\nclass = 0'),\n",
       " Text(0.9666666666666667, 0.08333333333333333, 'gini = 0.473\\nsamples = 13\\nvalue = [8, 5]\\nclass = 0')]"
      ]
     },
     "execution_count": 79,
     "metadata": {},
     "output_type": "execute_result"
    },
    {
     "data": {
      "image/png": "[encoded data removed]",
      "text/plain": [
       "<Figure size 1300x700 with 1 Axes>"
      ]
     },
     "metadata": {},
     "output_type": "display_data"
    }
   ],
   "source": [
    "plt.figure(figsize=(13,7))\n",
    "plot_tree(clf1, feature_names = x_train.columns, class_names=['0','1'], rounded=True)\n"
   ]
  },
  {
   "cell_type": "code",
   "execution_count": 81,
   "id": "5e909410",
   "metadata": {},
   "outputs": [],
   "source": [
    "y_prediction1 = clf1.predict(x_train)\n"
   ]
  },
  {
   "cell_type": "code",
   "execution_count": 82,
   "id": "3d0f5e42",
   "metadata": {},
   "outputs": [
    {
     "data": {
      "text/plain": [
       "array([[290,  17],\n",
       "       [ 58, 133]])"
      ]
     },
     "execution_count": 82,
     "metadata": {},
     "output_type": "execute_result"
    }
   ],
   "source": [
    "confusion_matrix(y_train,y_prediction1)"
   ]
  },
  {
   "cell_type": "code",
   "execution_count": 83,
   "id": "3f3109a2",
   "metadata": {},
   "outputs": [
    {
     "name": "stdout",
     "output_type": "stream",
     "text": [
      "              precision    recall  f1-score   support\n",
      "\n",
      "           0       0.83      0.94      0.89       307\n",
      "           1       0.89      0.70      0.78       191\n",
      "\n",
      "    accuracy                           0.85       498\n",
      "   macro avg       0.86      0.82      0.83       498\n",
      "weighted avg       0.85      0.85      0.85       498\n",
      "\n"
     ]
    }
   ],
   "source": [
    "print(classification_report(y_train, y_prediction1))"
   ]
  },
  {
   "cell_type": "code",
   "execution_count": null,
   "id": "066619de",
   "metadata": {},
   "outputs": [],
   "source": [
    "# i would say that in sample a bigger depth works"
   ]
  },
  {
   "cell_type": "markdown",
   "id": "4ab45fc6",
   "metadata": {},
   "source": [
    "# out of sample"
   ]
  },
  {
   "cell_type": "code",
   "execution_count": 88,
   "id": "199fc05e",
   "metadata": {},
   "outputs": [
    {
     "data": {
      "text/plain": [
       "0.8037383177570093"
      ]
     },
     "execution_count": 88,
     "metadata": {},
     "output_type": "execute_result"
    }
   ],
   "source": [
    "clf.score(x_validate,y_validate)"
   ]
  },
  {
   "cell_type": "code",
   "execution_count": 89,
   "id": "668bcaca",
   "metadata": {},
   "outputs": [
    {
     "data": {
      "text/plain": [
       "0.7570093457943925"
      ]
     },
     "execution_count": 89,
     "metadata": {},
     "output_type": "execute_result"
    }
   ],
   "source": [
    "clf1.score(x_validate,y_validate)"
   ]
  },
  {
   "cell_type": "code",
   "execution_count": 87,
   "id": "adb96c47",
   "metadata": {},
   "outputs": [],
   "source": [
    "# i would say that out of sample, a smaller depth worked better by a small margin"
   ]
  },
  {
   "cell_type": "code",
   "execution_count": null,
   "id": "622a902b",
   "metadata": {},
   "outputs": [],
   "source": []
  },
  {
   "cell_type": "code",
   "execution_count": null,
   "id": "ac99906d",
   "metadata": {},
   "outputs": [],
   "source": []
  },
  {
   "cell_type": "markdown",
   "id": "6ee52abd",
   "metadata": {},
   "source": [
    "# 11 Telco Excercises"
   ]
  },
  {
   "cell_type": "code",
   "execution_count": 2,
   "id": "d1e0e319",
   "metadata": {},
   "outputs": [
    {
     "data": {
      "text/html": [
       "<div>\n",
       "<style scoped>\n",
       "    .dataframe tbody tr th:only-of-type {\n",
       "        vertical-align: middle;\n",
       "    }\n",
       "\n",
       "    .dataframe tbody tr th {\n",
       "        vertical-align: top;\n",
       "    }\n",
       "\n",
       "    .dataframe thead th {\n",
       "        text-align: right;\n",
       "    }\n",
       "</style>\n",
       "<table border=\"1\" class=\"dataframe\">\n",
       "  <thead>\n",
       "    <tr style=\"text-align: right;\">\n",
       "      <th></th>\n",
       "      <th>Unnamed: 0</th>\n",
       "      <th>payment_type_id</th>\n",
       "      <th>internet_service_type_id</th>\n",
       "      <th>contract_type_id</th>\n",
       "      <th>customer_id</th>\n",
       "      <th>gender</th>\n",
       "      <th>senior_citizen</th>\n",
       "      <th>partner</th>\n",
       "      <th>dependents</th>\n",
       "      <th>tenure</th>\n",
       "      <th>...</th>\n",
       "      <th>tech_support</th>\n",
       "      <th>streaming_tv</th>\n",
       "      <th>streaming_movies</th>\n",
       "      <th>paperless_billing</th>\n",
       "      <th>monthly_charges</th>\n",
       "      <th>total_charges</th>\n",
       "      <th>churn</th>\n",
       "      <th>contract_type</th>\n",
       "      <th>internet_service_type</th>\n",
       "      <th>payment_type</th>\n",
       "    </tr>\n",
       "  </thead>\n",
       "  <tbody>\n",
       "    <tr>\n",
       "      <th>0</th>\n",
       "      <td>0</td>\n",
       "      <td>2</td>\n",
       "      <td>1</td>\n",
       "      <td>2</td>\n",
       "      <td>0002-ORFBO</td>\n",
       "      <td>Female</td>\n",
       "      <td>0</td>\n",
       "      <td>Yes</td>\n",
       "      <td>Yes</td>\n",
       "      <td>9</td>\n",
       "      <td>...</td>\n",
       "      <td>Yes</td>\n",
       "      <td>Yes</td>\n",
       "      <td>No</td>\n",
       "      <td>Yes</td>\n",
       "      <td>65.6</td>\n",
       "      <td>593.3</td>\n",
       "      <td>No</td>\n",
       "      <td>One year</td>\n",
       "      <td>DSL</td>\n",
       "      <td>Mailed check</td>\n",
       "    </tr>\n",
       "    <tr>\n",
       "      <th>1</th>\n",
       "      <td>1</td>\n",
       "      <td>2</td>\n",
       "      <td>1</td>\n",
       "      <td>1</td>\n",
       "      <td>0003-MKNFE</td>\n",
       "      <td>Male</td>\n",
       "      <td>0</td>\n",
       "      <td>No</td>\n",
       "      <td>No</td>\n",
       "      <td>9</td>\n",
       "      <td>...</td>\n",
       "      <td>No</td>\n",
       "      <td>No</td>\n",
       "      <td>Yes</td>\n",
       "      <td>No</td>\n",
       "      <td>59.9</td>\n",
       "      <td>542.4</td>\n",
       "      <td>No</td>\n",
       "      <td>Month-to-month</td>\n",
       "      <td>DSL</td>\n",
       "      <td>Mailed check</td>\n",
       "    </tr>\n",
       "    <tr>\n",
       "      <th>2</th>\n",
       "      <td>2</td>\n",
       "      <td>1</td>\n",
       "      <td>2</td>\n",
       "      <td>1</td>\n",
       "      <td>0004-TLHLJ</td>\n",
       "      <td>Male</td>\n",
       "      <td>0</td>\n",
       "      <td>No</td>\n",
       "      <td>No</td>\n",
       "      <td>4</td>\n",
       "      <td>...</td>\n",
       "      <td>No</td>\n",
       "      <td>No</td>\n",
       "      <td>No</td>\n",
       "      <td>Yes</td>\n",
       "      <td>73.9</td>\n",
       "      <td>280.85</td>\n",
       "      <td>Yes</td>\n",
       "      <td>Month-to-month</td>\n",
       "      <td>Fiber optic</td>\n",
       "      <td>Electronic check</td>\n",
       "    </tr>\n",
       "    <tr>\n",
       "      <th>3</th>\n",
       "      <td>3</td>\n",
       "      <td>1</td>\n",
       "      <td>2</td>\n",
       "      <td>1</td>\n",
       "      <td>0011-IGKFF</td>\n",
       "      <td>Male</td>\n",
       "      <td>1</td>\n",
       "      <td>Yes</td>\n",
       "      <td>No</td>\n",
       "      <td>13</td>\n",
       "      <td>...</td>\n",
       "      <td>No</td>\n",
       "      <td>Yes</td>\n",
       "      <td>Yes</td>\n",
       "      <td>Yes</td>\n",
       "      <td>98.0</td>\n",
       "      <td>1237.85</td>\n",
       "      <td>Yes</td>\n",
       "      <td>Month-to-month</td>\n",
       "      <td>Fiber optic</td>\n",
       "      <td>Electronic check</td>\n",
       "    </tr>\n",
       "    <tr>\n",
       "      <th>4</th>\n",
       "      <td>4</td>\n",
       "      <td>2</td>\n",
       "      <td>2</td>\n",
       "      <td>1</td>\n",
       "      <td>0013-EXCHZ</td>\n",
       "      <td>Female</td>\n",
       "      <td>1</td>\n",
       "      <td>Yes</td>\n",
       "      <td>No</td>\n",
       "      <td>3</td>\n",
       "      <td>...</td>\n",
       "      <td>Yes</td>\n",
       "      <td>Yes</td>\n",
       "      <td>No</td>\n",
       "      <td>Yes</td>\n",
       "      <td>83.9</td>\n",
       "      <td>267.4</td>\n",
       "      <td>Yes</td>\n",
       "      <td>Month-to-month</td>\n",
       "      <td>Fiber optic</td>\n",
       "      <td>Mailed check</td>\n",
       "    </tr>\n",
       "  </tbody>\n",
       "</table>\n",
       "<p>5 rows × 25 columns</p>\n",
       "</div>"
      ],
      "text/plain": [
       "   Unnamed: 0  payment_type_id  internet_service_type_id  contract_type_id  \\\n",
       "0           0                2                         1                 2   \n",
       "1           1                2                         1                 1   \n",
       "2           2                1                         2                 1   \n",
       "3           3                1                         2                 1   \n",
       "4           4                2                         2                 1   \n",
       "\n",
       "  customer_id  gender  senior_citizen partner dependents  tenure  ...  \\\n",
       "0  0002-ORFBO  Female               0     Yes        Yes       9  ...   \n",
       "1  0003-MKNFE    Male               0      No         No       9  ...   \n",
       "2  0004-TLHLJ    Male               0      No         No       4  ...   \n",
       "3  0011-IGKFF    Male               1     Yes         No      13  ...   \n",
       "4  0013-EXCHZ  Female               1     Yes         No       3  ...   \n",
       "\n",
       "  tech_support streaming_tv streaming_movies paperless_billing  \\\n",
       "0          Yes          Yes               No               Yes   \n",
       "1           No           No              Yes                No   \n",
       "2           No           No               No               Yes   \n",
       "3           No          Yes              Yes               Yes   \n",
       "4          Yes          Yes               No               Yes   \n",
       "\n",
       "  monthly_charges total_charges churn   contract_type internet_service_type  \\\n",
       "0            65.6         593.3    No        One year                   DSL   \n",
       "1            59.9         542.4    No  Month-to-month                   DSL   \n",
       "2            73.9        280.85   Yes  Month-to-month           Fiber optic   \n",
       "3            98.0       1237.85   Yes  Month-to-month           Fiber optic   \n",
       "4            83.9         267.4   Yes  Month-to-month           Fiber optic   \n",
       "\n",
       "       payment_type  \n",
       "0      Mailed check  \n",
       "1      Mailed check  \n",
       "2  Electronic check  \n",
       "3  Electronic check  \n",
       "4      Mailed check  \n",
       "\n",
       "[5 rows x 25 columns]"
      ]
     },
     "execution_count": 2,
     "metadata": {},
     "output_type": "execute_result"
    }
   ],
   "source": [
    "telco = acquire.get_telco_data(acquire.get_connection)\n",
    "telco.head()"
   ]
  },
  {
   "cell_type": "markdown",
   "id": "bc71b8dc",
   "metadata": {},
   "source": [
    "## clean telco"
   ]
  },
  {
   "cell_type": "code",
   "execution_count": 3,
   "id": "d0bb9445",
   "metadata": {},
   "outputs": [],
   "source": [
    "telco = prepare.prep_telco(telco)"
   ]
  },
  {
   "cell_type": "code",
   "execution_count": 13,
   "id": "c58dfe72",
   "metadata": {},
   "outputs": [],
   "source": [
    "cols_drop = [['gender',\n",
    "     'total_charges'      \n",
    "     'partner',\n",
    "     'dependents',\n",
    "     'phone_service',\n",
    "     'multiple_lines',\n",
    "     'online_security',\n",
    "     'online_backup',\n",
    "     'device_protection',\n",
    "     'tech_support',\n",
    "     'streaming_tv',\n",
    "     'streaming_movies',\n",
    "     'paperless_billing',\n",
    "     'churn',\n",
    "     'contract_type',\n",
    "     'internet_service_type',\n",
    "     'payment_type']]"
   ]
  },
  {
   "cell_type": "code",
   "execution_count": 7,
   "id": "05e44224",
   "metadata": {},
   "outputs": [
    {
     "data": {
      "text/plain": [
       "customer_id                               object\n",
       "gender                                    object\n",
       "senior_citizen                             int64\n",
       "partner                                   object\n",
       "dependents                                object\n",
       "tenure                                     int64\n",
       "phone_service                             object\n",
       "multiple_lines                            object\n",
       "online_security                           object\n",
       "online_backup                             object\n",
       "device_protection                         object\n",
       "tech_support                              object\n",
       "streaming_tv                              object\n",
       "streaming_movies                          object\n",
       "paperless_billing                         object\n",
       "monthly_charges                          float64\n",
       "total_charges                             object\n",
       "churn                                     object\n",
       "contract_type                             object\n",
       "internet_service_type                     object\n",
       "payment_type                              object\n",
       "gender_Male                                uint8\n",
       "partner_Yes                                uint8\n",
       "dependents_Yes                             uint8\n",
       "phone_service_Yes                          uint8\n",
       "multiple_lines_No phone service            uint8\n",
       "multiple_lines_Yes                         uint8\n",
       "online_security_No internet service        uint8\n",
       "online_security_Yes                        uint8\n",
       "online_backup_No internet service          uint8\n",
       "online_backup_Yes                          uint8\n",
       "device_protection_No internet service      uint8\n",
       "device_protection_Yes                      uint8\n",
       "tech_support_No internet service           uint8\n",
       "tech_support_Yes                           uint8\n",
       "streaming_tv_No internet service           uint8\n",
       "streaming_tv_Yes                           uint8\n",
       "streaming_movies_No internet service       uint8\n",
       "streaming_movies_Yes                       uint8\n",
       "paperless_billing_Yes                      uint8\n",
       "churn_Yes                                  uint8\n",
       "contract_type_One year                     uint8\n",
       "contract_type_Two year                     uint8\n",
       "internet_service_type_Fiber optic          uint8\n",
       "internet_service_type_None                 uint8\n",
       "payment_type_Credit card (automatic)       uint8\n",
       "payment_type_Electronic check              uint8\n",
       "payment_type_Mailed check                  uint8\n",
       "dtype: object"
      ]
     },
     "execution_count": 7,
     "metadata": {},
     "output_type": "execute_result"
    }
   ],
   "source": [
    "telco.dtypes"
   ]
  },
  {
   "cell_type": "code",
   "execution_count": 27,
   "id": "e89c9fe5",
   "metadata": {},
   "outputs": [],
   "source": [
    "telco =telco.drop(columns= ['customer_id','gender',\n",
    "     'total_charges',      \n",
    "     'partner',\n",
    "     'dependents',\n",
    "     'phone_service',\n",
    "     'multiple_lines',\n",
    "     'online_security',\n",
    "     'online_backup',\n",
    "     'device_protection',\n",
    "     'tech_support',\n",
    "     'streaming_tv',\n",
    "     'streaming_movies',\n",
    "     'paperless_billing',\n",
    "     'churn',\n",
    "     'contract_type',\n",
    "     'internet_service_type',\n",
    "     'payment_type'])\n",
    "    "
   ]
  },
  {
   "cell_type": "code",
   "execution_count": 58,
   "id": "7f7519c3",
   "metadata": {},
   "outputs": [
    {
     "data": {
      "text/html": [
       "<div>\n",
       "<style scoped>\n",
       "    .dataframe tbody tr th:only-of-type {\n",
       "        vertical-align: middle;\n",
       "    }\n",
       "\n",
       "    .dataframe tbody tr th {\n",
       "        vertical-align: top;\n",
       "    }\n",
       "\n",
       "    .dataframe thead th {\n",
       "        text-align: right;\n",
       "    }\n",
       "</style>\n",
       "<table border=\"1\" class=\"dataframe\">\n",
       "  <thead>\n",
       "    <tr style=\"text-align: right;\">\n",
       "      <th></th>\n",
       "      <th>senior_citizen</th>\n",
       "      <th>tenure</th>\n",
       "      <th>monthly_charges</th>\n",
       "      <th>gender_Male</th>\n",
       "      <th>partner_Yes</th>\n",
       "      <th>dependents_Yes</th>\n",
       "      <th>phone_service_Yes</th>\n",
       "      <th>multiple_lines_No phone service</th>\n",
       "      <th>multiple_lines_Yes</th>\n",
       "      <th>online_security_No internet service</th>\n",
       "      <th>...</th>\n",
       "      <th>streaming_movies_Yes</th>\n",
       "      <th>paperless_billing_Yes</th>\n",
       "      <th>churn_Yes</th>\n",
       "      <th>contract_type_One year</th>\n",
       "      <th>contract_type_Two year</th>\n",
       "      <th>internet_service_type_Fiber optic</th>\n",
       "      <th>internet_service_type_None</th>\n",
       "      <th>payment_type_Credit card (automatic)</th>\n",
       "      <th>payment_type_Electronic check</th>\n",
       "      <th>payment_type_Mailed check</th>\n",
       "    </tr>\n",
       "  </thead>\n",
       "  <tbody>\n",
       "    <tr>\n",
       "      <th>0</th>\n",
       "      <td>0</td>\n",
       "      <td>9</td>\n",
       "      <td>65.60</td>\n",
       "      <td>0</td>\n",
       "      <td>1</td>\n",
       "      <td>1</td>\n",
       "      <td>1</td>\n",
       "      <td>0</td>\n",
       "      <td>0</td>\n",
       "      <td>0</td>\n",
       "      <td>...</td>\n",
       "      <td>0</td>\n",
       "      <td>1</td>\n",
       "      <td>0</td>\n",
       "      <td>1</td>\n",
       "      <td>0</td>\n",
       "      <td>0</td>\n",
       "      <td>0</td>\n",
       "      <td>0</td>\n",
       "      <td>0</td>\n",
       "      <td>1</td>\n",
       "    </tr>\n",
       "    <tr>\n",
       "      <th>1</th>\n",
       "      <td>0</td>\n",
       "      <td>9</td>\n",
       "      <td>59.90</td>\n",
       "      <td>1</td>\n",
       "      <td>0</td>\n",
       "      <td>0</td>\n",
       "      <td>1</td>\n",
       "      <td>0</td>\n",
       "      <td>1</td>\n",
       "      <td>0</td>\n",
       "      <td>...</td>\n",
       "      <td>1</td>\n",
       "      <td>0</td>\n",
       "      <td>0</td>\n",
       "      <td>0</td>\n",
       "      <td>0</td>\n",
       "      <td>0</td>\n",
       "      <td>0</td>\n",
       "      <td>0</td>\n",
       "      <td>0</td>\n",
       "      <td>1</td>\n",
       "    </tr>\n",
       "    <tr>\n",
       "      <th>2</th>\n",
       "      <td>0</td>\n",
       "      <td>4</td>\n",
       "      <td>73.90</td>\n",
       "      <td>1</td>\n",
       "      <td>0</td>\n",
       "      <td>0</td>\n",
       "      <td>1</td>\n",
       "      <td>0</td>\n",
       "      <td>0</td>\n",
       "      <td>0</td>\n",
       "      <td>...</td>\n",
       "      <td>0</td>\n",
       "      <td>1</td>\n",
       "      <td>1</td>\n",
       "      <td>0</td>\n",
       "      <td>0</td>\n",
       "      <td>1</td>\n",
       "      <td>0</td>\n",
       "      <td>0</td>\n",
       "      <td>1</td>\n",
       "      <td>0</td>\n",
       "    </tr>\n",
       "    <tr>\n",
       "      <th>3</th>\n",
       "      <td>1</td>\n",
       "      <td>13</td>\n",
       "      <td>98.00</td>\n",
       "      <td>1</td>\n",
       "      <td>1</td>\n",
       "      <td>0</td>\n",
       "      <td>1</td>\n",
       "      <td>0</td>\n",
       "      <td>0</td>\n",
       "      <td>0</td>\n",
       "      <td>...</td>\n",
       "      <td>1</td>\n",
       "      <td>1</td>\n",
       "      <td>1</td>\n",
       "      <td>0</td>\n",
       "      <td>0</td>\n",
       "      <td>1</td>\n",
       "      <td>0</td>\n",
       "      <td>0</td>\n",
       "      <td>1</td>\n",
       "      <td>0</td>\n",
       "    </tr>\n",
       "    <tr>\n",
       "      <th>4</th>\n",
       "      <td>1</td>\n",
       "      <td>3</td>\n",
       "      <td>83.90</td>\n",
       "      <td>0</td>\n",
       "      <td>1</td>\n",
       "      <td>0</td>\n",
       "      <td>1</td>\n",
       "      <td>0</td>\n",
       "      <td>0</td>\n",
       "      <td>0</td>\n",
       "      <td>...</td>\n",
       "      <td>0</td>\n",
       "      <td>1</td>\n",
       "      <td>1</td>\n",
       "      <td>0</td>\n",
       "      <td>0</td>\n",
       "      <td>1</td>\n",
       "      <td>0</td>\n",
       "      <td>0</td>\n",
       "      <td>0</td>\n",
       "      <td>1</td>\n",
       "    </tr>\n",
       "    <tr>\n",
       "      <th>...</th>\n",
       "      <td>...</td>\n",
       "      <td>...</td>\n",
       "      <td>...</td>\n",
       "      <td>...</td>\n",
       "      <td>...</td>\n",
       "      <td>...</td>\n",
       "      <td>...</td>\n",
       "      <td>...</td>\n",
       "      <td>...</td>\n",
       "      <td>...</td>\n",
       "      <td>...</td>\n",
       "      <td>...</td>\n",
       "      <td>...</td>\n",
       "      <td>...</td>\n",
       "      <td>...</td>\n",
       "      <td>...</td>\n",
       "      <td>...</td>\n",
       "      <td>...</td>\n",
       "      <td>...</td>\n",
       "      <td>...</td>\n",
       "      <td>...</td>\n",
       "    </tr>\n",
       "    <tr>\n",
       "      <th>7038</th>\n",
       "      <td>0</td>\n",
       "      <td>13</td>\n",
       "      <td>55.15</td>\n",
       "      <td>0</td>\n",
       "      <td>0</td>\n",
       "      <td>0</td>\n",
       "      <td>1</td>\n",
       "      <td>0</td>\n",
       "      <td>0</td>\n",
       "      <td>0</td>\n",
       "      <td>...</td>\n",
       "      <td>0</td>\n",
       "      <td>0</td>\n",
       "      <td>0</td>\n",
       "      <td>1</td>\n",
       "      <td>0</td>\n",
       "      <td>0</td>\n",
       "      <td>0</td>\n",
       "      <td>0</td>\n",
       "      <td>0</td>\n",
       "      <td>1</td>\n",
       "    </tr>\n",
       "    <tr>\n",
       "      <th>7039</th>\n",
       "      <td>0</td>\n",
       "      <td>22</td>\n",
       "      <td>85.10</td>\n",
       "      <td>1</td>\n",
       "      <td>1</td>\n",
       "      <td>0</td>\n",
       "      <td>1</td>\n",
       "      <td>0</td>\n",
       "      <td>1</td>\n",
       "      <td>0</td>\n",
       "      <td>...</td>\n",
       "      <td>1</td>\n",
       "      <td>1</td>\n",
       "      <td>1</td>\n",
       "      <td>0</td>\n",
       "      <td>0</td>\n",
       "      <td>1</td>\n",
       "      <td>0</td>\n",
       "      <td>0</td>\n",
       "      <td>1</td>\n",
       "      <td>0</td>\n",
       "    </tr>\n",
       "    <tr>\n",
       "      <th>7040</th>\n",
       "      <td>0</td>\n",
       "      <td>2</td>\n",
       "      <td>50.30</td>\n",
       "      <td>1</td>\n",
       "      <td>0</td>\n",
       "      <td>0</td>\n",
       "      <td>1</td>\n",
       "      <td>0</td>\n",
       "      <td>0</td>\n",
       "      <td>0</td>\n",
       "      <td>...</td>\n",
       "      <td>0</td>\n",
       "      <td>1</td>\n",
       "      <td>0</td>\n",
       "      <td>0</td>\n",
       "      <td>0</td>\n",
       "      <td>0</td>\n",
       "      <td>0</td>\n",
       "      <td>0</td>\n",
       "      <td>0</td>\n",
       "      <td>1</td>\n",
       "    </tr>\n",
       "    <tr>\n",
       "      <th>7041</th>\n",
       "      <td>0</td>\n",
       "      <td>67</td>\n",
       "      <td>67.85</td>\n",
       "      <td>1</td>\n",
       "      <td>1</td>\n",
       "      <td>1</td>\n",
       "      <td>1</td>\n",
       "      <td>0</td>\n",
       "      <td>0</td>\n",
       "      <td>0</td>\n",
       "      <td>...</td>\n",
       "      <td>1</td>\n",
       "      <td>0</td>\n",
       "      <td>0</td>\n",
       "      <td>0</td>\n",
       "      <td>1</td>\n",
       "      <td>0</td>\n",
       "      <td>0</td>\n",
       "      <td>0</td>\n",
       "      <td>0</td>\n",
       "      <td>1</td>\n",
       "    </tr>\n",
       "    <tr>\n",
       "      <th>7042</th>\n",
       "      <td>0</td>\n",
       "      <td>63</td>\n",
       "      <td>59.00</td>\n",
       "      <td>1</td>\n",
       "      <td>1</td>\n",
       "      <td>1</td>\n",
       "      <td>0</td>\n",
       "      <td>1</td>\n",
       "      <td>0</td>\n",
       "      <td>0</td>\n",
       "      <td>...</td>\n",
       "      <td>1</td>\n",
       "      <td>0</td>\n",
       "      <td>0</td>\n",
       "      <td>0</td>\n",
       "      <td>1</td>\n",
       "      <td>0</td>\n",
       "      <td>0</td>\n",
       "      <td>0</td>\n",
       "      <td>1</td>\n",
       "      <td>0</td>\n",
       "    </tr>\n",
       "  </tbody>\n",
       "</table>\n",
       "<p>7043 rows × 30 columns</p>\n",
       "</div>"
      ],
      "text/plain": [
       "      senior_citizen  tenure  monthly_charges  gender_Male  partner_Yes  \\\n",
       "0                  0       9            65.60            0            1   \n",
       "1                  0       9            59.90            1            0   \n",
       "2                  0       4            73.90            1            0   \n",
       "3                  1      13            98.00            1            1   \n",
       "4                  1       3            83.90            0            1   \n",
       "...              ...     ...              ...          ...          ...   \n",
       "7038               0      13            55.15            0            0   \n",
       "7039               0      22            85.10            1            1   \n",
       "7040               0       2            50.30            1            0   \n",
       "7041               0      67            67.85            1            1   \n",
       "7042               0      63            59.00            1            1   \n",
       "\n",
       "      dependents_Yes  phone_service_Yes  multiple_lines_No phone service  \\\n",
       "0                  1                  1                                0   \n",
       "1                  0                  1                                0   \n",
       "2                  0                  1                                0   \n",
       "3                  0                  1                                0   \n",
       "4                  0                  1                                0   \n",
       "...              ...                ...                              ...   \n",
       "7038               0                  1                                0   \n",
       "7039               0                  1                                0   \n",
       "7040               0                  1                                0   \n",
       "7041               1                  1                                0   \n",
       "7042               1                  0                                1   \n",
       "\n",
       "      multiple_lines_Yes  online_security_No internet service  ...  \\\n",
       "0                      0                                    0  ...   \n",
       "1                      1                                    0  ...   \n",
       "2                      0                                    0  ...   \n",
       "3                      0                                    0  ...   \n",
       "4                      0                                    0  ...   \n",
       "...                  ...                                  ...  ...   \n",
       "7038                   0                                    0  ...   \n",
       "7039                   1                                    0  ...   \n",
       "7040                   0                                    0  ...   \n",
       "7041                   0                                    0  ...   \n",
       "7042                   0                                    0  ...   \n",
       "\n",
       "      streaming_movies_Yes  paperless_billing_Yes  churn_Yes  \\\n",
       "0                        0                      1          0   \n",
       "1                        1                      0          0   \n",
       "2                        0                      1          1   \n",
       "3                        1                      1          1   \n",
       "4                        0                      1          1   \n",
       "...                    ...                    ...        ...   \n",
       "7038                     0                      0          0   \n",
       "7039                     1                      1          1   \n",
       "7040                     0                      1          0   \n",
       "7041                     1                      0          0   \n",
       "7042                     1                      0          0   \n",
       "\n",
       "      contract_type_One year  contract_type_Two year  \\\n",
       "0                          1                       0   \n",
       "1                          0                       0   \n",
       "2                          0                       0   \n",
       "3                          0                       0   \n",
       "4                          0                       0   \n",
       "...                      ...                     ...   \n",
       "7038                       1                       0   \n",
       "7039                       0                       0   \n",
       "7040                       0                       0   \n",
       "7041                       0                       1   \n",
       "7042                       0                       1   \n",
       "\n",
       "      internet_service_type_Fiber optic  internet_service_type_None  \\\n",
       "0                                     0                           0   \n",
       "1                                     0                           0   \n",
       "2                                     1                           0   \n",
       "3                                     1                           0   \n",
       "4                                     1                           0   \n",
       "...                                 ...                         ...   \n",
       "7038                                  0                           0   \n",
       "7039                                  1                           0   \n",
       "7040                                  0                           0   \n",
       "7041                                  0                           0   \n",
       "7042                                  0                           0   \n",
       "\n",
       "      payment_type_Credit card (automatic)  payment_type_Electronic check  \\\n",
       "0                                        0                              0   \n",
       "1                                        0                              0   \n",
       "2                                        0                              1   \n",
       "3                                        0                              1   \n",
       "4                                        0                              0   \n",
       "...                                    ...                            ...   \n",
       "7038                                     0                              0   \n",
       "7039                                     0                              1   \n",
       "7040                                     0                              0   \n",
       "7041                                     0                              0   \n",
       "7042                                     0                              1   \n",
       "\n",
       "      payment_type_Mailed check  \n",
       "0                             1  \n",
       "1                             1  \n",
       "2                             0  \n",
       "3                             0  \n",
       "4                             1  \n",
       "...                         ...  \n",
       "7038                          1  \n",
       "7039                          0  \n",
       "7040                          1  \n",
       "7041                          1  \n",
       "7042                          0  \n",
       "\n",
       "[7043 rows x 30 columns]"
      ]
     },
     "execution_count": 58,
     "metadata": {},
     "output_type": "execute_result"
    }
   ],
   "source": [
    "telco"
   ]
  },
  {
   "cell_type": "markdown",
   "id": "1880abff",
   "metadata": {},
   "source": [
    "# train, val, test telco"
   ]
  },
  {
   "cell_type": "code",
   "execution_count": 60,
   "id": "4b20b5b9",
   "metadata": {},
   "outputs": [],
   "source": [
    "Ttrain,Tvalidate,Ttest = prepare.split_data(telco,'churn_Yes')"
   ]
  },
  {
   "cell_type": "code",
   "execution_count": 61,
   "id": "a351df16",
   "metadata": {},
   "outputs": [
    {
     "data": {
      "text/plain": [
       "((3943, 30), (1691, 30), (1409, 30))"
      ]
     },
     "execution_count": 61,
     "metadata": {},
     "output_type": "execute_result"
    }
   ],
   "source": [
    "Ttrain.shape,Tvalidate.shape,Ttest.shape"
   ]
  },
  {
   "cell_type": "markdown",
   "id": "66ae2b7c",
   "metadata": {},
   "source": [
    "# 13 x and y telco vars"
   ]
  },
  {
   "cell_type": "code",
   "execution_count": 70,
   "id": "f96efac3",
   "metadata": {},
   "outputs": [],
   "source": [
    "x_Ttrain = Ttrain.drop(columns=['churn_Yes'])\n",
    "y_Ttrain = Ttrain.churn_Yes"
   ]
  },
  {
   "cell_type": "code",
   "execution_count": 74,
   "id": "7451c758",
   "metadata": {},
   "outputs": [],
   "source": [
    "x_Tvalidate = Tvalidate.drop(columns=['churn_Yes'])\n",
    "y_Tvalidate = Tvalidate.churn_Yes"
   ]
  },
  {
   "cell_type": "code",
   "execution_count": 75,
   "id": "210bb223",
   "metadata": {},
   "outputs": [],
   "source": [
    "x_Ttest = Ttest.drop(columns=['churn_Yes'])\n",
    "y_Ttest = Ttest.churn_Yes"
   ]
  },
  {
   "cell_type": "markdown",
   "id": "b12473b0",
   "metadata": {},
   "source": [
    "# Train Telco"
   ]
  },
  {
   "cell_type": "code",
   "execution_count": 68,
   "id": "123a32d9",
   "metadata": {},
   "outputs": [],
   "source": [
    "clf = DecisionTreeClassifier(max_depth=3, random_state=123)"
   ]
  },
  {
   "cell_type": "markdown",
   "id": "f91504be",
   "metadata": {},
   "source": [
    "# Fit Telco to decision tree"
   ]
  },
  {
   "cell_type": "code",
   "execution_count": 71,
   "id": "579c4d84",
   "metadata": {},
   "outputs": [],
   "source": [
    "clf = clf.fit(x_Ttrain,y_Ttrain)"
   ]
  },
  {
   "cell_type": "code",
   "execution_count": null,
   "id": "d2a1ffb0",
   "metadata": {},
   "outputs": [],
   "source": []
  },
  {
   "cell_type": "markdown",
   "id": "581e92ca",
   "metadata": {},
   "source": [
    "# 16 Evaluate in-sample"
   ]
  },
  {
   "cell_type": "code",
   "execution_count": 72,
   "id": "d08f33c8",
   "metadata": {},
   "outputs": [
    {
     "data": {
      "text/plain": [
       "0.7887395384225209"
      ]
     },
     "execution_count": 72,
     "metadata": {},
     "output_type": "execute_result"
    }
   ],
   "source": [
    "clf.score(x_Ttrain,y_Ttrain)"
   ]
  },
  {
   "cell_type": "code",
   "execution_count": 76,
   "id": "5ca2bb9b",
   "metadata": {},
   "outputs": [
    {
     "data": {
      "text/plain": [
       "0.7882909520993495"
      ]
     },
     "execution_count": 76,
     "metadata": {},
     "output_type": "execute_result"
    }
   ],
   "source": [
    "clf.score(x_Tvalidate,y_Tvalidate)"
   ]
  },
  {
   "cell_type": "markdown",
   "id": "36b304b2",
   "metadata": {},
   "source": [
    "# Telco Prediction"
   ]
  },
  {
   "cell_type": "code",
   "execution_count": 77,
   "id": "e329ecae",
   "metadata": {},
   "outputs": [],
   "source": [
    "y_Tprediction = clf.predict(x_Ttrain)\n"
   ]
  },
  {
   "cell_type": "markdown",
   "id": "efd1bd8d",
   "metadata": {},
   "source": [
    " # Telco Probability"
   ]
  },
  {
   "cell_type": "code",
   "execution_count": 80,
   "id": "6e6cfc50",
   "metadata": {},
   "outputs": [
    {
     "data": {
      "text/plain": [
       "array([[0.98442368, 0.01557632],\n",
       "       [0.81687243, 0.18312757],\n",
       "       [0.91971831, 0.08028169],\n",
       "       [0.58368201, 0.41631799],\n",
       "       [0.8190184 , 0.1809816 ]])"
      ]
     },
     "execution_count": 80,
     "metadata": {},
     "output_type": "execute_result"
    }
   ],
   "source": [
    "y_Tprediction_probability = clf.predict_proba(x_Ttrain)\n",
    "y_Tprediction_probability[0:5]"
   ]
  },
  {
   "cell_type": "code",
   "execution_count": 81,
   "id": "dc4ebc91",
   "metadata": {},
   "outputs": [
    {
     "name": "stdout",
     "output_type": "stream",
     "text": [
      "Accuracy of Decision Tree classifier on Telco training set: 0.79\n"
     ]
    }
   ],
   "source": [
    "print('Accuracy of Decision Tree classifier on Telco training set: {:.2f}'\n",
    "      .format(clf.score(x_Ttrain, y_Ttrain)))"
   ]
  },
  {
   "cell_type": "markdown",
   "id": "e05614ca",
   "metadata": {},
   "source": [
    "# Telco Matrix"
   ]
  },
  {
   "cell_type": "code",
   "execution_count": 82,
   "id": "d0b42e16",
   "metadata": {},
   "outputs": [
    {
     "data": {
      "text/plain": [
       "array([[2700,  197],\n",
       "       [ 636,  410]])"
      ]
     },
     "execution_count": 82,
     "metadata": {},
     "output_type": "execute_result"
    }
   ],
   "source": [
    "confusion_matrix(y_Ttrain,y_Tprediction)"
   ]
  },
  {
   "cell_type": "code",
   "execution_count": 83,
   "id": "d03b8ec5",
   "metadata": {},
   "outputs": [
    {
     "data": {
      "text/plain": [
       "0    2897\n",
       "1    1046\n",
       "Name: churn_Yes, dtype: int64"
      ]
     },
     "execution_count": 83,
     "metadata": {},
     "output_type": "execute_result"
    }
   ],
   "source": [
    "y_Ttrain.value_counts()"
   ]
  },
  {
   "cell_type": "code",
   "execution_count": 86,
   "id": "ead7f84e",
   "metadata": {},
   "outputs": [
    {
     "data": {
      "text/html": [
       "<div>\n",
       "<style scoped>\n",
       "    .dataframe tbody tr th:only-of-type {\n",
       "        vertical-align: middle;\n",
       "    }\n",
       "\n",
       "    .dataframe tbody tr th {\n",
       "        vertical-align: top;\n",
       "    }\n",
       "\n",
       "    .dataframe thead th {\n",
       "        text-align: right;\n",
       "    }\n",
       "</style>\n",
       "<table border=\"1\" class=\"dataframe\">\n",
       "  <thead>\n",
       "    <tr style=\"text-align: right;\">\n",
       "      <th></th>\n",
       "      <th>0</th>\n",
       "      <th>1</th>\n",
       "    </tr>\n",
       "  </thead>\n",
       "  <tbody>\n",
       "    <tr>\n",
       "      <th>0</th>\n",
       "      <td>2700</td>\n",
       "      <td>197</td>\n",
       "    </tr>\n",
       "    <tr>\n",
       "      <th>1</th>\n",
       "      <td>636</td>\n",
       "      <td>410</td>\n",
       "    </tr>\n",
       "  </tbody>\n",
       "</table>\n",
       "</div>"
      ],
      "text/plain": [
       "      0    1\n",
       "0  2700  197\n",
       "1   636  410"
      ]
     },
     "execution_count": 86,
     "metadata": {},
     "output_type": "execute_result"
    }
   ],
   "source": [
    "\n",
    "telco_labels = sorted(y_Ttrain.unique())\n",
    "\n",
    "pd.DataFrame(confusion_matrix(y_Ttrain, y_Tprediction), index=telco_labels, columns=telco_labels)"
   ]
  },
  {
   "cell_type": "markdown",
   "id": "2ee63bea",
   "metadata": {},
   "source": [
    "# classification report "
   ]
  },
  {
   "cell_type": "code",
   "execution_count": 87,
   "id": "e45ed783",
   "metadata": {},
   "outputs": [
    {
     "name": "stdout",
     "output_type": "stream",
     "text": [
      "              precision    recall  f1-score   support\n",
      "\n",
      "           0       0.81      0.93      0.87      2897\n",
      "           1       0.68      0.39      0.50      1046\n",
      "\n",
      "    accuracy                           0.79      3943\n",
      "   macro avg       0.74      0.66      0.68      3943\n",
      "weighted avg       0.77      0.79      0.77      3943\n",
      "\n"
     ]
    }
   ],
   "source": [
    "print(classification_report(y_Ttrain, y_Tprediction))"
   ]
  },
  {
   "cell_type": "code",
   "execution_count": 88,
   "id": "509e4f41",
   "metadata": {},
   "outputs": [],
   "source": [
    "tp = 2700\n",
    "tn = 410\n",
    "fp = 197\n",
    "fn = 637"
   ]
  },
  {
   "cell_type": "code",
   "execution_count": 95,
   "id": "bbc2bdf4",
   "metadata": {},
   "outputs": [
    {
     "data": {
      "text/plain": [
       "0.8091099790230746"
      ]
     },
     "execution_count": 95,
     "metadata": {},
     "output_type": "execute_result"
    }
   ],
   "source": [
    "# tp rate\n",
    "tp/(tp+fn)"
   ]
  },
  {
   "cell_type": "code",
   "execution_count": 96,
   "id": "a8073f41",
   "metadata": {},
   "outputs": [
    {
     "data": {
      "text/plain": [
       "0.3245469522240527"
      ]
     },
     "execution_count": 96,
     "metadata": {},
     "output_type": "execute_result"
    }
   ],
   "source": [
    "# fp rate\n",
    "fp/(fp+tn)"
   ]
  },
  {
   "cell_type": "code",
   "execution_count": 97,
   "id": "077ff007",
   "metadata": {},
   "outputs": [
    {
     "data": {
      "text/plain": [
       "0.1908900209769254"
      ]
     },
     "execution_count": 97,
     "metadata": {},
     "output_type": "execute_result"
    }
   ],
   "source": [
    "# fn rate\n",
    "fn/(fn+tp)"
   ]
  },
  {
   "cell_type": "code",
   "execution_count": 98,
   "id": "e140e333",
   "metadata": {},
   "outputs": [
    {
     "data": {
      "text/plain": [
       "0.6754530477759473"
      ]
     },
     "execution_count": 98,
     "metadata": {},
     "output_type": "execute_result"
    }
   ],
   "source": [
    "# tn rate\n",
    "tn/(tn+fp)"
   ]
  },
  {
   "cell_type": "markdown",
   "id": "2ec60af4",
   "metadata": {},
   "source": [
    "# evaluate the model"
   ]
  },
  {
   "cell_type": "code",
   "execution_count": 94,
   "id": "cd04ac71",
   "metadata": {},
   "outputs": [
    {
     "name": "stdout",
     "output_type": "stream",
     "text": [
      "Accuracy of Decision Tree classifier on validate set: 0.79\n"
     ]
    }
   ],
   "source": [
    "print('Accuracy of Decision Tree classifier on validate set: {:.2f}'\n",
    "     .format(clf.score(x_Ttrain, y_Ttrain)))\n"
   ]
  },
  {
   "cell_type": "code",
   "execution_count": 89,
   "id": "5bf47d47",
   "metadata": {},
   "outputs": [
    {
     "name": "stdout",
     "output_type": "stream",
     "text": [
      "Accuracy of Decision Tree classifier on telco validate set: 0.79\n"
     ]
    }
   ],
   "source": [
    "print('Accuracy of Decision Tree classifier on telco validate set: {:.2f}'\n",
    "     .format(clf.score(x_Tvalidate, y_Tvalidate)))\n"
   ]
  },
  {
   "cell_type": "code",
   "execution_count": null,
   "id": "4698e194",
   "metadata": {},
   "outputs": [],
   "source": []
  }
 ],
 "metadata": {
  "kernelspec": {
   "display_name": "Python 3 (ipykernel)",
   "language": "python",
   "name": "python3"
  },
  "language_info": {
   "codemirror_mode": {
    "name": "ipython",
    "version": 3
   },
   "file_extension": ".py",
   "mimetype": "text/x-python",
   "name": "python",
   "nbconvert_exporter": "python",
   "pygments_lexer": "ipython3",
   "version": "3.9.13"
  },
  "toc": {
   "base_numbering": 1,
   "nav_menu": {},
   "number_sections": true,
   "sideBar": true,
   "skip_h1_title": false,
   "title_cell": "Table of Contents",
   "title_sidebar": "Contents",
   "toc_cell": false,
   "toc_position": {
    "height": "calc(100% - 180px)",
    "left": "10px",
    "top": "150px",
    "width": "193.59375px"
   },
   "toc_section_display": true,
   "toc_window_display": true
  }
 },
 "nbformat": 4,
 "nbformat_minor": 5
}
