{
 "cells": [
  {
   "cell_type": "code",
   "execution_count": 4,
   "id": "d2acf4bd",
   "metadata": {},
   "outputs": [],
   "source": [
    "# ignore warnings\n",
    "import warnings\n",
    "warnings.filterwarnings(\"ignore\")\n",
    "\n",
    "import pandas as pd\n",
    "import numpy as np\n",
    "\n",
    "%matplotlib inline\n",
    "import matplotlib.pyplot as plt\n",
    "import seaborn as sns\n",
    "\n",
    "from sklearn.model_selection import train_test_split\n",
    "from sklearn.neighbors import KNeighborsClassifier\n",
    "from sklearn.metrics import classification_report\n",
    "from sklearn.metrics import confusion_matrix\n",
    "\n",
    "from pydataset import data\n",
    "\n",
    "\n",
    "import env\n",
    "import os\n",
    "import acquire\n",
    "import prepare"
   ]
  },
  {
   "cell_type": "markdown",
   "id": "7791288e",
   "metadata": {},
   "source": [
    "# acquire data"
   ]
  },
  {
   "cell_type": "code",
   "execution_count": 6,
   "id": "d5d34180",
   "metadata": {},
   "outputs": [],
   "source": [
    "titanic = acquire.get_titanic_data(acquire.get_connection)"
   ]
  },
  {
   "cell_type": "code",
   "execution_count": 9,
   "id": "a08d1de7",
   "metadata": {},
   "outputs": [],
   "source": [
    "titanic = prepare.prep_titanic(titanic)"
   ]
  },
  {
   "cell_type": "code",
   "execution_count": 13,
   "id": "1fa02f14",
   "metadata": {},
   "outputs": [
    {
     "data": {
      "text/html": [
       "<div>\n",
       "<style scoped>\n",
       "    .dataframe tbody tr th:only-of-type {\n",
       "        vertical-align: middle;\n",
       "    }\n",
       "\n",
       "    .dataframe tbody tr th {\n",
       "        vertical-align: top;\n",
       "    }\n",
       "\n",
       "    .dataframe thead th {\n",
       "        text-align: right;\n",
       "    }\n",
       "</style>\n",
       "<table border=\"1\" class=\"dataframe\">\n",
       "  <thead>\n",
       "    <tr style=\"text-align: right;\">\n",
       "      <th></th>\n",
       "      <th>survived</th>\n",
       "      <th>pclass</th>\n",
       "      <th>sibsp</th>\n",
       "      <th>parch</th>\n",
       "      <th>fare</th>\n",
       "      <th>alone</th>\n",
       "      <th>sex_male</th>\n",
       "      <th>embark_town_Queenstown</th>\n",
       "      <th>embark_town_Southampton</th>\n",
       "    </tr>\n",
       "  </thead>\n",
       "  <tbody>\n",
       "    <tr>\n",
       "      <th>0</th>\n",
       "      <td>0</td>\n",
       "      <td>3</td>\n",
       "      <td>1</td>\n",
       "      <td>0</td>\n",
       "      <td>7.25</td>\n",
       "      <td>0</td>\n",
       "      <td>1</td>\n",
       "      <td>0</td>\n",
       "      <td>1</td>\n",
       "    </tr>\n",
       "  </tbody>\n",
       "</table>\n",
       "</div>"
      ],
      "text/plain": [
       "   survived  pclass  sibsp  parch  fare  alone  sex_male  \\\n",
       "0         0       3      1      0  7.25      0         1   \n",
       "\n",
       "   embark_town_Queenstown  embark_town_Southampton  \n",
       "0                       0                        1  "
      ]
     },
     "execution_count": 13,
     "metadata": {},
     "output_type": "execute_result"
    }
   ],
   "source": [
    "titanic.head(1)"
   ]
  },
  {
   "cell_type": "code",
   "execution_count": 12,
   "id": "d877d022",
   "metadata": {},
   "outputs": [],
   "source": [
    "titanic = titanic.drop(columns=['sex','embark_town'])"
   ]
  },
  {
   "cell_type": "markdown",
   "id": "ed78c6a5",
   "metadata": {},
   "source": [
    "# split data"
   ]
  },
  {
   "cell_type": "code",
   "execution_count": 14,
   "id": "cc5f9d78",
   "metadata": {},
   "outputs": [],
   "source": [
    "train,validate,test = prepare.split_data(titanic,'survived')"
   ]
  },
  {
   "cell_type": "code",
   "execution_count": 15,
   "id": "98ddc421",
   "metadata": {},
   "outputs": [
    {
     "data": {
      "text/plain": [
       "((498, 9), (214, 9), (179, 9))"
      ]
     },
     "execution_count": 15,
     "metadata": {},
     "output_type": "execute_result"
    }
   ],
   "source": [
    "train.shape, validate.shape,test.shape"
   ]
  },
  {
   "cell_type": "code",
   "execution_count": null,
   "id": "207c10d6",
   "metadata": {},
   "outputs": [],
   "source": []
  },
  {
   "cell_type": "markdown",
   "id": "aa27957d",
   "metadata": {},
   "source": [
    "# x and y data"
   ]
  },
  {
   "cell_type": "code",
   "execution_count": 19,
   "id": "fb014083",
   "metadata": {},
   "outputs": [],
   "source": [
    "x_train = train.drop(columns=['survived'])\n",
    "y_train = train.survived\n",
    "\n",
    "x_validate = validate.drop(columns=['survived'])\n",
    "y_validate = validate.survived\n",
    "\n",
    "x_test = test.drop(columns=['survived'])\n",
    "y_test = test.survived"
   ]
  },
  {
   "cell_type": "markdown",
   "id": "2b4db75f",
   "metadata": {},
   "source": [
    "# Fit a K-Nearest Neighbors classifier to your training sample and transform (i.e. make predictions on the training sample)"
   ]
  },
  {
   "cell_type": "markdown",
   "id": "ae517a11",
   "metadata": {},
   "source": [
    "## train model"
   ]
  },
  {
   "cell_type": "code",
   "execution_count": 22,
   "id": "334c9d89",
   "metadata": {},
   "outputs": [
    {
     "data": {
      "text/plain": [
       "KNeighborsClassifier()"
      ]
     },
     "execution_count": 22,
     "metadata": {},
     "output_type": "execute_result"
    }
   ],
   "source": [
    "knn = KNeighborsClassifier(n_neighbors=5, weights='uniform')\n",
    "knn"
   ]
  },
  {
   "cell_type": "markdown",
   "id": "88e98b0a",
   "metadata": {},
   "source": [
    "## fit model"
   ]
  },
  {
   "cell_type": "code",
   "execution_count": 23,
   "id": "2db0d04d",
   "metadata": {},
   "outputs": [
    {
     "data": {
      "text/plain": [
       "KNeighborsClassifier()"
      ]
     },
     "execution_count": 23,
     "metadata": {},
     "output_type": "execute_result"
    }
   ],
   "source": [
    "knn.fit(x_train,y_train)"
   ]
  },
  {
   "cell_type": "markdown",
   "id": "724caaca",
   "metadata": {},
   "source": [
    "## make predictions"
   ]
  },
  {
   "cell_type": "code",
   "execution_count": null,
   "id": "a6ecf773",
   "metadata": {},
   "outputs": [],
   "source": [
    "y_pred = knn.predict(x_train)"
   ]
  },
  {
   "cell_type": "markdown",
   "id": "0f77263e",
   "metadata": {},
   "source": [
    "## estimate probability"
   ]
  },
  {
   "cell_type": "code",
   "execution_count": 25,
   "id": "ccd6ad94",
   "metadata": {},
   "outputs": [],
   "source": [
    "y_pred_proba = knn.predict_proba(x_train)\n"
   ]
  },
  {
   "cell_type": "markdown",
   "id": "397d7905",
   "metadata": {},
   "source": [
    "# Evaluate your results using the model score, confusion matrix, and classification report."
   ]
  },
  {
   "cell_type": "markdown",
   "id": "3086fd6b",
   "metadata": {},
   "source": [
    "## score"
   ]
  },
  {
   "cell_type": "code",
   "execution_count": 27,
   "id": "5fd4db18",
   "metadata": {},
   "outputs": [
    {
     "name": "stdout",
     "output_type": "stream",
     "text": [
      "Accuracy of KNN classifier on training set: 0.82\n"
     ]
    }
   ],
   "source": [
    "print('Accuracy of KNN classifier on training set: {:.2f}'\n",
    "     .format(knn.score(x_train, y_train)))"
   ]
  },
  {
   "cell_type": "markdown",
   "id": "74a0b44f",
   "metadata": {},
   "source": [
    "## confusion matrix\n"
   ]
  },
  {
   "cell_type": "code",
   "execution_count": 41,
   "id": "ca433f7c",
   "metadata": {},
   "outputs": [
    {
     "data": {
      "text/html": [
       "<div>\n",
       "<style scoped>\n",
       "    .dataframe tbody tr th:only-of-type {\n",
       "        vertical-align: middle;\n",
       "    }\n",
       "\n",
       "    .dataframe tbody tr th {\n",
       "        vertical-align: top;\n",
       "    }\n",
       "\n",
       "    .dataframe thead th {\n",
       "        text-align: right;\n",
       "    }\n",
       "</style>\n",
       "<table border=\"1\" class=\"dataframe\">\n",
       "  <thead>\n",
       "    <tr style=\"text-align: right;\">\n",
       "      <th></th>\n",
       "      <th>pred 0</th>\n",
       "      <th>pred 1</th>\n",
       "    </tr>\n",
       "  </thead>\n",
       "  <tbody>\n",
       "    <tr>\n",
       "      <th>actual 0</th>\n",
       "      <td>274</td>\n",
       "      <td>33</td>\n",
       "    </tr>\n",
       "    <tr>\n",
       "      <th>actual 1</th>\n",
       "      <td>58</td>\n",
       "      <td>133</td>\n",
       "    </tr>\n",
       "  </tbody>\n",
       "</table>\n",
       "</div>"
      ],
      "text/plain": [
       "          pred 0  pred 1\n",
       "actual 0     274      33\n",
       "actual 1      58     133"
      ]
     },
     "execution_count": 41,
     "metadata": {},
     "output_type": "execute_result"
    }
   ],
   "source": [
    "cm = confusion_matrix(y_train, y_pred)\n",
    "cm = pd.DataFrame(cm,index = ['actual 0','actual 1'] , columns = ['pred 0','pred 1'])\n",
    "cm"
   ]
  },
  {
   "cell_type": "code",
   "execution_count": 30,
   "id": "16561316",
   "metadata": {},
   "outputs": [],
   "source": [
    "tp = 274\n",
    "tn = 133\n",
    "fp = 33\n",
    "fn = 58\n",
    "comb = tp + tn + fp + fn"
   ]
  },
  {
   "cell_type": "markdown",
   "id": "d5a3554b",
   "metadata": {},
   "source": [
    "# Print and clearly label the following: Accuracy, true positive rate, false positive rate, true negative rate, false negative rate, precision, recall, f1-score, and support."
   ]
  },
  {
   "cell_type": "code",
   "execution_count": 34,
   "id": "695bc775",
   "metadata": {},
   "outputs": [
    {
     "name": "stdout",
     "output_type": "stream",
     "text": [
      "Accuracy: 0.8172690763052208\n",
      "True Positive Rate: 0.8253012048192772\n",
      "False Positive Rate: 0.19879518072289157\n",
      "True Negative Rate: 0.8012048192771084\n",
      "False Negative Rate: 0.1746987951807229\n",
      "Precision: 0.8925081433224755\n",
      "Recall: 0.8253012048192772\n",
      "F1 Score: 0.8575899843505477\n",
      "Support (0): 332\n",
      "Support (1): 166\n"
     ]
    }
   ],
   "source": [
    "accuracy = (tp + tn)/ comb\n",
    "print(f\"Accuracy: {accuracy}\")\n",
    "\n",
    "true_positive_rate = tp/(tp+fn)\n",
    "print(f\"True Positive Rate: {true_positive_rate}\")\n",
    "\n",
    "false_positive_rate = fp/(fp+tn)\n",
    "print(f\"False Positive Rate: {false_positive_rate}\")\n",
    "\n",
    "true_negative_rate = tn/(tn+fp)\n",
    "print(f\"True Negative Rate: {true_negative_rate}\")\n",
    "\n",
    "false_negative_rate = fn/(fn+tp)\n",
    "print(f\"False Negative Rate: {false_negative_rate}\")\n",
    "\n",
    "precision = tp / (tp + fp)\n",
    "print(f\"Precision: {precision}\")\n",
    "\n",
    "recall = tp / (tp + fn)\n",
    "print(f\"Recall: {recall}\")\n",
    "\n",
    "f1_score = 2 * (precision * recall) / (precision + recall)\n",
    "print(f\"F1 Score: {f1_score}\")\n",
    "\n",
    "support_pos = tp + fn\n",
    "print(f\"Support (0): {support_pos}\")\n",
    "\n",
    "support_neg = fp + tn\n",
    "print(f\"Support (1): {support_neg}\")"
   ]
  },
  {
   "cell_type": "markdown",
   "id": "294b736d",
   "metadata": {},
   "source": [
    "## classification report"
   ]
  },
  {
   "cell_type": "code",
   "execution_count": 44,
   "id": "9b9a592e",
   "metadata": {},
   "outputs": [
    {
     "data": {
      "text/html": [
       "<div>\n",
       "<style scoped>\n",
       "    .dataframe tbody tr th:only-of-type {\n",
       "        vertical-align: middle;\n",
       "    }\n",
       "\n",
       "    .dataframe tbody tr th {\n",
       "        vertical-align: top;\n",
       "    }\n",
       "\n",
       "    .dataframe thead th {\n",
       "        text-align: right;\n",
       "    }\n",
       "</style>\n",
       "<table border=\"1\" class=\"dataframe\">\n",
       "  <thead>\n",
       "    <tr style=\"text-align: right;\">\n",
       "      <th></th>\n",
       "      <th>0</th>\n",
       "      <th>1</th>\n",
       "      <th>accuracy</th>\n",
       "      <th>macro avg</th>\n",
       "      <th>weighted avg</th>\n",
       "    </tr>\n",
       "  </thead>\n",
       "  <tbody>\n",
       "    <tr>\n",
       "      <th>precision</th>\n",
       "      <td>0.825301</td>\n",
       "      <td>0.801205</td>\n",
       "      <td>0.817269</td>\n",
       "      <td>0.813253</td>\n",
       "      <td>0.816059</td>\n",
       "    </tr>\n",
       "    <tr>\n",
       "      <th>recall</th>\n",
       "      <td>0.892508</td>\n",
       "      <td>0.696335</td>\n",
       "      <td>0.817269</td>\n",
       "      <td>0.794422</td>\n",
       "      <td>0.817269</td>\n",
       "    </tr>\n",
       "    <tr>\n",
       "      <th>f1-score</th>\n",
       "      <td>0.857590</td>\n",
       "      <td>0.745098</td>\n",
       "      <td>0.817269</td>\n",
       "      <td>0.801344</td>\n",
       "      <td>0.814445</td>\n",
       "    </tr>\n",
       "    <tr>\n",
       "      <th>support</th>\n",
       "      <td>307.000000</td>\n",
       "      <td>191.000000</td>\n",
       "      <td>0.817269</td>\n",
       "      <td>498.000000</td>\n",
       "      <td>498.000000</td>\n",
       "    </tr>\n",
       "  </tbody>\n",
       "</table>\n",
       "</div>"
      ],
      "text/plain": [
       "                    0           1  accuracy   macro avg  weighted avg\n",
       "precision    0.825301    0.801205  0.817269    0.813253      0.816059\n",
       "recall       0.892508    0.696335  0.817269    0.794422      0.817269\n",
       "f1-score     0.857590    0.745098  0.817269    0.801344      0.814445\n",
       "support    307.000000  191.000000  0.817269  498.000000    498.000000"
      ]
     },
     "execution_count": 44,
     "metadata": {},
     "output_type": "execute_result"
    }
   ],
   "source": [
    "pd.DataFrame(classification_report(y_train,y_pred,output_dict=True))"
   ]
  },
  {
   "cell_type": "markdown",
   "id": "a9990f74",
   "metadata": {},
   "source": [
    "# Run through steps 1-3 setting k to 10"
   ]
  },
  {
   "cell_type": "code",
   "execution_count": 54,
   "id": "8c47260d",
   "metadata": {},
   "outputs": [],
   "source": [
    "knn10 = KNeighborsClassifier(n_neighbors=10)"
   ]
  },
  {
   "cell_type": "code",
   "execution_count": 55,
   "id": "c819b327",
   "metadata": {},
   "outputs": [
    {
     "data": {
      "text/plain": [
       "KNeighborsClassifier(n_neighbors=10)"
      ]
     },
     "execution_count": 55,
     "metadata": {},
     "output_type": "execute_result"
    }
   ],
   "source": [
    "knn10.fit(x_train, y_train)"
   ]
  },
  {
   "cell_type": "code",
   "execution_count": 61,
   "id": "753ea198",
   "metadata": {},
   "outputs": [],
   "source": [
    "y10_pred = knn10.predict(x_train)"
   ]
  },
  {
   "cell_type": "code",
   "execution_count": 57,
   "id": "8db54515",
   "metadata": {},
   "outputs": [],
   "source": [
    "y10_pred_proba = knn10.predict_proba(x_train)"
   ]
  },
  {
   "cell_type": "code",
   "execution_count": 59,
   "id": "4801685f",
   "metadata": {},
   "outputs": [
    {
     "name": "stdout",
     "output_type": "stream",
     "text": [
      "Accuracy of KNN classifier on training set: 0.77\n"
     ]
    }
   ],
   "source": [
    "print('Accuracy of KNN classifier on training set: {:.2f}'\n",
    "     .format(knn10.score(x_train, y_train)))"
   ]
  },
  {
   "cell_type": "code",
   "execution_count": 62,
   "id": "7c90d55b",
   "metadata": {},
   "outputs": [
    {
     "data": {
      "text/plain": [
       "array([[279,  28],\n",
       "       [ 88, 103]])"
      ]
     },
     "execution_count": 62,
     "metadata": {},
     "output_type": "execute_result"
    }
   ],
   "source": [
    "confusion_matrix(y_train, y10_pred)"
   ]
  },
  {
   "cell_type": "code",
   "execution_count": 63,
   "id": "4bc30456",
   "metadata": {},
   "outputs": [],
   "source": [
    "tp10 = 279\n",
    "tn10 = 103\n",
    "fp10 = 28\n",
    "fn10 = 88\n"
   ]
  },
  {
   "cell_type": "code",
   "execution_count": 67,
   "id": "1ac664f0",
   "metadata": {},
   "outputs": [],
   "source": [
    "comb10 = tp10 + tn10 + fp10 + fn10"
   ]
  },
  {
   "cell_type": "code",
   "execution_count": 69,
   "id": "a03e9ed5",
   "metadata": {},
   "outputs": [
    {
     "name": "stdout",
     "output_type": "stream",
     "text": [
      "              precision    recall  f1-score   support\n",
      "\n",
      "           0       0.76      0.91      0.83       307\n",
      "           1       0.79      0.54      0.64       191\n",
      "\n",
      "    accuracy                           0.77       498\n",
      "   macro avg       0.77      0.72      0.73       498\n",
      "weighted avg       0.77      0.77      0.76       498\n",
      "\n"
     ]
    }
   ],
   "source": [
    "print(classification_report(y_train, y10_pred))"
   ]
  },
  {
   "cell_type": "code",
   "execution_count": 71,
   "id": "b83ea18f",
   "metadata": {},
   "outputs": [
    {
     "name": "stdout",
     "output_type": "stream",
     "text": [
      "Accuracy: 0.7670682730923695\n",
      "True Positive Rate: 0.7602179836512262\n",
      "False Positive Rate: 0.21374045801526717\n",
      "True Negative Rate: 0.7862595419847328\n",
      "False Negative Rate: 0.23978201634877383\n",
      "Precision: 0.9087947882736156\n",
      "Recall: 0.7602179836512262\n",
      "F1 Score: 0.827893175074184\n",
      "Support (0): 367\n",
      "Support (1): 131\n"
     ]
    }
   ],
   "source": [
    "accuracy10 = (tp10 + tn10)/ comb10\n",
    "print(f\"Accuracy: {accuracy10}\")\n",
    "\n",
    "true_positive_rate10 = tp10/(tp10+fn10)\n",
    "print(f\"True Positive Rate: {true_positive_rate10}\")\n",
    "\n",
    "false_positive_rate10 = fp10/(fp10+tn10)\n",
    "print(f\"False Positive Rate: {false_positive_rate10}\")\n",
    "\n",
    "true_negative_rate10 = tn10/(tn10+fp10)\n",
    "print(f\"True Negative Rate: {true_negative_rate10}\")\n",
    "\n",
    "false_negative_rate10 = fn10/(fn10+tp10)\n",
    "print(f\"False Negative Rate: {false_negative_rate10}\")\n",
    "\n",
    "precision10 = tp10 / (tp10 + fp10)\n",
    "print(f\"Precision: {precision10}\")\n",
    "\n",
    "recall10 = tp10 / (tp10 + fn10)\n",
    "print(f\"Recall: {recall10}\")\n",
    "\n",
    "f1_score10 = 2 * (precision10 * recall10) / (precision10 + recall10)\n",
    "print(f\"F1 Score: {f1_score10}\")\n",
    "\n",
    "support_pos10 = tp10 + fn10\n",
    "print(f\"Support (0): {support_pos10}\")\n",
    "\n",
    "support_neg10 = fp10 + tn10\n",
    "print(f\"Support (1): {support_neg10}\")"
   ]
  },
  {
   "cell_type": "markdown",
   "id": "2e571dab",
   "metadata": {},
   "source": [
    "## CLASS FUNCTION"
   ]
  },
  {
   "cell_type": "code",
   "execution_count": 97,
   "id": "50a86185",
   "metadata": {},
   "outputs": [],
   "source": [
    "def knn_fit_predict(k, x_train, y_train, x_validate):\n",
    "   \n",
    "    knn = KNeighborsClassifier(n_neighbors=k)\n",
    "\n",
    "    # create the model\n",
    "    knn.fit(x_train, y_train)\n",
    "\n",
    "    # run the model\n",
    "    y_train_pred = knn.predict(x_train)\n",
    "    y_validate_pred = knn.predict(x_validate)\n",
    "    \n",
    "    return knn, y_train_pred, y_validate_pred"
   ]
  },
  {
   "cell_type": "code",
   "execution_count": 104,
   "id": "4d2c3fab",
   "metadata": {},
   "outputs": [],
   "source": [
    "def evaluate_clf(model, x, y, y_pred):\n",
    "    \n",
    "    # model score\n",
    "    \n",
    "    accuracy = model.score(x, y)\n",
    "    print(f'Accuracy: {accuracy}')\n",
    "\n",
    "    # confusion matrix\n",
    "    \n",
    "    cm = confusion_matrix(y, y_pred)\n",
    "    print('Confusion Matrix')\n",
    "    print(pd.DataFrame(cm, index=['Actual 0', 'Actual 1'], \n",
    "                       columns=['Pred 0', 'Pred 1']))\n",
    "\n",
    "    # classification report\n",
    "    print('Classification Report')\n",
    "    print(pd.DataFrame(classification_report(y, y_pred,\n",
    "                                             output_dict=True)))\n",
    "    \n",
    "    \n",
    "    return accuracy"
   ]
  },
  {
   "cell_type": "markdown",
   "id": "05424c57",
   "metadata": {},
   "source": [
    "# k = 10"
   ]
  },
  {
   "cell_type": "code",
   "execution_count": 105,
   "id": "f9ed08ca",
   "metadata": {},
   "outputs": [],
   "source": [
    "k = 10\n",
    "\n",
    "\n",
    "knn, y_train_pred, y_validate_pred = knn_fit_predict(k, \n",
    "                                                     x_train, \n",
    "                                                     y_train, \n",
    "                                                     x_validate)"
   ]
  },
  {
   "cell_type": "code",
   "execution_count": 106,
   "id": "02c85170",
   "metadata": {},
   "outputs": [
    {
     "name": "stdout",
     "output_type": "stream",
     "text": [
      "Train Evaluation\n",
      "\n",
      "Accuracy: 0.7670682730923695\n",
      "Confusion Matrix\n",
      "          Pred 0  Pred 1\n",
      "Actual 0     279      28\n",
      "Actual 1      88     103\n",
      "Classification Report\n",
      "                    0           1  accuracy   macro avg  weighted avg\n",
      "precision    0.760218    0.786260  0.767068    0.773239      0.770206\n",
      "recall       0.908795    0.539267  0.767068    0.724031      0.767068\n",
      "f1-score     0.827893    0.639752  0.767068    0.733822      0.755734\n",
      "support    307.000000  191.000000  0.767068  498.000000    498.000000\n",
      "\n",
      "Validate Evaluation\n",
      "\n",
      "Accuracy: 0.7523364485981309\n",
      "Confusion Matrix\n",
      "          Pred 0  Pred 1\n",
      "Actual 0     115      17\n",
      "Actual 1      36      46\n",
      "Classification Report\n",
      "                    0          1  accuracy   macro avg  weighted avg\n",
      "precision    0.761589   0.730159  0.752336    0.745874      0.749546\n",
      "recall       0.871212   0.560976  0.752336    0.716094      0.752336\n",
      "f1-score     0.812721   0.634483  0.752336    0.723602      0.744424\n",
      "support    132.000000  82.000000  0.752336  214.000000    214.000000\n"
     ]
    }
   ],
   "source": [
    "print('Train Evaluation\\n')\n",
    "train_accuracy = evaluate_clf(knn, x_train, y_train, y_train_pred)\n",
    "\n",
    "print('\\nValidate Evaluation\\n')\n",
    "validate_accuracy = evaluate_clf(knn, x_validate, \n",
    "                                 y_validate, y_validate_pred)"
   ]
  },
  {
   "cell_type": "markdown",
   "id": "45c30912",
   "metadata": {},
   "source": [
    "# Run through steps 1-3 setting k to 20"
   ]
  },
  {
   "cell_type": "code",
   "execution_count": 108,
   "id": "7b179903",
   "metadata": {},
   "outputs": [
    {
     "name": "stdout",
     "output_type": "stream",
     "text": [
      "Train Evaluation\n",
      "\n",
      "Accuracy: 0.7188755020080321\n",
      "Confusion Matrix\n",
      "          Pred 0  Pred 1\n",
      "Actual 0     267      40\n",
      "Actual 1     100      91\n",
      "Classification Report\n",
      "                    0           1  accuracy   macro avg  weighted avg\n",
      "precision    0.727520    0.694656  0.718876    0.711088      0.714916\n",
      "recall       0.869707    0.476440  0.718876    0.673073      0.718876\n",
      "f1-score     0.792285    0.565217  0.718876    0.678751      0.705197\n",
      "support    307.000000  191.000000  0.718876  498.000000    498.000000\n",
      "\n",
      "Validate Evaluation\n",
      "\n",
      "Accuracy: 0.6869158878504673\n",
      "Confusion Matrix\n",
      "          Pred 0  Pred 1\n",
      "Actual 0     110      22\n",
      "Actual 1      45      37\n",
      "Classification Report\n",
      "                    0          1  accuracy   macro avg  weighted avg\n",
      "precision    0.709677   0.627119  0.686916    0.668398      0.678043\n",
      "recall       0.833333   0.451220  0.686916    0.642276      0.686916\n",
      "f1-score     0.766551   0.524823  0.686916    0.645687      0.673926\n",
      "support    132.000000  82.000000  0.686916  214.000000    214.000000\n"
     ]
    }
   ],
   "source": [
    "k = 20\n",
    "\n",
    "knn, y_train_pred, y_validate_pred = knn_fit_predict(k, \n",
    "                                                     x_train, \n",
    "                                                     y_train, \n",
    "                                                     x_validate)\n",
    "\n",
    "print('Train Evaluation\\n')\n",
    "train_accuracy = evaluate_clf(knn, x_train, y_train, y_train_pred)\n",
    "\n",
    "print('\\nValidate Evaluation\\n')\n",
    "validate_accuracy = evaluate_clf(knn, x_validate, \n",
    "                                 y_validate, y_validate_pred)"
   ]
  },
  {
   "cell_type": "code",
   "execution_count": 83,
   "id": "1a553c22",
   "metadata": {},
   "outputs": [
    {
     "name": "stdout",
     "output_type": "stream",
     "text": [
      "Accuracy: 0.7670682730923695\n",
      "True Positive Rate: 0.7275204359673024\n",
      "False Positive Rate: 0.3053435114503817\n",
      "True Negative Rate: 0.6946564885496184\n",
      "False Negative Rate: 0.2724795640326976\n",
      "Precision: 0.8697068403908795\n",
      "Recall: 0.7275204359673024\n",
      "F1 Score: 0.827893175074184\n",
      "Support (0): 367\n",
      "Support (1): 131\n"
     ]
    }
   ],
   "source": [
    "accuracy20 = (tp20 + tn20)/ comb20\n",
    "print(f\"Accuracy: {accuracy10}\")\n",
    "\n",
    "true_positive_rate20 = tp20/(tp20+fn20)\n",
    "print(f\"True Positive Rate: {true_positive_rate20}\")\n",
    "\n",
    "false_positive_rate20 = fp20/(fp20+tn20)\n",
    "print(f\"False Positive Rate: {false_positive_rate20}\")\n",
    "\n",
    "true_negative_rate20 = tn20/(tn20+fp20)\n",
    "print(f\"True Negative Rate: {true_negative_rate20}\")\n",
    "\n",
    "false_negative_rate20 = fn20/(fn20+tp20)\n",
    "print(f\"False Negative Rate: {false_negative_rate20}\")\n",
    "\n",
    "precision20 = tp20 / (tp20 + fp20)\n",
    "print(f\"Precision: {precision20}\")\n",
    "\n",
    "recall20 = tp20 / (tp20 + fn20)\n",
    "print(f\"Recall: {recall20}\")\n",
    "\n",
    "f1_score20 = 2 * (precision20 * recall20) / (precision20 + recall20)\n",
    "print(f\"F1 Score: {f1_score10}\")\n",
    "\n",
    "support_pos20 = tp20 + fn20\n",
    "print(f\"Support (0): {support_pos20}\")\n",
    "\n",
    "support_neg20 = fp20 + tn20\n",
    "print(f\"Support (1): {support_neg20}\")"
   ]
  },
  {
   "cell_type": "markdown",
   "id": "8e2e5f47",
   "metadata": {},
   "source": [
    "# What are the differences in the evaluation metrics? Which performs better on your in-sample data? Why?"
   ]
  },
  {
   "cell_type": "code",
   "execution_count": null,
   "id": "4c12adec",
   "metadata": {},
   "outputs": [],
   "source": [
    "# the f1 score is better where k = 20"
   ]
  },
  {
   "cell_type": "markdown",
   "id": "2484691f",
   "metadata": {},
   "source": [
    "# Which model performs best on our out-of-sample data from validate?"
   ]
  },
  {
   "cell_type": "code",
   "execution_count": null,
   "id": "d20bc692",
   "metadata": {},
   "outputs": [],
   "source": [
    "# the k = 10 works best all around in and out of sample"
   ]
  }
 ],
 "metadata": {
  "kernelspec": {
   "display_name": "Python 3 (ipykernel)",
   "language": "python",
   "name": "python3"
  },
  "language_info": {
   "codemirror_mode": {
    "name": "ipython",
    "version": 3
   },
   "file_extension": ".py",
   "mimetype": "text/x-python",
   "name": "python",
   "nbconvert_exporter": "python",
   "pygments_lexer": "ipython3",
   "version": "3.9.13"
  },
  "toc": {
   "base_numbering": 1,
   "nav_menu": {},
   "number_sections": true,
   "sideBar": true,
   "skip_h1_title": false,
   "title_cell": "Table of Contents",
   "title_sidebar": "Contents",
   "toc_cell": false,
   "toc_position": {},
   "toc_section_display": true,
   "toc_window_display": false
  }
 },
 "nbformat": 4,
 "nbformat_minor": 5
}
