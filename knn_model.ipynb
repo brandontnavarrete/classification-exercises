{
 "cells": [
  {
   "cell_type": "code",
   "execution_count": 4,
   "id": "8359e80f",
   "metadata": {},
   "outputs": [],
   "source": [
    "# ignore warnings\n",
    "import warnings\n",
    "warnings.filterwarnings(\"ignore\")\n",
    "\n",
    "import pandas as pd\n",
    "import numpy as np\n",
    "\n",
    "%matplotlib inline\n",
    "import matplotlib.pyplot as plt\n",
    "import seaborn as sns\n",
    "\n",
    "from sklearn.model_selection import train_test_split\n",
    "from sklearn.neighbors import KNeighborsClassifier\n",
    "from sklearn.metrics import classification_report\n",
    "from sklearn.metrics import confusion_matrix\n",
    "\n",
    "from pydataset import data\n",
    "\n",
    "\n",
    "import env\n",
    "import os\n",
    "import acquire\n",
    "import prepare"
   ]
  },
  {
   "cell_type": "markdown",
   "id": "02a83ee4",
   "metadata": {},
   "source": [
    "# acquire data"
   ]
  },
  {
   "cell_type": "code",
   "execution_count": 6,
   "id": "91c22ac1",
   "metadata": {},
   "outputs": [],
   "source": [
    "titanic = acquire.get_titanic_data(acquire.get_connection)"
   ]
  },
  {
   "cell_type": "code",
   "execution_count": 9,
   "id": "7672117d",
   "metadata": {},
   "outputs": [],
   "source": [
    "titanic = prepare.prep_titanic(titanic)"
   ]
  },
  {
   "cell_type": "code",
   "execution_count": 13,
   "id": "59951124",
   "metadata": {},
   "outputs": [
    {
     "data": {
      "text/html": [
       "<div>\n",
       "<style scoped>\n",
       "    .dataframe tbody tr th:only-of-type {\n",
       "        vertical-align: middle;\n",
       "    }\n",
       "\n",
       "    .dataframe tbody tr th {\n",
       "        vertical-align: top;\n",
       "    }\n",
       "\n",
       "    .dataframe thead th {\n",
       "        text-align: right;\n",
       "    }\n",
       "</style>\n",
       "<table border=\"1\" class=\"dataframe\">\n",
       "  <thead>\n",
       "    <tr style=\"text-align: right;\">\n",
       "      <th></th>\n",
       "      <th>survived</th>\n",
       "      <th>pclass</th>\n",
       "      <th>sibsp</th>\n",
       "      <th>parch</th>\n",
       "      <th>fare</th>\n",
       "      <th>alone</th>\n",
       "      <th>sex_male</th>\n",
       "      <th>embark_town_Queenstown</th>\n",
       "      <th>embark_town_Southampton</th>\n",
       "    </tr>\n",
       "  </thead>\n",
       "  <tbody>\n",
       "    <tr>\n",
       "      <th>0</th>\n",
       "      <td>0</td>\n",
       "      <td>3</td>\n",
       "      <td>1</td>\n",
       "      <td>0</td>\n",
       "      <td>7.25</td>\n",
       "      <td>0</td>\n",
       "      <td>1</td>\n",
       "      <td>0</td>\n",
       "      <td>1</td>\n",
       "    </tr>\n",
       "  </tbody>\n",
       "</table>\n",
       "</div>"
      ],
      "text/plain": [
       "   survived  pclass  sibsp  parch  fare  alone  sex_male  \\\n",
       "0         0       3      1      0  7.25      0         1   \n",
       "\n",
       "   embark_town_Queenstown  embark_town_Southampton  \n",
       "0                       0                        1  "
      ]
     },
     "execution_count": 13,
     "metadata": {},
     "output_type": "execute_result"
    }
   ],
   "source": [
    "titanic.head(1)"
   ]
  },
  {
   "cell_type": "code",
   "execution_count": 12,
   "id": "da1cceee",
   "metadata": {},
   "outputs": [],
   "source": [
    "titanic = titanic.drop(columns=['sex','embark_town'])"
   ]
  },
  {
   "cell_type": "markdown",
   "id": "74e15a58",
   "metadata": {},
   "source": [
    "# split data"
   ]
  },
  {
   "cell_type": "code",
   "execution_count": 14,
   "id": "71f9c363",
   "metadata": {},
   "outputs": [],
   "source": [
    "train,validate,test = prepare.split_data(titanic,'survived')"
   ]
  },
  {
   "cell_type": "code",
   "execution_count": 15,
   "id": "c0a63e1d",
   "metadata": {},
   "outputs": [
    {
     "data": {
      "text/plain": [
       "((498, 9), (214, 9), (179, 9))"
      ]
     },
     "execution_count": 15,
     "metadata": {},
     "output_type": "execute_result"
    }
   ],
   "source": [
    "train.shape, validate.shape,test.shape"
   ]
  },
  {
   "cell_type": "code",
   "execution_count": null,
   "id": "be719692",
   "metadata": {},
   "outputs": [],
   "source": []
  },
  {
   "cell_type": "markdown",
   "id": "83c97535",
   "metadata": {},
   "source": [
    "# x and y data"
   ]
  },
  {
   "cell_type": "code",
   "execution_count": 19,
   "id": "09584d43",
   "metadata": {},
   "outputs": [],
   "source": [
    "x_train = train.drop(columns=['survived'])\n",
    "y_train = train.survived\n",
    "\n",
    "x_validate = validate.drop(columns=['survived'])\n",
    "y_validate = validate.survived\n",
    "\n",
    "x_test = test.drop(columns=['survived'])\n",
    "y_test = test.survived"
   ]
  },
  {
   "cell_type": "markdown",
   "id": "f65032c4",
   "metadata": {},
   "source": [
    "# Fit a K-Nearest Neighbors classifier to your training sample and transform (i.e. make predictions on the training sample)"
   ]
  },
  {
   "cell_type": "markdown",
   "id": "de59c449",
   "metadata": {},
   "source": [
    "## train model"
   ]
  },
  {
   "cell_type": "code",
   "execution_count": 22,
   "id": "41190369",
   "metadata": {},
   "outputs": [
    {
     "data": {
      "text/plain": [
       "KNeighborsClassifier()"
      ]
     },
     "execution_count": 22,
     "metadata": {},
     "output_type": "execute_result"
    }
   ],
   "source": [
    "knn = KNeighborsClassifier(n_neighbors=5, weights='uniform')\n",
    "knn"
   ]
  },
  {
   "cell_type": "markdown",
   "id": "f7e250f5",
   "metadata": {},
   "source": [
    "## fit model"
   ]
  },
  {
   "cell_type": "code",
   "execution_count": 23,
   "id": "eff6473a",
   "metadata": {},
   "outputs": [
    {
     "data": {
      "text/plain": [
       "KNeighborsClassifier()"
      ]
     },
     "execution_count": 23,
     "metadata": {},
     "output_type": "execute_result"
    }
   ],
   "source": [
    "knn.fit(x_train,y_train)"
   ]
  },
  {
   "cell_type": "markdown",
   "id": "6afd0cbc",
   "metadata": {},
   "source": [
    "## make predictions"
   ]
  },
  {
   "cell_type": "code",
   "execution_count": null,
   "id": "668e713b",
   "metadata": {},
   "outputs": [],
   "source": [
    "y_pred = knn.predict(x_train)"
   ]
  },
  {
   "cell_type": "markdown",
   "id": "b8c5687a",
   "metadata": {},
   "source": [
    "## estimate probability"
   ]
  },
  {
   "cell_type": "code",
   "execution_count": 25,
   "id": "2fdb284c",
   "metadata": {},
   "outputs": [],
   "source": [
    "y_pred_proba = knn.predict_proba(x_train)\n"
   ]
  },
  {
   "cell_type": "markdown",
   "id": "0280256d",
   "metadata": {},
   "source": [
    "# Evaluate your results using the model score, confusion matrix, and classification report."
   ]
  },
  {
   "cell_type": "markdown",
   "id": "9141d85f",
   "metadata": {},
   "source": [
    "## score"
   ]
  },
  {
   "cell_type": "code",
   "execution_count": 27,
   "id": "79a62c29",
   "metadata": {},
   "outputs": [
    {
     "name": "stdout",
     "output_type": "stream",
     "text": [
      "Accuracy of KNN classifier on training set: 0.82\n"
     ]
    }
   ],
   "source": [
    "print('Accuracy of KNN classifier on training set: {:.2f}'\n",
    "     .format(knn.score(x_train, y_train)))"
   ]
  },
  {
   "cell_type": "markdown",
   "id": "83951355",
   "metadata": {},
   "source": [
    "## confusion matrix\n"
   ]
  },
  {
   "cell_type": "code",
   "execution_count": 41,
   "id": "bf12d301",
   "metadata": {},
   "outputs": [
    {
     "data": {
      "text/html": [
       "<div>\n",
       "<style scoped>\n",
       "    .dataframe tbody tr th:only-of-type {\n",
       "        vertical-align: middle;\n",
       "    }\n",
       "\n",
       "    .dataframe tbody tr th {\n",
       "        vertical-align: top;\n",
       "    }\n",
       "\n",
       "    .dataframe thead th {\n",
       "        text-align: right;\n",
       "    }\n",
       "</style>\n",
       "<table border=\"1\" class=\"dataframe\">\n",
       "  <thead>\n",
       "    <tr style=\"text-align: right;\">\n",
       "      <th></th>\n",
       "      <th>pred 0</th>\n",
       "      <th>pred 1</th>\n",
       "    </tr>\n",
       "  </thead>\n",
       "  <tbody>\n",
       "    <tr>\n",
       "      <th>actual 0</th>\n",
       "      <td>274</td>\n",
       "      <td>33</td>\n",
       "    </tr>\n",
       "    <tr>\n",
       "      <th>actual 1</th>\n",
       "      <td>58</td>\n",
       "      <td>133</td>\n",
       "    </tr>\n",
       "  </tbody>\n",
       "</table>\n",
       "</div>"
      ],
      "text/plain": [
       "          pred 0  pred 1\n",
       "actual 0     274      33\n",
       "actual 1      58     133"
      ]
     },
     "execution_count": 41,
     "metadata": {},
     "output_type": "execute_result"
    }
   ],
   "source": [
    "cm = confusion_matrix(y_train, y_pred)\n",
    "cm = pd.DataFrame(cm,index = ['actual 0','actual 1'] , columns = ['pred 0','pred 1'])\n",
    "cm"
   ]
  },
  {
   "cell_type": "code",
   "execution_count": 30,
   "id": "ce476767",
   "metadata": {},
   "outputs": [],
   "source": [
    "tp = 274\n",
    "tn = 133\n",
    "fp = 33\n",
    "fn = 58\n",
    "comb = tp + tn + fp + fn"
   ]
  },
  {
   "cell_type": "markdown",
   "id": "eb7703f0",
   "metadata": {},
   "source": [
    "# Print and clearly label the following: Accuracy, true positive rate, false positive rate, true negative rate, false negative rate, precision, recall, f1-score, and support."
   ]
  },
  {
   "cell_type": "code",
   "execution_count": 34,
   "id": "274c5cac",
   "metadata": {},
   "outputs": [
    {
     "name": "stdout",
     "output_type": "stream",
     "text": [
      "Accuracy: 0.8172690763052208\n",
      "True Positive Rate: 0.8253012048192772\n",
      "False Positive Rate: 0.19879518072289157\n",
      "True Negative Rate: 0.8012048192771084\n",
      "False Negative Rate: 0.1746987951807229\n",
      "Precision: 0.8925081433224755\n",
      "Recall: 0.8253012048192772\n",
      "F1 Score: 0.8575899843505477\n",
      "Support (0): 332\n",
      "Support (1): 166\n"
     ]
    }
   ],
   "source": [
    "accuracy = (tp + tn)/ comb\n",
    "print(f\"Accuracy: {accuracy}\")\n",
    "\n",
    "true_positive_rate = tp/(tp+fn)\n",
    "print(f\"True Positive Rate: {true_positive_rate}\")\n",
    "\n",
    "false_positive_rate = fp/(fp+tn)\n",
    "print(f\"False Positive Rate: {false_positive_rate}\")\n",
    "\n",
    "true_negative_rate = tn/(tn+fp)\n",
    "print(f\"True Negative Rate: {true_negative_rate}\")\n",
    "\n",
    "false_negative_rate = fn/(fn+tp)\n",
    "print(f\"False Negative Rate: {false_negative_rate}\")\n",
    "\n",
    "precision = tp / (tp + fp)\n",
    "print(f\"Precision: {precision}\")\n",
    "\n",
    "recall = tp / (tp + fn)\n",
    "print(f\"Recall: {recall}\")\n",
    "\n",
    "f1_score = 2 * (precision * recall) / (precision + recall)\n",
    "print(f\"F1 Score: {f1_score}\")\n",
    "\n",
    "support_pos = tp + fn\n",
    "print(f\"Support (0): {support_pos}\")\n",
    "\n",
    "support_neg = fp + tn\n",
    "print(f\"Support (1): {support_neg}\")"
   ]
  },
  {
   "cell_type": "markdown",
   "id": "2cfa3bfe",
   "metadata": {},
   "source": [
    "## classification report"
   ]
  },
  {
   "cell_type": "code",
   "execution_count": 44,
   "id": "28776487",
   "metadata": {},
   "outputs": [
    {
     "data": {
      "text/html": [
       "<div>\n",
       "<style scoped>\n",
       "    .dataframe tbody tr th:only-of-type {\n",
       "        vertical-align: middle;\n",
       "    }\n",
       "\n",
       "    .dataframe tbody tr th {\n",
       "        vertical-align: top;\n",
       "    }\n",
       "\n",
       "    .dataframe thead th {\n",
       "        text-align: right;\n",
       "    }\n",
       "</style>\n",
       "<table border=\"1\" class=\"dataframe\">\n",
       "  <thead>\n",
       "    <tr style=\"text-align: right;\">\n",
       "      <th></th>\n",
       "      <th>0</th>\n",
       "      <th>1</th>\n",
       "      <th>accuracy</th>\n",
       "      <th>macro avg</th>\n",
       "      <th>weighted avg</th>\n",
       "    </tr>\n",
       "  </thead>\n",
       "  <tbody>\n",
       "    <tr>\n",
       "      <th>precision</th>\n",
       "      <td>0.825301</td>\n",
       "      <td>0.801205</td>\n",
       "      <td>0.817269</td>\n",
       "      <td>0.813253</td>\n",
       "      <td>0.816059</td>\n",
       "    </tr>\n",
       "    <tr>\n",
       "      <th>recall</th>\n",
       "      <td>0.892508</td>\n",
       "      <td>0.696335</td>\n",
       "      <td>0.817269</td>\n",
       "      <td>0.794422</td>\n",
       "      <td>0.817269</td>\n",
       "    </tr>\n",
       "    <tr>\n",
       "      <th>f1-score</th>\n",
       "      <td>0.857590</td>\n",
       "      <td>0.745098</td>\n",
       "      <td>0.817269</td>\n",
       "      <td>0.801344</td>\n",
       "      <td>0.814445</td>\n",
       "    </tr>\n",
       "    <tr>\n",
       "      <th>support</th>\n",
       "      <td>307.000000</td>\n",
       "      <td>191.000000</td>\n",
       "      <td>0.817269</td>\n",
       "      <td>498.000000</td>\n",
       "      <td>498.000000</td>\n",
       "    </tr>\n",
       "  </tbody>\n",
       "</table>\n",
       "</div>"
      ],
      "text/plain": [
       "                    0           1  accuracy   macro avg  weighted avg\n",
       "precision    0.825301    0.801205  0.817269    0.813253      0.816059\n",
       "recall       0.892508    0.696335  0.817269    0.794422      0.817269\n",
       "f1-score     0.857590    0.745098  0.817269    0.801344      0.814445\n",
       "support    307.000000  191.000000  0.817269  498.000000    498.000000"
      ]
     },
     "execution_count": 44,
     "metadata": {},
     "output_type": "execute_result"
    }
   ],
   "source": [
    "pd.DataFrame(classification_report(y_train,y_pred,output_dict=True))"
   ]
  },
  {
   "cell_type": "markdown",
   "id": "5518817e",
   "metadata": {},
   "source": [
    "# Run through steps 1-3 setting k to 10"
   ]
  },
  {
   "cell_type": "code",
   "execution_count": 54,
   "id": "40284cd8",
   "metadata": {},
   "outputs": [],
   "source": [
    "knn10 = KNeighborsClassifier(n_neighbors=10)"
   ]
  },
  {
   "cell_type": "code",
   "execution_count": 55,
   "id": "3c274ddc",
   "metadata": {},
   "outputs": [
    {
     "data": {
      "text/plain": [
       "KNeighborsClassifier(n_neighbors=10)"
      ]
     },
     "execution_count": 55,
     "metadata": {},
     "output_type": "execute_result"
    }
   ],
   "source": [
    "knn10.fit(x_train, y_train)"
   ]
  },
  {
   "cell_type": "code",
   "execution_count": 61,
   "id": "d97a6604",
   "metadata": {},
   "outputs": [],
   "source": [
    "y10_pred = knn10.predict(x_train)"
   ]
  },
  {
   "cell_type": "code",
   "execution_count": 57,
   "id": "6e1bd68b",
   "metadata": {},
   "outputs": [],
   "source": [
    "y10_pred_proba = knn10.predict_proba(x_train)"
   ]
  },
  {
   "cell_type": "code",
   "execution_count": 59,
   "id": "ec28a470",
   "metadata": {},
   "outputs": [
    {
     "name": "stdout",
     "output_type": "stream",
     "text": [
      "Accuracy of KNN classifier on training set: 0.77\n"
     ]
    }
   ],
   "source": [
    "print('Accuracy of KNN classifier on training set: {:.2f}'\n",
    "     .format(knn10.score(x_train, y_train)))"
   ]
  },
  {
   "cell_type": "code",
   "execution_count": 62,
   "id": "ce47406d",
   "metadata": {},
   "outputs": [
    {
     "data": {
      "text/plain": [
       "array([[279,  28],\n",
       "       [ 88, 103]])"
      ]
     },
     "execution_count": 62,
     "metadata": {},
     "output_type": "execute_result"
    }
   ],
   "source": [
    "confusion_matrix(y_train, y10_pred)"
   ]
  },
  {
   "cell_type": "code",
   "execution_count": 63,
   "id": "b962539a",
   "metadata": {},
   "outputs": [],
   "source": [
    "tp10 = 279\n",
    "tn10 = 103\n",
    "fp10 = 28\n",
    "fn10 = 88\n"
   ]
  },
  {
   "cell_type": "code",
   "execution_count": 67,
   "id": "672a1da9",
   "metadata": {},
   "outputs": [],
   "source": [
    "comb10 = tp10 + tn10 + fp10 + fn10"
   ]
  },
  {
   "cell_type": "code",
   "execution_count": 69,
   "id": "def62c22",
   "metadata": {},
   "outputs": [
    {
     "name": "stdout",
     "output_type": "stream",
     "text": [
      "              precision    recall  f1-score   support\n",
      "\n",
      "           0       0.76      0.91      0.83       307\n",
      "           1       0.79      0.54      0.64       191\n",
      "\n",
      "    accuracy                           0.77       498\n",
      "   macro avg       0.77      0.72      0.73       498\n",
      "weighted avg       0.77      0.77      0.76       498\n",
      "\n"
     ]
    }
   ],
   "source": [
    "print(classification_report(y_train, y10_pred))"
   ]
  },
  {
   "cell_type": "code",
   "execution_count": 71,
   "id": "305b4b10",
   "metadata": {},
   "outputs": [
    {
     "name": "stdout",
     "output_type": "stream",
     "text": [
      "Accuracy: 0.7670682730923695\n",
      "True Positive Rate: 0.7602179836512262\n",
      "False Positive Rate: 0.21374045801526717\n",
      "True Negative Rate: 0.7862595419847328\n",
      "False Negative Rate: 0.23978201634877383\n",
      "Precision: 0.9087947882736156\n",
      "Recall: 0.7602179836512262\n",
      "F1 Score: 0.827893175074184\n",
      "Support (0): 367\n",
      "Support (1): 131\n"
     ]
    }
   ],
   "source": [
    "accuracy10 = (tp10 + tn10)/ comb10\n",
    "print(f\"Accuracy: {accuracy10}\")\n",
    "\n",
    "true_positive_rate10 = tp10/(tp10+fn10)\n",
    "print(f\"True Positive Rate: {true_positive_rate10}\")\n",
    "\n",
    "false_positive_rate10 = fp10/(fp10+tn10)\n",
    "print(f\"False Positive Rate: {false_positive_rate10}\")\n",
    "\n",
    "true_negative_rate10 = tn10/(tn10+fp10)\n",
    "print(f\"True Negative Rate: {true_negative_rate10}\")\n",
    "\n",
    "false_negative_rate10 = fn10/(fn10+tp10)\n",
    "print(f\"False Negative Rate: {false_negative_rate10}\")\n",
    "\n",
    "precision10 = tp10 / (tp10 + fp10)\n",
    "print(f\"Precision: {precision10}\")\n",
    "\n",
    "recall10 = tp10 / (tp10 + fn10)\n",
    "print(f\"Recall: {recall10}\")\n",
    "\n",
    "f1_score10 = 2 * (precision10 * recall10) / (precision10 + recall10)\n",
    "print(f\"F1 Score: {f1_score10}\")\n",
    "\n",
    "support_pos10 = tp10 + fn10\n",
    "print(f\"Support (0): {support_pos10}\")\n",
    "\n",
    "support_neg10 = fp10 + tn10\n",
    "print(f\"Support (1): {support_neg10}\")"
   ]
  },
  {
   "cell_type": "markdown",
   "id": "18911c24",
   "metadata": {},
   "source": [
    "# Run through steps 1-3 setting k to 20"
   ]
  },
  {
   "cell_type": "code",
   "execution_count": 73,
   "id": "b088ea6b",
   "metadata": {},
   "outputs": [],
   "source": [
    "knn20 = KNeighborsClassifier(n_neighbors=20)"
   ]
  },
  {
   "cell_type": "code",
   "execution_count": 74,
   "id": "7afcf8d2",
   "metadata": {},
   "outputs": [
    {
     "data": {
      "text/plain": [
       "KNeighborsClassifier(n_neighbors=20)"
      ]
     },
     "execution_count": 74,
     "metadata": {},
     "output_type": "execute_result"
    }
   ],
   "source": [
    "knn20.fit(x_train, y_train)"
   ]
  },
  {
   "cell_type": "code",
   "execution_count": 75,
   "id": "de3b2089",
   "metadata": {},
   "outputs": [],
   "source": [
    "y20_pred = knn20.predict(x_train)"
   ]
  },
  {
   "cell_type": "code",
   "execution_count": 76,
   "id": "72b80b9a",
   "metadata": {},
   "outputs": [],
   "source": [
    "y20_pred_proba = knn20.predict_proba(x_train)"
   ]
  },
  {
   "cell_type": "code",
   "execution_count": 77,
   "id": "4e8590bd",
   "metadata": {},
   "outputs": [
    {
     "name": "stdout",
     "output_type": "stream",
     "text": [
      "Accuracy of KNN classifier on training set: 0.72\n"
     ]
    }
   ],
   "source": [
    "print('Accuracy of KNN classifier on training set: {:.2f}'\n",
    "     .format(knn20.score(x_train, y_train)))"
   ]
  },
  {
   "cell_type": "code",
   "execution_count": 78,
   "id": "9fb10c2e",
   "metadata": {},
   "outputs": [
    {
     "data": {
      "text/plain": [
       "array([[267,  40],\n",
       "       [100,  91]])"
      ]
     },
     "execution_count": 78,
     "metadata": {},
     "output_type": "execute_result"
    }
   ],
   "source": [
    "confusion_matrix(y_train, y20_pred)"
   ]
  },
  {
   "cell_type": "code",
   "execution_count": 80,
   "id": "7cb8940a",
   "metadata": {},
   "outputs": [],
   "source": [
    "tp20 = 267\n",
    "tn20 = 91\n",
    "fp20 = 40\n",
    "fn20 = 100\n"
   ]
  },
  {
   "cell_type": "code",
   "execution_count": 81,
   "id": "6108dfda",
   "metadata": {},
   "outputs": [],
   "source": [
    "comb20 = tp20 + tn20 + fp20 + fn20"
   ]
  },
  {
   "cell_type": "code",
   "execution_count": 86,
   "id": "1214c3e4",
   "metadata": {},
   "outputs": [
    {
     "name": "stdout",
     "output_type": "stream",
     "text": [
      "              precision    recall  f1-score   support\n",
      "\n",
      "           0       0.73      0.87      0.79       307\n",
      "           1       0.69      0.48      0.57       191\n",
      "\n",
      "    accuracy                           0.72       498\n",
      "   macro avg       0.71      0.67      0.68       498\n",
      "weighted avg       0.71      0.72      0.71       498\n",
      "\n"
     ]
    }
   ],
   "source": [
    "print(classification_report(y_train, y20_pred))"
   ]
  },
  {
   "cell_type": "code",
   "execution_count": null,
   "id": "a5469aa7",
   "metadata": {},
   "outputs": [],
   "source": [
    "print(classification_report(y_val, y20_pred))"
   ]
  },
  {
   "cell_type": "code",
   "execution_count": 83,
   "id": "59c08b9a",
   "metadata": {},
   "outputs": [
    {
     "name": "stdout",
     "output_type": "stream",
     "text": [
      "Accuracy: 0.7670682730923695\n",
      "True Positive Rate: 0.7275204359673024\n",
      "False Positive Rate: 0.3053435114503817\n",
      "True Negative Rate: 0.6946564885496184\n",
      "False Negative Rate: 0.2724795640326976\n",
      "Precision: 0.8697068403908795\n",
      "Recall: 0.7275204359673024\n",
      "F1 Score: 0.827893175074184\n",
      "Support (0): 367\n",
      "Support (1): 131\n"
     ]
    }
   ],
   "source": [
    "accuracy20 = (tp20 + tn20)/ comb20\n",
    "print(f\"Accuracy: {accuracy10}\")\n",
    "\n",
    "true_positive_rate20 = tp20/(tp20+fn20)\n",
    "print(f\"True Positive Rate: {true_positive_rate20}\")\n",
    "\n",
    "false_positive_rate20 = fp20/(fp20+tn20)\n",
    "print(f\"False Positive Rate: {false_positive_rate20}\")\n",
    "\n",
    "true_negative_rate20 = tn20/(tn20+fp20)\n",
    "print(f\"True Negative Rate: {true_negative_rate20}\")\n",
    "\n",
    "false_negative_rate20 = fn20/(fn20+tp20)\n",
    "print(f\"False Negative Rate: {false_negative_rate20}\")\n",
    "\n",
    "precision20 = tp20 / (tp20 + fp20)\n",
    "print(f\"Precision: {precision20}\")\n",
    "\n",
    "recall20 = tp20 / (tp20 + fn20)\n",
    "print(f\"Recall: {recall20}\")\n",
    "\n",
    "f1_score20 = 2 * (precision20 * recall20) / (precision20 + recall20)\n",
    "print(f\"F1 Score: {f1_score10}\")\n",
    "\n",
    "support_pos20 = tp20 + fn20\n",
    "print(f\"Support (0): {support_pos20}\")\n",
    "\n",
    "support_neg20 = fp20 + tn20\n",
    "print(f\"Support (1): {support_neg20}\")"
   ]
  },
  {
   "cell_type": "code",
   "execution_count": null,
   "id": "ec478be4",
   "metadata": {},
   "outputs": [],
   "source": []
  },
  {
   "cell_type": "code",
   "execution_count": null,
   "id": "aba032bb",
   "metadata": {},
   "outputs": [],
   "source": []
  },
  {
   "cell_type": "markdown",
   "id": "c67cf972",
   "metadata": {},
   "source": [
    "# What are the differences in the evaluation metrics? Which performs better on your in-sample data? Why?"
   ]
  },
  {
   "cell_type": "markdown",
   "id": "008a901d",
   "metadata": {},
   "source": [
    "# Which model performs best on our out-of-sample data from validate?"
   ]
  },
  {
   "cell_type": "code",
   "execution_count": null,
   "id": "3d36b3d9",
   "metadata": {},
   "outputs": [],
   "source": []
  }
 ],
 "metadata": {
  "kernelspec": {
   "display_name": "Python 3 (ipykernel)",
   "language": "python",
   "name": "python3"
  },
  "language_info": {
   "codemirror_mode": {
    "name": "ipython",
    "version": 3
   },
   "file_extension": ".py",
   "mimetype": "text/x-python",
   "name": "python",
   "nbconvert_exporter": "python",
   "pygments_lexer": "ipython3",
   "version": "3.9.13"
  },
  "toc": {
   "base_numbering": 1,
   "nav_menu": {},
   "number_sections": true,
   "sideBar": true,
   "skip_h1_title": false,
   "title_cell": "Table of Contents",
   "title_sidebar": "Contents",
   "toc_cell": false,
   "toc_position": {},
   "toc_section_display": true,
   "toc_window_display": false
  }
 },
 "nbformat": 4,
 "nbformat_minor": 5
}
