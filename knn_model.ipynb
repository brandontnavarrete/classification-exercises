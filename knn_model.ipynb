{
 "cells": [
  {
   "cell_type": "code",
   "execution_count": 11,
   "id": "d2acf4bd",
   "metadata": {},
   "outputs": [],
   "source": [
    "# ignore warnings\n",
    "import warnings\n",
    "warnings.filterwarnings(\"ignore\")\n",
    "\n",
    "import pandas as pd\n",
    "import numpy as np\n",
    "\n",
    "%matplotlib inline\n",
    "import matplotlib.pyplot as plt\n",
    "import seaborn as sns\n",
    "\n",
    "from sklearn.model_selection import train_test_split\n",
    "from sklearn.neighbors import KNeighborsClassifier\n",
    "from sklearn.metrics import classification_report\n",
    "from sklearn.metrics import confusion_matrix\n",
    "\n",
    "from pydataset import data\n",
    "\n",
    "\n",
    "import env\n",
    "import os\n",
    "import acquire\n",
    "import prepare"
   ]
  },
  {
   "cell_type": "markdown",
   "id": "7791288e",
   "metadata": {},
   "source": [
    "# acquire data"
   ]
  },
  {
   "cell_type": "code",
   "execution_count": 12,
   "id": "d5d34180",
   "metadata": {},
   "outputs": [],
   "source": [
    "titanic = acquire.get_titanic_data(acquire.get_connection)"
   ]
  },
  {
   "cell_type": "code",
   "execution_count": 13,
   "id": "a08d1de7",
   "metadata": {},
   "outputs": [],
   "source": [
    "titanic = prepare.prep_titanic(titanic)"
   ]
  },
  {
   "cell_type": "code",
   "execution_count": 14,
   "id": "1fa02f14",
   "metadata": {},
   "outputs": [
    {
     "data": {
      "text/html": [
       "<div>\n",
       "<style scoped>\n",
       "    .dataframe tbody tr th:only-of-type {\n",
       "        vertical-align: middle;\n",
       "    }\n",
       "\n",
       "    .dataframe tbody tr th {\n",
       "        vertical-align: top;\n",
       "    }\n",
       "\n",
       "    .dataframe thead th {\n",
       "        text-align: right;\n",
       "    }\n",
       "</style>\n",
       "<table border=\"1\" class=\"dataframe\">\n",
       "  <thead>\n",
       "    <tr style=\"text-align: right;\">\n",
       "      <th></th>\n",
       "      <th>survived</th>\n",
       "      <th>pclass</th>\n",
       "      <th>sex</th>\n",
       "      <th>age</th>\n",
       "      <th>sibsp</th>\n",
       "      <th>parch</th>\n",
       "      <th>fare</th>\n",
       "      <th>embark_town</th>\n",
       "      <th>alone</th>\n",
       "      <th>sex_male</th>\n",
       "      <th>embark_town_Queenstown</th>\n",
       "      <th>embark_town_Southampton</th>\n",
       "    </tr>\n",
       "  </thead>\n",
       "  <tbody>\n",
       "    <tr>\n",
       "      <th>0</th>\n",
       "      <td>0</td>\n",
       "      <td>3</td>\n",
       "      <td>male</td>\n",
       "      <td>22.0</td>\n",
       "      <td>1</td>\n",
       "      <td>0</td>\n",
       "      <td>7.25</td>\n",
       "      <td>Southampton</td>\n",
       "      <td>0</td>\n",
       "      <td>1</td>\n",
       "      <td>0</td>\n",
       "      <td>1</td>\n",
       "    </tr>\n",
       "  </tbody>\n",
       "</table>\n",
       "</div>"
      ],
      "text/plain": [
       "   survived  pclass   sex   age  sibsp  parch  fare  embark_town  alone  \\\n",
       "0         0       3  male  22.0      1      0  7.25  Southampton      0   \n",
       "\n",
       "   sex_male  embark_town_Queenstown  embark_town_Southampton  \n",
       "0         1                       0                        1  "
      ]
     },
     "execution_count": 14,
     "metadata": {},
     "output_type": "execute_result"
    }
   ],
   "source": [
    "titanic.head(1)"
   ]
  },
  {
   "cell_type": "code",
   "execution_count": 5,
   "id": "d877d022",
   "metadata": {},
   "outputs": [],
   "source": [
    "titanic = titanic.drop(columns=['sex','embark_town'])"
   ]
  },
  {
   "cell_type": "markdown",
   "id": "ed78c6a5",
   "metadata": {},
   "source": [
    "# split data"
   ]
  },
  {
   "cell_type": "code",
   "execution_count": 15,
   "id": "cc5f9d78",
   "metadata": {},
   "outputs": [],
   "source": [
    "train,validate,test = prepare.split_data(titanic,'survived')"
   ]
  },
  {
   "cell_type": "code",
   "execution_count": 16,
   "id": "98ddc421",
   "metadata": {},
   "outputs": [
    {
     "data": {
      "text/plain": [
       "((498, 12), (214, 12), (179, 12))"
      ]
     },
     "execution_count": 16,
     "metadata": {},
     "output_type": "execute_result"
    }
   ],
   "source": [
    "train.shape, validate.shape,test.shape"
   ]
  },
  {
   "cell_type": "code",
   "execution_count": null,
   "id": "207c10d6",
   "metadata": {},
   "outputs": [],
   "source": []
  },
  {
   "cell_type": "markdown",
   "id": "aa27957d",
   "metadata": {},
   "source": [
    "# x and y data"
   ]
  },
  {
   "cell_type": "code",
   "execution_count": 17,
   "id": "fb014083",
   "metadata": {},
   "outputs": [],
   "source": [
    "x_train = train.drop(columns=['survived'])\n",
    "y_train = train.survived\n",
    "\n",
    "x_validate = validate.drop(columns=['survived'])\n",
    "y_validate = validate.survived\n",
    "\n",
    "x_test = test.drop(columns=['survived'])\n",
    "y_test = test.survived"
   ]
  },
  {
   "cell_type": "markdown",
   "id": "2b4db75f",
   "metadata": {},
   "source": [
    "# Fit a K-Nearest Neighbors classifier to your training sample and transform (i.e. make predictions on the training sample)"
   ]
  },
  {
   "cell_type": "markdown",
   "id": "ae517a11",
   "metadata": {},
   "source": [
    "## train model"
   ]
  },
  {
   "cell_type": "code",
   "execution_count": 9,
   "id": "334c9d89",
   "metadata": {},
   "outputs": [
    {
     "data": {
      "text/plain": [
       "KNeighborsClassifier()"
      ]
     },
     "execution_count": 9,
     "metadata": {},
     "output_type": "execute_result"
    }
   ],
   "source": [
    "knn = KNeighborsClassifier(n_neighbors=5, weights='uniform')\n",
    "knn"
   ]
  },
  {
   "cell_type": "markdown",
   "id": "88e98b0a",
   "metadata": {},
   "source": [
    "## fit model"
   ]
  },
  {
   "cell_type": "code",
   "execution_count": 10,
   "id": "2db0d04d",
   "metadata": {},
   "outputs": [
    {
     "ename": "ValueError",
     "evalue": "Input contains NaN, infinity or a value too large for dtype('float64').",
     "output_type": "error",
     "traceback": [
      "\u001b[0;31m---------------------------------------------------------------------------\u001b[0m",
      "\u001b[0;31mValueError\u001b[0m                                Traceback (most recent call last)",
      "\u001b[0;32m/var/folders/d0/5dr5q0n145vcn3_m9dxy1xq80000gn/T/ipykernel_44072/272758929.py\u001b[0m in \u001b[0;36m<module>\u001b[0;34m\u001b[0m\n\u001b[0;32m----> 1\u001b[0;31m \u001b[0mknn\u001b[0m\u001b[0;34m.\u001b[0m\u001b[0mfit\u001b[0m\u001b[0;34m(\u001b[0m\u001b[0mx_train\u001b[0m\u001b[0;34m,\u001b[0m\u001b[0my_train\u001b[0m\u001b[0;34m)\u001b[0m\u001b[0;34m\u001b[0m\u001b[0;34m\u001b[0m\u001b[0m\n\u001b[0m",
      "\u001b[0;32m/usr/local/anaconda3/lib/python3.9/site-packages/sklearn/neighbors/_classification.py\u001b[0m in \u001b[0;36mfit\u001b[0;34m(self, X, y)\u001b[0m\n\u001b[1;32m    196\u001b[0m         \u001b[0mself\u001b[0m\u001b[0;34m.\u001b[0m\u001b[0mweights\u001b[0m \u001b[0;34m=\u001b[0m \u001b[0m_check_weights\u001b[0m\u001b[0;34m(\u001b[0m\u001b[0mself\u001b[0m\u001b[0;34m.\u001b[0m\u001b[0mweights\u001b[0m\u001b[0;34m)\u001b[0m\u001b[0;34m\u001b[0m\u001b[0;34m\u001b[0m\u001b[0m\n\u001b[1;32m    197\u001b[0m \u001b[0;34m\u001b[0m\u001b[0m\n\u001b[0;32m--> 198\u001b[0;31m         \u001b[0;32mreturn\u001b[0m \u001b[0mself\u001b[0m\u001b[0;34m.\u001b[0m\u001b[0m_fit\u001b[0m\u001b[0;34m(\u001b[0m\u001b[0mX\u001b[0m\u001b[0;34m,\u001b[0m \u001b[0my\u001b[0m\u001b[0;34m)\u001b[0m\u001b[0;34m\u001b[0m\u001b[0;34m\u001b[0m\u001b[0m\n\u001b[0m\u001b[1;32m    199\u001b[0m \u001b[0;34m\u001b[0m\u001b[0m\n\u001b[1;32m    200\u001b[0m     \u001b[0;32mdef\u001b[0m \u001b[0mpredict\u001b[0m\u001b[0;34m(\u001b[0m\u001b[0mself\u001b[0m\u001b[0;34m,\u001b[0m \u001b[0mX\u001b[0m\u001b[0;34m)\u001b[0m\u001b[0;34m:\u001b[0m\u001b[0;34m\u001b[0m\u001b[0;34m\u001b[0m\u001b[0m\n",
      "\u001b[0;32m/usr/local/anaconda3/lib/python3.9/site-packages/sklearn/neighbors/_base.py\u001b[0m in \u001b[0;36m_fit\u001b[0;34m(self, X, y)\u001b[0m\n\u001b[1;32m    398\u001b[0m         \u001b[0;32mif\u001b[0m \u001b[0mself\u001b[0m\u001b[0;34m.\u001b[0m\u001b[0m_get_tags\u001b[0m\u001b[0;34m(\u001b[0m\u001b[0;34m)\u001b[0m\u001b[0;34m[\u001b[0m\u001b[0;34m\"requires_y\"\u001b[0m\u001b[0;34m]\u001b[0m\u001b[0;34m:\u001b[0m\u001b[0;34m\u001b[0m\u001b[0;34m\u001b[0m\u001b[0m\n\u001b[1;32m    399\u001b[0m             \u001b[0;32mif\u001b[0m \u001b[0;32mnot\u001b[0m \u001b[0misinstance\u001b[0m\u001b[0;34m(\u001b[0m\u001b[0mX\u001b[0m\u001b[0;34m,\u001b[0m \u001b[0;34m(\u001b[0m\u001b[0mKDTree\u001b[0m\u001b[0;34m,\u001b[0m \u001b[0mBallTree\u001b[0m\u001b[0;34m,\u001b[0m \u001b[0mNeighborsBase\u001b[0m\u001b[0;34m)\u001b[0m\u001b[0;34m)\u001b[0m\u001b[0;34m:\u001b[0m\u001b[0;34m\u001b[0m\u001b[0;34m\u001b[0m\u001b[0m\n\u001b[0;32m--> 400\u001b[0;31m                 \u001b[0mX\u001b[0m\u001b[0;34m,\u001b[0m \u001b[0my\u001b[0m \u001b[0;34m=\u001b[0m \u001b[0mself\u001b[0m\u001b[0;34m.\u001b[0m\u001b[0m_validate_data\u001b[0m\u001b[0;34m(\u001b[0m\u001b[0mX\u001b[0m\u001b[0;34m,\u001b[0m \u001b[0my\u001b[0m\u001b[0;34m,\u001b[0m \u001b[0maccept_sparse\u001b[0m\u001b[0;34m=\u001b[0m\u001b[0;34m\"csr\"\u001b[0m\u001b[0;34m,\u001b[0m \u001b[0mmulti_output\u001b[0m\u001b[0;34m=\u001b[0m\u001b[0;32mTrue\u001b[0m\u001b[0;34m)\u001b[0m\u001b[0;34m\u001b[0m\u001b[0;34m\u001b[0m\u001b[0m\n\u001b[0m\u001b[1;32m    401\u001b[0m \u001b[0;34m\u001b[0m\u001b[0m\n\u001b[1;32m    402\u001b[0m             \u001b[0;32mif\u001b[0m \u001b[0mis_classifier\u001b[0m\u001b[0;34m(\u001b[0m\u001b[0mself\u001b[0m\u001b[0;34m)\u001b[0m\u001b[0;34m:\u001b[0m\u001b[0;34m\u001b[0m\u001b[0;34m\u001b[0m\u001b[0m\n",
      "\u001b[0;32m/usr/local/anaconda3/lib/python3.9/site-packages/sklearn/base.py\u001b[0m in \u001b[0;36m_validate_data\u001b[0;34m(self, X, y, reset, validate_separately, **check_params)\u001b[0m\n\u001b[1;32m    579\u001b[0m                 \u001b[0my\u001b[0m \u001b[0;34m=\u001b[0m \u001b[0mcheck_array\u001b[0m\u001b[0;34m(\u001b[0m\u001b[0my\u001b[0m\u001b[0;34m,\u001b[0m \u001b[0;34m**\u001b[0m\u001b[0mcheck_y_params\u001b[0m\u001b[0;34m)\u001b[0m\u001b[0;34m\u001b[0m\u001b[0;34m\u001b[0m\u001b[0m\n\u001b[1;32m    580\u001b[0m             \u001b[0;32melse\u001b[0m\u001b[0;34m:\u001b[0m\u001b[0;34m\u001b[0m\u001b[0;34m\u001b[0m\u001b[0m\n\u001b[0;32m--> 581\u001b[0;31m                 \u001b[0mX\u001b[0m\u001b[0;34m,\u001b[0m \u001b[0my\u001b[0m \u001b[0;34m=\u001b[0m \u001b[0mcheck_X_y\u001b[0m\u001b[0;34m(\u001b[0m\u001b[0mX\u001b[0m\u001b[0;34m,\u001b[0m \u001b[0my\u001b[0m\u001b[0;34m,\u001b[0m \u001b[0;34m**\u001b[0m\u001b[0mcheck_params\u001b[0m\u001b[0;34m)\u001b[0m\u001b[0;34m\u001b[0m\u001b[0;34m\u001b[0m\u001b[0m\n\u001b[0m\u001b[1;32m    582\u001b[0m             \u001b[0mout\u001b[0m \u001b[0;34m=\u001b[0m \u001b[0mX\u001b[0m\u001b[0;34m,\u001b[0m \u001b[0my\u001b[0m\u001b[0;34m\u001b[0m\u001b[0;34m\u001b[0m\u001b[0m\n\u001b[1;32m    583\u001b[0m \u001b[0;34m\u001b[0m\u001b[0m\n",
      "\u001b[0;32m/usr/local/anaconda3/lib/python3.9/site-packages/sklearn/utils/validation.py\u001b[0m in \u001b[0;36mcheck_X_y\u001b[0;34m(X, y, accept_sparse, accept_large_sparse, dtype, order, copy, force_all_finite, ensure_2d, allow_nd, multi_output, ensure_min_samples, ensure_min_features, y_numeric, estimator)\u001b[0m\n\u001b[1;32m    962\u001b[0m         \u001b[0;32mraise\u001b[0m \u001b[0mValueError\u001b[0m\u001b[0;34m(\u001b[0m\u001b[0;34m\"y cannot be None\"\u001b[0m\u001b[0;34m)\u001b[0m\u001b[0;34m\u001b[0m\u001b[0;34m\u001b[0m\u001b[0m\n\u001b[1;32m    963\u001b[0m \u001b[0;34m\u001b[0m\u001b[0m\n\u001b[0;32m--> 964\u001b[0;31m     X = check_array(\n\u001b[0m\u001b[1;32m    965\u001b[0m         \u001b[0mX\u001b[0m\u001b[0;34m,\u001b[0m\u001b[0;34m\u001b[0m\u001b[0;34m\u001b[0m\u001b[0m\n\u001b[1;32m    966\u001b[0m         \u001b[0maccept_sparse\u001b[0m\u001b[0;34m=\u001b[0m\u001b[0maccept_sparse\u001b[0m\u001b[0;34m,\u001b[0m\u001b[0;34m\u001b[0m\u001b[0;34m\u001b[0m\u001b[0m\n",
      "\u001b[0;32m/usr/local/anaconda3/lib/python3.9/site-packages/sklearn/utils/validation.py\u001b[0m in \u001b[0;36mcheck_array\u001b[0;34m(array, accept_sparse, accept_large_sparse, dtype, order, copy, force_all_finite, ensure_2d, allow_nd, ensure_min_samples, ensure_min_features, estimator)\u001b[0m\n\u001b[1;32m    798\u001b[0m \u001b[0;34m\u001b[0m\u001b[0m\n\u001b[1;32m    799\u001b[0m         \u001b[0;32mif\u001b[0m \u001b[0mforce_all_finite\u001b[0m\u001b[0;34m:\u001b[0m\u001b[0;34m\u001b[0m\u001b[0;34m\u001b[0m\u001b[0m\n\u001b[0;32m--> 800\u001b[0;31m             \u001b[0m_assert_all_finite\u001b[0m\u001b[0;34m(\u001b[0m\u001b[0marray\u001b[0m\u001b[0;34m,\u001b[0m \u001b[0mallow_nan\u001b[0m\u001b[0;34m=\u001b[0m\u001b[0mforce_all_finite\u001b[0m \u001b[0;34m==\u001b[0m \u001b[0;34m\"allow-nan\"\u001b[0m\u001b[0;34m)\u001b[0m\u001b[0;34m\u001b[0m\u001b[0;34m\u001b[0m\u001b[0m\n\u001b[0m\u001b[1;32m    801\u001b[0m \u001b[0;34m\u001b[0m\u001b[0m\n\u001b[1;32m    802\u001b[0m     \u001b[0;32mif\u001b[0m \u001b[0mensure_min_samples\u001b[0m \u001b[0;34m>\u001b[0m \u001b[0;36m0\u001b[0m\u001b[0;34m:\u001b[0m\u001b[0;34m\u001b[0m\u001b[0;34m\u001b[0m\u001b[0m\n",
      "\u001b[0;32m/usr/local/anaconda3/lib/python3.9/site-packages/sklearn/utils/validation.py\u001b[0m in \u001b[0;36m_assert_all_finite\u001b[0;34m(X, allow_nan, msg_dtype)\u001b[0m\n\u001b[1;32m    112\u001b[0m         ):\n\u001b[1;32m    113\u001b[0m             \u001b[0mtype_err\u001b[0m \u001b[0;34m=\u001b[0m \u001b[0;34m\"infinity\"\u001b[0m \u001b[0;32mif\u001b[0m \u001b[0mallow_nan\u001b[0m \u001b[0;32melse\u001b[0m \u001b[0;34m\"NaN, infinity\"\u001b[0m\u001b[0;34m\u001b[0m\u001b[0;34m\u001b[0m\u001b[0m\n\u001b[0;32m--> 114\u001b[0;31m             raise ValueError(\n\u001b[0m\u001b[1;32m    115\u001b[0m                 msg_err.format(\n\u001b[1;32m    116\u001b[0m                     \u001b[0mtype_err\u001b[0m\u001b[0;34m,\u001b[0m \u001b[0mmsg_dtype\u001b[0m \u001b[0;32mif\u001b[0m \u001b[0mmsg_dtype\u001b[0m \u001b[0;32mis\u001b[0m \u001b[0;32mnot\u001b[0m \u001b[0;32mNone\u001b[0m \u001b[0;32melse\u001b[0m \u001b[0mX\u001b[0m\u001b[0;34m.\u001b[0m\u001b[0mdtype\u001b[0m\u001b[0;34m\u001b[0m\u001b[0;34m\u001b[0m\u001b[0m\n",
      "\u001b[0;31mValueError\u001b[0m: Input contains NaN, infinity or a value too large for dtype('float64')."
     ]
    }
   ],
   "source": [
    "knn.fit(x_train,y_train)"
   ]
  },
  {
   "cell_type": "markdown",
   "id": "724caaca",
   "metadata": {},
   "source": [
    "## make predictions"
   ]
  },
  {
   "cell_type": "code",
   "execution_count": null,
   "id": "a6ecf773",
   "metadata": {},
   "outputs": [],
   "source": [
    "y_pred = knn.predict(x_train)"
   ]
  },
  {
   "cell_type": "markdown",
   "id": "0f77263e",
   "metadata": {},
   "source": [
    "## estimate probability"
   ]
  },
  {
   "cell_type": "code",
   "execution_count": null,
   "id": "ccd6ad94",
   "metadata": {},
   "outputs": [],
   "source": [
    "y_pred_proba = knn.predict_proba(x_train)\n"
   ]
  },
  {
   "cell_type": "markdown",
   "id": "397d7905",
   "metadata": {},
   "source": [
    "# Evaluate your results using the model score, confusion matrix, and classification report."
   ]
  },
  {
   "cell_type": "markdown",
   "id": "3086fd6b",
   "metadata": {},
   "source": [
    "## score"
   ]
  },
  {
   "cell_type": "code",
   "execution_count": null,
   "id": "5fd4db18",
   "metadata": {},
   "outputs": [],
   "source": [
    "print('Accuracy of KNN classifier on training set: {:.2f}'\n",
    "     .format(knn.score(x_train, y_train)))"
   ]
  },
  {
   "cell_type": "markdown",
   "id": "74a0b44f",
   "metadata": {},
   "source": [
    "## confusion matrix\n"
   ]
  },
  {
   "cell_type": "code",
   "execution_count": null,
   "id": "ca433f7c",
   "metadata": {},
   "outputs": [],
   "source": [
    "cm = confusion_matrix(y_train, y_pred)\n",
    "cm = pd.DataFrame(cm,index = ['actual 0','actual 1'] , columns = ['pred 0','pred 1'])\n",
    "cm"
   ]
  },
  {
   "cell_type": "code",
   "execution_count": null,
   "id": "16561316",
   "metadata": {},
   "outputs": [],
   "source": [
    "tp = 274\n",
    "tn = 133\n",
    "fp = 33\n",
    "fn = 58\n",
    "comb = tp + tn + fp + fn"
   ]
  },
  {
   "cell_type": "markdown",
   "id": "d5a3554b",
   "metadata": {},
   "source": [
    "# Print and clearly label the following: Accuracy, true positive rate, false positive rate, true negative rate, false negative rate, precision, recall, f1-score, and support."
   ]
  },
  {
   "cell_type": "code",
   "execution_count": null,
   "id": "695bc775",
   "metadata": {},
   "outputs": [],
   "source": [
    "accuracy = (tp + tn)/ comb\n",
    "print(f\"Accuracy: {accuracy}\")\n",
    "\n",
    "true_positive_rate = tp/(tp+fn)\n",
    "print(f\"True Positive Rate: {true_positive_rate}\")\n",
    "\n",
    "false_positive_rate = fp/(fp+tn)\n",
    "print(f\"False Positive Rate: {false_positive_rate}\")\n",
    "\n",
    "true_negative_rate = tn/(tn+fp)\n",
    "print(f\"True Negative Rate: {true_negative_rate}\")\n",
    "\n",
    "false_negative_rate = fn/(fn+tp)\n",
    "print(f\"False Negative Rate: {false_negative_rate}\")\n",
    "\n",
    "precision = tp / (tp + fp)\n",
    "print(f\"Precision: {precision}\")\n",
    "\n",
    "recall = tp / (tp + fn)\n",
    "print(f\"Recall: {recall}\")\n",
    "\n",
    "f1_score = 2 * (precision * recall) / (precision + recall)\n",
    "print(f\"F1 Score: {f1_score}\")\n",
    "\n",
    "support_pos = tp + fn\n",
    "print(f\"Support (0): {support_pos}\")\n",
    "\n",
    "support_neg = fp + tn\n",
    "print(f\"Support (1): {support_neg}\")"
   ]
  },
  {
   "cell_type": "markdown",
   "id": "294b736d",
   "metadata": {},
   "source": [
    "## classification report"
   ]
  },
  {
   "cell_type": "code",
   "execution_count": null,
   "id": "9b9a592e",
   "metadata": {},
   "outputs": [],
   "source": [
    "pd.DataFrame(classification_report(y_train,y_pred,output_dict=True))"
   ]
  },
  {
   "cell_type": "markdown",
   "id": "a9990f74",
   "metadata": {},
   "source": [
    "# Run through steps 1-3 setting k to 10"
   ]
  },
  {
   "cell_type": "code",
   "execution_count": null,
   "id": "8c47260d",
   "metadata": {},
   "outputs": [],
   "source": [
    "knn10 = KNeighborsClassifier(n_neighbors=10)"
   ]
  },
  {
   "cell_type": "code",
   "execution_count": null,
   "id": "c819b327",
   "metadata": {},
   "outputs": [],
   "source": [
    "knn10.fit(x_train, y_train)"
   ]
  },
  {
   "cell_type": "code",
   "execution_count": null,
   "id": "753ea198",
   "metadata": {},
   "outputs": [],
   "source": [
    "y10_pred = knn10.predict(x_train)"
   ]
  },
  {
   "cell_type": "code",
   "execution_count": null,
   "id": "8db54515",
   "metadata": {},
   "outputs": [],
   "source": [
    "y10_pred_proba = knn10.predict_proba(x_train)"
   ]
  },
  {
   "cell_type": "code",
   "execution_count": null,
   "id": "4801685f",
   "metadata": {},
   "outputs": [],
   "source": [
    "print('Accuracy of KNN classifier on training set: {:.2f}'\n",
    "     .format(knn10.score(x_train, y_train)))"
   ]
  },
  {
   "cell_type": "code",
   "execution_count": null,
   "id": "7c90d55b",
   "metadata": {},
   "outputs": [],
   "source": [
    "confusion_matrix(y_train, y10_pred)"
   ]
  },
  {
   "cell_type": "code",
   "execution_count": null,
   "id": "4bc30456",
   "metadata": {},
   "outputs": [],
   "source": [
    "tp10 = 279\n",
    "tn10 = 103\n",
    "fp10 = 28\n",
    "fn10 = 88\n"
   ]
  },
  {
   "cell_type": "code",
   "execution_count": null,
   "id": "1ac664f0",
   "metadata": {},
   "outputs": [],
   "source": [
    "comb10 = tp10 + tn10 + fp10 + fn10"
   ]
  },
  {
   "cell_type": "code",
   "execution_count": null,
   "id": "a03e9ed5",
   "metadata": {},
   "outputs": [],
   "source": [
    "print(classification_report(y_train, y10_pred))"
   ]
  },
  {
   "cell_type": "code",
   "execution_count": null,
   "id": "b83ea18f",
   "metadata": {},
   "outputs": [],
   "source": [
    "accuracy10 = (tp10 + tn10)/ comb10\n",
    "print(f\"Accuracy: {accuracy10}\")\n",
    "\n",
    "true_positive_rate10 = tp10/(tp10+fn10)\n",
    "print(f\"True Positive Rate: {true_positive_rate10}\")\n",
    "\n",
    "false_positive_rate10 = fp10/(fp10+tn10)\n",
    "print(f\"False Positive Rate: {false_positive_rate10}\")\n",
    "\n",
    "true_negative_rate10 = tn10/(tn10+fp10)\n",
    "print(f\"True Negative Rate: {true_negative_rate10}\")\n",
    "\n",
    "false_negative_rate10 = fn10/(fn10+tp10)\n",
    "print(f\"False Negative Rate: {false_negative_rate10}\")\n",
    "\n",
    "precision10 = tp10 / (tp10 + fp10)\n",
    "print(f\"Precision: {precision10}\")\n",
    "\n",
    "recall10 = tp10 / (tp10 + fn10)\n",
    "print(f\"Recall: {recall10}\")\n",
    "\n",
    "f1_score10 = 2 * (precision10 * recall10) / (precision10 + recall10)\n",
    "print(f\"F1 Score: {f1_score10}\")\n",
    "\n",
    "support_pos10 = tp10 + fn10\n",
    "print(f\"Support (0): {support_pos10}\")\n",
    "\n",
    "support_neg10 = fp10 + tn10\n",
    "print(f\"Support (1): {support_neg10}\")"
   ]
  },
  {
   "cell_type": "markdown",
   "id": "2e571dab",
   "metadata": {},
   "source": [
    "## CLASS FUNCTION"
   ]
  },
  {
   "cell_type": "code",
   "execution_count": null,
   "id": "50a86185",
   "metadata": {},
   "outputs": [],
   "source": [
    "def knn_fit_predict(k, x_train, y_train, x_validate):\n",
    "   \n",
    "    knn = KNeighborsClassifier(n_neighbors=k)\n",
    "\n",
    "    # create the model\n",
    "    knn.fit(x_train, y_train)\n",
    "\n",
    "    # run the model\n",
    "    y_train_pred = knn.predict(x_train)\n",
    "    y_validate_pred = knn.predict(x_validate)\n",
    "    \n",
    "    return knn, y_train_pred, y_validate_pred"
   ]
  },
  {
   "cell_type": "code",
   "execution_count": null,
   "id": "4d2c3fab",
   "metadata": {},
   "outputs": [],
   "source": [
    "def evaluate_clf(model, x, y, y_pred):\n",
    "    \n",
    "    # model score\n",
    "    \n",
    "    accuracy = model.score(x, y)\n",
    "    print(f'Accuracy: {accuracy}')\n",
    "\n",
    "    # confusion matrix\n",
    "    \n",
    "    cm = confusion_matrix(y, y_pred)\n",
    "    print('Confusion Matrix')\n",
    "    print(pd.DataFrame(cm, index=['Actual 0', 'Actual 1'], \n",
    "                       columns=['Pred 0', 'Pred 1']))\n",
    "\n",
    "    # classification report\n",
    "    print('Classification Report')\n",
    "    print(pd.DataFrame(classification_report(y, y_pred,\n",
    "                                             output_dict=True)))\n",
    "    \n",
    "    \n",
    "    return accuracy"
   ]
  },
  {
   "cell_type": "markdown",
   "id": "05424c57",
   "metadata": {},
   "source": [
    "# k = 10"
   ]
  },
  {
   "cell_type": "code",
   "execution_count": null,
   "id": "f9ed08ca",
   "metadata": {},
   "outputs": [],
   "source": [
    "k = 10\n",
    "\n",
    "\n",
    "knn, y_train_pred, y_validate_pred = knn_fit_predict(k, \n",
    "                                                     x_train, \n",
    "                                                     y_train, \n",
    "                                                     x_validate)"
   ]
  },
  {
   "cell_type": "code",
   "execution_count": null,
   "id": "02c85170",
   "metadata": {},
   "outputs": [],
   "source": [
    "print('Train Evaluation\\n')\n",
    "train_accuracy = evaluate_clf(knn, x_train, y_train, y_train_pred)\n",
    "\n",
    "print('\\nValidate Evaluation\\n')\n",
    "validate_accuracy = evaluate_clf(knn, x_validate, \n",
    "                                 y_validate, y_validate_pred)"
   ]
  },
  {
   "cell_type": "markdown",
   "id": "45c30912",
   "metadata": {},
   "source": [
    "# Run through steps 1-3 setting k to 20"
   ]
  },
  {
   "cell_type": "code",
   "execution_count": null,
   "id": "7b179903",
   "metadata": {},
   "outputs": [],
   "source": [
    "k = 20\n",
    "\n",
    "knn, y_train_pred, y_validate_pred = knn_fit_predict(k, \n",
    "                                                     x_train, \n",
    "                                                     y_train, \n",
    "                                                     x_validate)\n",
    "\n",
    "print('Train Evaluation\\n')\n",
    "train_accuracy = evaluate_clf(knn, x_train, y_train, y_train_pred)\n",
    "\n",
    "print('\\nValidate Evaluation\\n')\n",
    "validate_accuracy = evaluate_clf(knn, x_validate, \n",
    "                                 y_validate, y_validate_pred)"
   ]
  },
  {
   "cell_type": "code",
   "execution_count": null,
   "id": "1a553c22",
   "metadata": {},
   "outputs": [],
   "source": [
    "accuracy20 = (tp20 + tn20)/ comb20\n",
    "print(f\"Accuracy: {accuracy10}\")\n",
    "\n",
    "true_positive_rate20 = tp20/(tp20+fn20)\n",
    "print(f\"True Positive Rate: {true_positive_rate20}\")\n",
    "\n",
    "false_positive_rate20 = fp20/(fp20+tn20)\n",
    "print(f\"False Positive Rate: {false_positive_rate20}\")\n",
    "\n",
    "true_negative_rate20 = tn20/(tn20+fp20)\n",
    "print(f\"True Negative Rate: {true_negative_rate20}\")\n",
    "\n",
    "false_negative_rate20 = fn20/(fn20+tp20)\n",
    "print(f\"False Negative Rate: {false_negative_rate20}\")\n",
    "\n",
    "precision20 = tp20 / (tp20 + fp20)\n",
    "print(f\"Precision: {precision20}\")\n",
    "\n",
    "recall20 = tp20 / (tp20 + fn20)\n",
    "print(f\"Recall: {recall20}\")\n",
    "\n",
    "f1_score20 = 2 * (precision20 * recall20) / (precision20 + recall20)\n",
    "print(f\"F1 Score: {f1_score10}\")\n",
    "\n",
    "support_pos20 = tp20 + fn20\n",
    "print(f\"Support (0): {support_pos20}\")\n",
    "\n",
    "support_neg20 = fp20 + tn20\n",
    "print(f\"Support (1): {support_neg20}\")"
   ]
  },
  {
   "cell_type": "markdown",
   "id": "8e2e5f47",
   "metadata": {},
   "source": [
    "# What are the differences in the evaluation metrics? Which performs better on your in-sample data? Why?"
   ]
  },
  {
   "cell_type": "code",
   "execution_count": null,
   "id": "4c12adec",
   "metadata": {},
   "outputs": [],
   "source": [
    "# the f1 score is better where k = 20"
   ]
  },
  {
   "cell_type": "markdown",
   "id": "2484691f",
   "metadata": {},
   "source": [
    "# Which model performs best on our out-of-sample data from validate?"
   ]
  },
  {
   "cell_type": "code",
   "execution_count": null,
   "id": "d20bc692",
   "metadata": {},
   "outputs": [],
   "source": [
    "# the k = 10 works best all around in and out of sample"
   ]
  },
  {
   "cell_type": "code",
   "execution_count": null,
   "id": "1a9d38e2",
   "metadata": {},
   "outputs": [],
   "source": []
  }
 ],
 "metadata": {
  "kernelspec": {
   "display_name": "Python 3 (ipykernel)",
   "language": "python",
   "name": "python3"
  },
  "language_info": {
   "codemirror_mode": {
    "name": "ipython",
    "version": 3
   },
   "file_extension": ".py",
   "mimetype": "text/x-python",
   "name": "python",
   "nbconvert_exporter": "python",
   "pygments_lexer": "ipython3",
   "version": "3.9.13"
  },
  "toc": {
   "base_numbering": 1,
   "nav_menu": {},
   "number_sections": true,
   "sideBar": true,
   "skip_h1_title": false,
   "title_cell": "Table of Contents",
   "title_sidebar": "Contents",
   "toc_cell": false,
   "toc_position": {},
   "toc_section_display": true,
   "toc_window_display": false
  }
 },
 "nbformat": 4,
 "nbformat_minor": 5
}
