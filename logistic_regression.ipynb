{
 "cells": [
  {
   "cell_type": "markdown",
   "id": "1218cfd6",
   "metadata": {},
   "source": [
    "# import"
   ]
  },
  {
   "cell_type": "code",
   "execution_count": 1,
   "id": "a05ab7f6",
   "metadata": {},
   "outputs": [],
   "source": [
    " # ignore warnings\n",
    "import warnings\n",
    "warnings.filterwarnings(\"ignore\")\n",
    "\n",
    "import pandas as pd\n",
    "import numpy as np\n",
    "\n",
    "%matplotlib inline\n",
    "import matplotlib.pyplot as plt\n",
    "import seaborn as sns\n",
    "from pydataset import data\n",
    "\n",
    "from sklearn.linear_model import LogisticRegression\n",
    "from sklearn.metrics import classification_report, confusion_matrix\n",
    "\n",
    "\n",
    "import env\n",
    "import os\n",
    "import acquire\n",
    "import prepare"
   ]
  },
  {
   "cell_type": "markdown",
   "id": "863e8c5a",
   "metadata": {},
   "source": [
    "# acquire"
   ]
  },
  {
   "cell_type": "code",
   "execution_count": 2,
   "id": "c6098b30",
   "metadata": {},
   "outputs": [],
   "source": [
    "titanic = acquire.get_titanic_data(acquire.get_connection)"
   ]
  },
  {
   "cell_type": "code",
   "execution_count": 3,
   "id": "91d4102c",
   "metadata": {},
   "outputs": [],
   "source": [
    "titanic = prepare.prep_titanic(titanic)"
   ]
  },
  {
   "cell_type": "code",
   "execution_count": 4,
   "id": "fb1b0d38",
   "metadata": {
    "scrolled": true
   },
   "outputs": [],
   "source": [
    "titanic = titanic.dropna()"
   ]
  },
  {
   "cell_type": "markdown",
   "id": "e3a84a3d",
   "metadata": {},
   "source": [
    "# split"
   ]
  },
  {
   "cell_type": "code",
   "execution_count": 5,
   "id": "c51ce275",
   "metadata": {},
   "outputs": [],
   "source": [
    "train,validate,test = prepare.split_data(titanic,'survived')"
   ]
  },
  {
   "cell_type": "markdown",
   "id": "5706f335",
   "metadata": {},
   "source": [
    "# x and y data"
   ]
  },
  {
   "cell_type": "code",
   "execution_count": 6,
   "id": "4eaeb649",
   "metadata": {},
   "outputs": [],
   "source": [
    "x_train = train.drop(columns=['survived','sex','embark_town'])\n",
    "y_train = train.survived\n",
    "\n",
    "x_validate = validate.drop(columns=['survived','sex','embark_town'])\n",
    "y_validate = validate.survived\n",
    "\n",
    "x_test = test.drop(columns=['survived','sex','embark_town'])\n",
    "y_test = test.survived"
   ]
  },
  {
   "cell_type": "code",
   "execution_count": 7,
   "id": "9f56123e",
   "metadata": {},
   "outputs": [
    {
     "data": {
      "text/plain": [
       "((399, 9), (172, 9), (143, 9))"
      ]
     },
     "execution_count": 7,
     "metadata": {},
     "output_type": "execute_result"
    }
   ],
   "source": [
    "x_train.shape,x_validate.shape,x_test.shape"
   ]
  },
  {
   "cell_type": "markdown",
   "id": "54f0d7ef",
   "metadata": {},
   "source": [
    "# Create a model that includes only age, fare, and pclass. Does this model perform better than your baseline?"
   ]
  },
  {
   "cell_type": "code",
   "execution_count": 8,
   "id": "78955274",
   "metadata": {},
   "outputs": [],
   "source": [
    "def est_baseline(y_train):\n",
    "    #  establish the value we will predict for all observations\n",
    "    baseline_pred = y_train.mode()\n",
    "    \n",
    "    # create a series of predictions with that value(length of training set)\n",
    "    y_train_pred = pd.Series([0]*len(y_train))\n",
    "    \n",
    "    # compute accuracy of baseline\n",
    "    cm = confusion_matrix(y_train, y_train_pred)\n",
    "    tn, fp, fn, tp = cm.ravel()\n",
    "    \n",
    "    accuracy = (tp+tn)/(tn+fp+fn+tp)\n",
    "    return accuracy"
   ]
  },
  {
   "cell_type": "code",
   "execution_count": 9,
   "id": "a42ffecc",
   "metadata": {},
   "outputs": [],
   "source": [
    "baseline_accuracy = est_baseline(y_train)"
   ]
  },
  {
   "cell_type": "code",
   "execution_count": 10,
   "id": "b7300e3d",
   "metadata": {},
   "outputs": [
    {
     "data": {
      "text/plain": [
       "0.5939849624060151"
      ]
     },
     "execution_count": 10,
     "metadata": {},
     "output_type": "execute_result"
    }
   ],
   "source": [
    "baseline_accuracy"
   ]
  },
  {
   "cell_type": "code",
   "execution_count": 11,
   "id": "eb41dff1",
   "metadata": {},
   "outputs": [],
   "source": [
    "# log reg object\n",
    "logit1 = LogisticRegression(C=1, \n",
    "                            random_state=123,\n",
    "                            intercept_scaling=1,\n",
    "                            solver='liblinear')\n"
   ]
  },
  {
   "cell_type": "code",
   "execution_count": 12,
   "id": "f37924de",
   "metadata": {},
   "outputs": [
    {
     "data": {
      "text/plain": [
       "LogisticRegression(C=1, random_state=123, solver='liblinear')"
      ]
     },
     "execution_count": 12,
     "metadata": {},
     "output_type": "execute_result"
    }
   ],
   "source": [
    "# fit model\n",
    "logit1.fit(x_train[['age','pclass','fare']],\n",
    "          y_train)"
   ]
  },
  {
   "cell_type": "code",
   "execution_count": 13,
   "id": "9cdc9c30",
   "metadata": {},
   "outputs": [],
   "source": [
    "# compute accuracy\n",
    "train_accuracy = logit1.score(x_train[['age', 'pclass', 'fare']], \n",
    "                             y_train)"
   ]
  },
  {
   "cell_type": "code",
   "execution_count": 14,
   "id": "3e0ea4f7",
   "metadata": {},
   "outputs": [
    {
     "data": {
      "text/plain": [
       "0.7117794486215538"
      ]
     },
     "execution_count": 14,
     "metadata": {},
     "output_type": "execute_result"
    }
   ],
   "source": [
    "train_accuracy"
   ]
  },
  {
   "cell_type": "code",
   "execution_count": 15,
   "id": "ef17e9a8",
   "metadata": {},
   "outputs": [
    {
     "name": "stdout",
     "output_type": "stream",
     "text": [
      "Train Accuracy: 0.7117794486215538\n",
      "Baseline Accuracy: 0.5939849624060151\n"
     ]
    }
   ],
   "source": [
    "# compare this model with baseline\n",
    "print(f'Train Accuracy: {train_accuracy}')\n",
    "print(f'Baseline Accuracy: {baseline_accuracy}')\n"
   ]
  },
  {
   "cell_type": "markdown",
   "id": "0d4f3881",
   "metadata": {},
   "source": [
    "# Include sex in your model as well. Note that you'll need to encode or create a dummy variable of this feature before including it in a model."
   ]
  },
  {
   "cell_type": "code",
   "execution_count": 16,
   "id": "a3946695",
   "metadata": {},
   "outputs": [],
   "source": [
    "# log reg object\n",
    "logit2 = LogisticRegression(C=1, \n",
    "                            random_state=123,\n",
    "                            intercept_scaling=1,\n",
    "                            solver='liblinear')\n"
   ]
  },
  {
   "cell_type": "code",
   "execution_count": 17,
   "id": "3e20d13a",
   "metadata": {},
   "outputs": [
    {
     "data": {
      "text/plain": [
       "LogisticRegression(C=1, random_state=123, solver='liblinear')"
      ]
     },
     "execution_count": 17,
     "metadata": {},
     "output_type": "execute_result"
    }
   ],
   "source": [
    "# fit model with age, pclass, fare and sex_male as only features\n",
    "logit2.fit(x_train[['age', 'pclass', 'fare', 'sex_male']], \n",
    "          y_train)"
   ]
  },
  {
   "cell_type": "code",
   "execution_count": 18,
   "id": "74fc25b7",
   "metadata": {},
   "outputs": [],
   "source": [
    "# compute accuracy\n",
    "train_accuracy = logit2.score(x_train[['age', 'pclass', 'fare', 'sex_male']], \n",
    "                             y_train)"
   ]
  },
  {
   "cell_type": "code",
   "execution_count": 19,
   "id": "510b6b8d",
   "metadata": {},
   "outputs": [
    {
     "name": "stdout",
     "output_type": "stream",
     "text": [
      "Train Accuracy: 0.7969924812030075\n",
      "Baseline Accuracy: 0.5939849624060151\n"
     ]
    }
   ],
   "source": [
    "# compare this model with baseline\n",
    "print(f'Train Accuracy: {train_accuracy}')\n",
    "print(f'Baseline Accuracy: {baseline_accuracy}')"
   ]
  },
  {
   "cell_type": "markdown",
   "id": "9a90cb71",
   "metadata": {},
   "source": [
    "# Try out other combinations of features and models."
   ]
  },
  {
   "cell_type": "code",
   "execution_count": null,
   "id": "dad762e8",
   "metadata": {},
   "outputs": [],
   "source": []
  },
  {
   "cell_type": "markdown",
   "id": "264de109",
   "metadata": {},
   "source": [
    "## model 3"
   ]
  },
  {
   "cell_type": "code",
   "execution_count": 20,
   "id": "16ade207",
   "metadata": {},
   "outputs": [],
   "source": [
    "# create algorithm object\n",
    "logit3 = LogisticRegression(C=1, \n",
    "                           random_state=123, \n",
    "                           intercept_scaling=1, \n",
    "                           solver= 'liblinear'\n",
    "                                              )"
   ]
  },
  {
   "cell_type": "code",
   "execution_count": 21,
   "id": "74f4da10",
   "metadata": {},
   "outputs": [
    {
     "data": {
      "text/plain": [
       "LogisticRegression(C=1, random_state=123, solver='liblinear')"
      ]
     },
     "execution_count": 21,
     "metadata": {},
     "output_type": "execute_result"
    }
   ],
   "source": [
    "# fit model with all features\n",
    "logit3.fit(x_train, y_train)"
   ]
  },
  {
   "cell_type": "code",
   "execution_count": 22,
   "id": "932bfadb",
   "metadata": {},
   "outputs": [],
   "source": [
    "# compute accuracy\n",
    "train_acc3 = logit3.score(x_train, y_train)"
   ]
  },
  {
   "cell_type": "code",
   "execution_count": 23,
   "id": "e278238e",
   "metadata": {},
   "outputs": [
    {
     "name": "stdout",
     "output_type": "stream",
     "text": [
      "Train Accuracy: 0.8045112781954887\n",
      "Baseline Accuracy: 0.5939849624060151\n"
     ]
    }
   ],
   "source": [
    "# compare this model with baseline\n",
    "print(f'Train Accuracy: {train_acc3}')\n",
    "print(f'Baseline Accuracy: {baseline_accuracy}')"
   ]
  },
  {
   "cell_type": "markdown",
   "id": "7d36ef8a",
   "metadata": {},
   "source": [
    "## model 4"
   ]
  },
  {
   "cell_type": "code",
   "execution_count": 24,
   "id": "7ba5a4d3",
   "metadata": {},
   "outputs": [],
   "source": [
    "# create algorithm object\n",
    "logit4 = LogisticRegression(C=1, \n",
    "                           random_state=123, \n",
    "                           intercept_scaling=1, \n",
    "                           solver='lbfgs'\n",
    "                          )"
   ]
  },
  {
   "cell_type": "code",
   "execution_count": 25,
   "id": "b35e0d0e",
   "metadata": {},
   "outputs": [
    {
     "data": {
      "text/plain": [
       "LogisticRegression(C=1, random_state=123)"
      ]
     },
     "execution_count": 25,
     "metadata": {},
     "output_type": "execute_result"
    }
   ],
   "source": [
    "# fit model with all features\n",
    "logit4.fit(x_train, y_train)"
   ]
  },
  {
   "cell_type": "code",
   "execution_count": 26,
   "id": "30893d8f",
   "metadata": {},
   "outputs": [],
   "source": [
    "# compute accuracy\n",
    "train_acc4 = logit4.score(x_train, y_train)"
   ]
  },
  {
   "cell_type": "code",
   "execution_count": 27,
   "id": "57bca4a5",
   "metadata": {},
   "outputs": [
    {
     "name": "stdout",
     "output_type": "stream",
     "text": [
      "Train Accuracy: 0.8145363408521303\n",
      "Baseline Accuracy: 0.5939849624060151\n"
     ]
    }
   ],
   "source": [
    "# compare this model with baseline\n",
    "print(f'Train Accuracy: {train_acc4}')\n",
    "print(f'Baseline Accuracy: {baseline_accuracy}')"
   ]
  },
  {
   "cell_type": "markdown",
   "id": "e69f9137",
   "metadata": {},
   "source": [
    "## model 5"
   ]
  },
  {
   "cell_type": "code",
   "execution_count": 28,
   "id": "4e819bf3",
   "metadata": {},
   "outputs": [],
   "source": [
    "logit5 = LogisticRegression(C=1,\n",
    "                            class_weight='balanced',\n",
    "                            random_state=123, \n",
    "                            intercept_scaling=1, \n",
    "                            solver='lbfgs'\n",
    "                           )"
   ]
  },
  {
   "cell_type": "code",
   "execution_count": 29,
   "id": "ab2d08ab",
   "metadata": {},
   "outputs": [
    {
     "data": {
      "text/plain": [
       "LogisticRegression(C=1, class_weight='balanced', random_state=123)"
      ]
     },
     "execution_count": 29,
     "metadata": {},
     "output_type": "execute_result"
    }
   ],
   "source": [
    "# fit model with all features\n",
    "logit5.fit(x_train, y_train)"
   ]
  },
  {
   "cell_type": "code",
   "execution_count": 30,
   "id": "d91794f8",
   "metadata": {},
   "outputs": [],
   "source": [
    "# compute accuracy\n",
    "train_acc5 = logit5.score(x_train, y_train)"
   ]
  },
  {
   "cell_type": "code",
   "execution_count": 31,
   "id": "5fb2e0e7",
   "metadata": {},
   "outputs": [
    {
     "name": "stdout",
     "output_type": "stream",
     "text": [
      "Train Accuracy: 0.8070175438596491\n",
      "Baseline Accuracy: 0.5939849624060151\n"
     ]
    }
   ],
   "source": [
    "# compare this model with baseline\n",
    "print(f'Train Accuracy: {train_acc5}')\n",
    "print(f'Baseline Accuracy: {baseline_accuracy}')"
   ]
  },
  {
   "cell_type": "markdown",
   "id": "6017f8ad",
   "metadata": {},
   "source": [
    "## model 6"
   ]
  },
  {
   "cell_type": "code",
   "execution_count": 32,
   "id": "c4c5a050",
   "metadata": {},
   "outputs": [],
   "source": [
    "# create algorithm object\n",
    "logit6 = LogisticRegression(C=0.1,\n",
    "                            random_state=123, \n",
    "                            intercept_scaling=1, \n",
    "                            solver='lbfgs'\n",
    "                           )"
   ]
  },
  {
   "cell_type": "code",
   "execution_count": 33,
   "id": "69c99a52",
   "metadata": {},
   "outputs": [
    {
     "data": {
      "text/plain": [
       "LogisticRegression(C=0.1, random_state=123)"
      ]
     },
     "execution_count": 33,
     "metadata": {},
     "output_type": "execute_result"
    }
   ],
   "source": [
    "# fit model with all features\n",
    "logit6.fit(x_train, y_train)"
   ]
  },
  {
   "cell_type": "code",
   "execution_count": 34,
   "id": "79c6bd9d",
   "metadata": {},
   "outputs": [],
   "source": [
    "# compute accuracy\n",
    "train_acc6 = logit6.score(x_train, y_train)"
   ]
  },
  {
   "cell_type": "code",
   "execution_count": 35,
   "id": "f19e9d43",
   "metadata": {},
   "outputs": [
    {
     "name": "stdout",
     "output_type": "stream",
     "text": [
      "Train Accuracy: 0.8145363408521303\n",
      "Baseline Accuracy: 0.5939849624060151\n"
     ]
    }
   ],
   "source": [
    "# compare this model with baseline\n",
    "print(f'Train Accuracy: {train_acc6}')\n",
    "print(f'Baseline Accuracy: {baseline_accuracy}')"
   ]
  },
  {
   "cell_type": "markdown",
   "id": "e8f87ee4",
   "metadata": {},
   "source": [
    "# Use you best 3 models to predict and evaluate on your validate sample."
   ]
  },
  {
   "cell_type": "code",
   "execution_count": 36,
   "id": "7ddba5ef",
   "metadata": {},
   "outputs": [
    {
     "data": {
      "text/html": [
       "<div>\n",
       "<style scoped>\n",
       "    .dataframe tbody tr th:only-of-type {\n",
       "        vertical-align: middle;\n",
       "    }\n",
       "\n",
       "    .dataframe tbody tr th {\n",
       "        vertical-align: top;\n",
       "    }\n",
       "\n",
       "    .dataframe thead th {\n",
       "        text-align: right;\n",
       "    }\n",
       "</style>\n",
       "<table border=\"1\" class=\"dataframe\">\n",
       "  <thead>\n",
       "    <tr style=\"text-align: right;\">\n",
       "      <th></th>\n",
       "      <th>model</th>\n",
       "      <th>in-sample accuracy</th>\n",
       "      <th>out-of-sample accuracy</th>\n",
       "    </tr>\n",
       "  </thead>\n",
       "  <tbody>\n",
       "    <tr>\n",
       "      <th>0</th>\n",
       "      <td>4</td>\n",
       "      <td>0.814536</td>\n",
       "      <td>0.819767</td>\n",
       "    </tr>\n",
       "    <tr>\n",
       "      <th>1</th>\n",
       "      <td>5</td>\n",
       "      <td>0.807018</td>\n",
       "      <td>0.831395</td>\n",
       "    </tr>\n",
       "    <tr>\n",
       "      <th>2</th>\n",
       "      <td>6</td>\n",
       "      <td>0.814536</td>\n",
       "      <td>0.831395</td>\n",
       "    </tr>\n",
       "  </tbody>\n",
       "</table>\n",
       "</div>"
      ],
      "text/plain": [
       "   model  in-sample accuracy  out-of-sample accuracy\n",
       "0      4            0.814536                0.819767\n",
       "1      5            0.807018                0.831395\n",
       "2      6            0.814536                0.831395"
      ]
     },
     "execution_count": 36,
     "metadata": {},
     "output_type": "execute_result"
    }
   ],
   "source": [
    "# model 3 = .807# use logit4 to make predictions for the X_validate observations\n",
    "y_val_pred4 = logit4.predict(x_validate)\n",
    "\n",
    "# compute accuracy\n",
    "val_acc4 = logit4.score(x_validate, y_validate)\n",
    "\n",
    "# create a list of model_number, training accuracy, validate accuracy\n",
    "\n",
    "# to add to a dataframe at the end comparing all the models. \n",
    "model4 = [4, train_acc4, val_acc4]\n",
    "\n",
    "# use logit5 to make predictions for the X_validate observations\n",
    "y_val_pred5 = logit5.predict(x_validate)\n",
    "\n",
    "# compute accuracy\n",
    "val_acc5 = logit5.score(x_validate, y_validate)\n",
    "\n",
    "# create a list of model_number, training accuracy, validate accuracy\n",
    "\n",
    "# to add to a dataframe at the end comparing all the models. \n",
    "model5 = [5, train_acc5, val_acc5]\n",
    "\n",
    "# use logit6 to make predictions for the X_validate observations\n",
    "y_val_pred6 = logit6.predict(x_validate)\n",
    "\n",
    "# compute accuracy\n",
    "val_acc6 = logit6.score(x_validate, y_validate)\n",
    "\n",
    "# create a list of model_number, training accuracy, validate accuracy\n",
    "\n",
    "# to add to a dataframe at the end comparing all the models. \n",
    "model6 = [6, train_acc6, val_acc6]\n",
    "\n",
    "pd.DataFrame([model4, model5, model6], columns=['model', \n",
    "                                                'in-sample accuracy',\n",
    "                                                'out-of-sample accuracy'\n",
    "                                               ])\n",
    "# model 4 = .824\n",
    "# model 5 = .812\n",
    "# model 6 = .827"
   ]
  },
  {
   "cell_type": "code",
   "execution_count": 37,
   "id": "01090356",
   "metadata": {},
   "outputs": [],
   "source": [
    "# model 6 performs the best in and out of sample"
   ]
  },
  {
   "cell_type": "markdown",
   "id": "f6344518",
   "metadata": {},
   "source": [
    "# Choose you best model from the validation performation, and evaluate it on the test dataset. How do the performance metrics compare to validate? to train?"
   ]
  },
  {
   "cell_type": "code",
   "execution_count": 39,
   "id": "78fe558c",
   "metadata": {},
   "outputs": [],
   "source": [
    "y_test_pred = logit6.predict(x_test)"
   ]
  },
  {
   "cell_type": "code",
   "execution_count": 41,
   "id": "d9a98528",
   "metadata": {},
   "outputs": [],
   "source": [
    "test_acc = logit6.score(x_test,y_test)"
   ]
  },
  {
   "cell_type": "code",
   "execution_count": 42,
   "id": "bfd2a1a3",
   "metadata": {},
   "outputs": [
    {
     "data": {
      "text/plain": [
       "0.7622377622377622"
      ]
     },
     "execution_count": 42,
     "metadata": {},
     "output_type": "execute_result"
    }
   ],
   "source": [
    "test_acc"
   ]
  },
  {
   "cell_type": "code",
   "execution_count": 43,
   "id": "261ed67b",
   "metadata": {},
   "outputs": [],
   "source": [
    "log_coeffs = pd.DataFrame(logit6.coef_[0], index = x_test.columns,\n",
    "                          columns = ['coeffs']).sort_values(by = 'coeffs', ascending = True)\n"
   ]
  },
  {
   "cell_type": "code",
   "execution_count": 46,
   "id": "baf8536d",
   "metadata": {},
   "outputs": [
    {
     "data": {
      "text/html": [
       "<div>\n",
       "<style scoped>\n",
       "    .dataframe tbody tr th:only-of-type {\n",
       "        vertical-align: middle;\n",
       "    }\n",
       "\n",
       "    .dataframe tbody tr th {\n",
       "        vertical-align: top;\n",
       "    }\n",
       "\n",
       "    .dataframe thead th {\n",
       "        text-align: right;\n",
       "    }\n",
       "</style>\n",
       "<table border=\"1\" class=\"dataframe\">\n",
       "  <thead>\n",
       "    <tr style=\"text-align: right;\">\n",
       "      <th></th>\n",
       "      <th>coeffs</th>\n",
       "    </tr>\n",
       "  </thead>\n",
       "  <tbody>\n",
       "    <tr>\n",
       "      <th>sex_male</th>\n",
       "      <td>0.231529</td>\n",
       "    </tr>\n",
       "    <tr>\n",
       "      <th>pclass</th>\n",
       "      <td>0.488580</td>\n",
       "    </tr>\n",
       "    <tr>\n",
       "      <th>alone</th>\n",
       "      <td>0.620583</td>\n",
       "    </tr>\n",
       "    <tr>\n",
       "      <th>sibsp</th>\n",
       "      <td>0.705055</td>\n",
       "    </tr>\n",
       "    <tr>\n",
       "      <th>embark_town_Southampton</th>\n",
       "      <td>0.813727</td>\n",
       "    </tr>\n",
       "    <tr>\n",
       "      <th>parch</th>\n",
       "      <td>0.931367</td>\n",
       "    </tr>\n",
       "    <tr>\n",
       "      <th>age</th>\n",
       "      <td>0.961602</td>\n",
       "    </tr>\n",
       "    <tr>\n",
       "      <th>embark_town_Queenstown</th>\n",
       "      <td>0.979220</td>\n",
       "    </tr>\n",
       "    <tr>\n",
       "      <th>fare</th>\n",
       "      <td>1.005638</td>\n",
       "    </tr>\n",
       "  </tbody>\n",
       "</table>\n",
       "</div>"
      ],
      "text/plain": [
       "                           coeffs\n",
       "sex_male                 0.231529\n",
       "pclass                   0.488580\n",
       "alone                    0.620583\n",
       "sibsp                    0.705055\n",
       "embark_town_Southampton  0.813727\n",
       "parch                    0.931367\n",
       "age                      0.961602\n",
       "embark_town_Queenstown   0.979220\n",
       "fare                     1.005638"
      ]
     },
     "execution_count": 46,
     "metadata": {},
     "output_type": "execute_result"
    }
   ],
   "source": [
    "odds = np.exp(log_coeffs)\n",
    "odds"
   ]
  },
  {
   "cell_type": "code",
   "execution_count": null,
   "id": "c7ee6a06",
   "metadata": {},
   "outputs": [],
   "source": [
    "# Create an array of probabilities of surviving\n",
    "\n",
    "y_pred_proba = logit6.predict_proba(x_test)"
   ]
  },
  {
   "cell_type": "code",
   "execution_count": 61,
   "id": "c3ca6740",
   "metadata": {},
   "outputs": [
    {
     "data": {
      "image/png": "[encoded data removed]",
      "text/plain": [
       "<Figure size 640x480 with 1 Axes>"
      ]
     },
     "metadata": {},
     "output_type": "display_data"
    }
   ],
   "source": [
    "# select the 2nd item in the array to get prob of survival (1)\n",
    "y_pred_proba = np.array([i[1] for i in y_pred_proba])\n",
    "\n",
    "test_results = pd.DataFrame({'probability': y_pred_proba, \n",
    "                             'prediction': y_test_pred,\n",
    "                             'actual': y_test})\n",
    "\n",
    "sns.scatterplot(x='probability', y='prediction', \n",
    "                data=test_results, \n",
    "                hue='actual'\n",
    "               )\n",
    "plt.show()"
   ]
  },
  {
   "cell_type": "code",
   "execution_count": null,
   "id": "ab94617b",
   "metadata": {},
   "outputs": [],
   "source": []
  }
 ],
 "metadata": {
  "kernelspec": {
   "display_name": "Python 3 (ipykernel)",
   "language": "python",
   "name": "python3"
  },
  "language_info": {
   "codemirror_mode": {
    "name": "ipython",
    "version": 3
   },
   "file_extension": ".py",
   "mimetype": "text/x-python",
   "name": "python",
   "nbconvert_exporter": "python",
   "pygments_lexer": "ipython3",
   "version": "3.9.13"
  },
  "toc": {
   "base_numbering": 1,
   "nav_menu": {},
   "number_sections": true,
   "sideBar": true,
   "skip_h1_title": false,
   "title_cell": "Table of Contents",
   "title_sidebar": "Contents",
   "toc_cell": false,
   "toc_position": {},
   "toc_section_display": true,
   "toc_window_display": false
  }
 },
 "nbformat": 4,
 "nbformat_minor": 5
}
